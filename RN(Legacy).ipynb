{
  "cells": [
    {
      "cell_type": "markdown",
      "metadata": {
        "id": "AGFv3plfIw0p"
      },
      "source": [
        "# Análise de Concessão de Crédito\n",
        "###Professor: Germano Vasconcelos\n",
        "\n",
        "\n",
        "---\n",
        "\n",
        "\n",
        "Alunos:\n",
        "<br>\n",
        "Felipe Jun Ting Lin - fjtl2@cin.ufpe.br\n",
        "<br>\n",
        "João Gabriel Vasconcelos - jgav@cin.ufpe.br\n",
        "<br>\n",
        "Maria Eduarda Mota - mebm@cin.ufpe.br\n",
        "<br>\n",
        "Rafael Bernardo Nunes Neto - rbnn@cin.ufpe.br"
      ]
    },
    {
      "cell_type": "code",
      "execution_count": null,
      "metadata": {
        "colab": {
          "base_uri": "https://localhost:8080/"
        },
        "id": "TpOs_bQmHlKf",
        "outputId": "1968edaf-e6d6-4dd1-820b-bed80f088c89"
      },
      "outputs": [
        {
          "output_type": "stream",
          "name": "stdout",
          "text": [
            "Drive already mounted at /content/drive; to attempt to forcibly remount, call drive.mount(\"/content/drive\", force_remount=True).\n"
          ]
        }
      ],
      "source": [
        "from google.colab import drive\n",
        "drive.mount('/content/drive')"
      ]
    },
    {
      "cell_type": "code",
      "execution_count": null,
      "metadata": {
        "colab": {
          "base_uri": "https://localhost:8080/"
        },
        "id": "Uc5QXqhkNdGX",
        "outputId": "2dcef6d6-0dce-4bc3-e47b-2447892e2d21"
      },
      "outputs": [
        {
          "output_type": "stream",
          "name": "stdout",
          "text": [
            "Looking in indexes: https://pypi.org/simple, https://us-python.pkg.dev/colab-wheels/public/simple/\n",
            "Requirement already satisfied: xlrd in /usr/local/lib/python3.9/dist-packages (2.0.1)\n",
            "Looking in indexes: https://pypi.org/simple, https://us-python.pkg.dev/colab-wheels/public/simple/\n",
            "Requirement already satisfied: torchsummary in /usr/local/lib/python3.9/dist-packages (1.5.1)\n",
            "Looking in indexes: https://pypi.org/simple, https://us-python.pkg.dev/colab-wheels/public/simple/\n",
            "Requirement already satisfied: optuna in /usr/local/lib/python3.9/dist-packages (3.1.1)\n",
            "Requirement already satisfied: packaging>=20.0 in /usr/local/lib/python3.9/dist-packages (from optuna) (23.1)\n",
            "Requirement already satisfied: cmaes>=0.9.1 in /usr/local/lib/python3.9/dist-packages (from optuna) (0.9.1)\n",
            "Requirement already satisfied: alembic>=1.5.0 in /usr/local/lib/python3.9/dist-packages (from optuna) (1.10.4)\n",
            "Requirement already satisfied: colorlog in /usr/local/lib/python3.9/dist-packages (from optuna) (6.7.0)\n",
            "Requirement already satisfied: sqlalchemy>=1.3.0 in /usr/local/lib/python3.9/dist-packages (from optuna) (2.0.10)\n",
            "Requirement already satisfied: PyYAML in /usr/local/lib/python3.9/dist-packages (from optuna) (6.0)\n",
            "Requirement already satisfied: numpy in /usr/local/lib/python3.9/dist-packages (from optuna) (1.22.4)\n",
            "Requirement already satisfied: tqdm in /usr/local/lib/python3.9/dist-packages (from optuna) (4.65.0)\n",
            "Requirement already satisfied: typing-extensions>=4 in /usr/local/lib/python3.9/dist-packages (from alembic>=1.5.0->optuna) (4.5.0)\n",
            "Requirement already satisfied: Mako in /usr/local/lib/python3.9/dist-packages (from alembic>=1.5.0->optuna) (1.2.4)\n",
            "Requirement already satisfied: greenlet!=0.4.17 in /usr/local/lib/python3.9/dist-packages (from sqlalchemy>=1.3.0->optuna) (2.0.2)\n",
            "Requirement already satisfied: MarkupSafe>=0.9.2 in /usr/local/lib/python3.9/dist-packages (from Mako->alembic>=1.5.0->optuna) (2.1.2)\n",
            "Looking in indexes: https://pypi.org/simple, https://us-python.pkg.dev/colab-wheels/public/simple/\n",
            "Requirement already satisfied: scikit-plot in /usr/local/lib/python3.9/dist-packages (0.3.7)\n",
            "Requirement already satisfied: matplotlib>=1.4.0 in /usr/local/lib/python3.9/dist-packages (from scikit-plot) (3.7.1)\n",
            "Requirement already satisfied: scipy>=0.9 in /usr/local/lib/python3.9/dist-packages (from scikit-plot) (1.10.1)\n",
            "Requirement already satisfied: joblib>=0.10 in /usr/local/lib/python3.9/dist-packages (from scikit-plot) (1.2.0)\n",
            "Requirement already satisfied: scikit-learn>=0.18 in /usr/local/lib/python3.9/dist-packages (from scikit-plot) (1.2.2)\n",
            "Requirement already satisfied: packaging>=20.0 in /usr/local/lib/python3.9/dist-packages (from matplotlib>=1.4.0->scikit-plot) (23.1)\n",
            "Requirement already satisfied: pyparsing>=2.3.1 in /usr/local/lib/python3.9/dist-packages (from matplotlib>=1.4.0->scikit-plot) (3.0.9)\n",
            "Requirement already satisfied: importlib-resources>=3.2.0 in /usr/local/lib/python3.9/dist-packages (from matplotlib>=1.4.0->scikit-plot) (5.12.0)\n",
            "Requirement already satisfied: contourpy>=1.0.1 in /usr/local/lib/python3.9/dist-packages (from matplotlib>=1.4.0->scikit-plot) (1.0.7)\n",
            "Requirement already satisfied: python-dateutil>=2.7 in /usr/local/lib/python3.9/dist-packages (from matplotlib>=1.4.0->scikit-plot) (2.8.2)\n",
            "Requirement already satisfied: pillow>=6.2.0 in /usr/local/lib/python3.9/dist-packages (from matplotlib>=1.4.0->scikit-plot) (8.4.0)\n",
            "Requirement already satisfied: kiwisolver>=1.0.1 in /usr/local/lib/python3.9/dist-packages (from matplotlib>=1.4.0->scikit-plot) (1.4.4)\n",
            "Requirement already satisfied: numpy>=1.20 in /usr/local/lib/python3.9/dist-packages (from matplotlib>=1.4.0->scikit-plot) (1.22.4)\n",
            "Requirement already satisfied: cycler>=0.10 in /usr/local/lib/python3.9/dist-packages (from matplotlib>=1.4.0->scikit-plot) (0.11.0)\n",
            "Requirement already satisfied: fonttools>=4.22.0 in /usr/local/lib/python3.9/dist-packages (from matplotlib>=1.4.0->scikit-plot) (4.39.3)\n",
            "Requirement already satisfied: threadpoolctl>=2.0.0 in /usr/local/lib/python3.9/dist-packages (from scikit-learn>=0.18->scikit-plot) (3.1.0)\n",
            "Requirement already satisfied: zipp>=3.1.0 in /usr/local/lib/python3.9/dist-packages (from importlib-resources>=3.2.0->matplotlib>=1.4.0->scikit-plot) (3.15.0)\n",
            "Requirement already satisfied: six>=1.5 in /usr/local/lib/python3.9/dist-packages (from python-dateutil>=2.7->matplotlib>=1.4.0->scikit-plot) (1.16.0)\n",
            "Looking in indexes: https://pypi.org/simple, https://us-python.pkg.dev/colab-wheels/public/simple/\n",
            "Requirement already satisfied: tqdm in /usr/local/lib/python3.9/dist-packages (4.65.0)\n"
          ]
        }
      ],
      "source": [
        "%pip install xlrd\n",
        "%pip install torchsummary\n",
        "%pip install optuna\n",
        "%pip install scikit-plot\n",
        "%pip install tqdm"
      ]
    },
    {
      "cell_type": "code",
      "execution_count": null,
      "metadata": {
        "id": "kyScOOIGYzKW"
      },
      "outputs": [],
      "source": [
        "import math\n",
        "import numpy as np\n",
        "import pandas as pd\n",
        "import seaborn as sns\n",
        "import matplotlib.pyplot as plt\n",
        "from sklearn.utils import resample\n",
        "from sklearn.model_selection import train_test_split, GridSearchCV\n",
        "import torch\n",
        "from torch import nn\n",
        "from torch.utils.data import Dataset, DataLoader\n",
        "import torch.nn.functional as F\n",
        "from torchsummary import summary\n",
        "import tensorflow as tf\n",
        "from keras.models import Sequential\n",
        "from keras.layers import Dense\n",
        "from tensorflow.keras.models import Sequential\n",
        "from tensorflow.keras.layers import Dense, Dropout\n",
        "from tensorflow.keras.optimizers import Adam, SGD, RMSprop\n",
        "from sklearn.ensemble import RandomForestClassifier, GradientBoostingClassifier\n",
        "from sklearn.metrics import accuracy_score, recall_score, precision_score, f1_score\n",
        "from sklearn.metrics import make_scorer, roc_auc_score, average_precision_score\n",
        "from sklearn.metrics import classification_report, confusion_matrix, ConfusionMatrixDisplay, f1_score, precision_score, recall_score, accuracy_score\n",
        "from sklearn.datasets import make_blobs\n",
        "from scipy.stats import ks_2samp\n",
        "from tqdm import tqdm\n",
        "import optuna\n",
        "import scikitplot as skplt\n",
        "import io\n",
        "import os"
      ]
    },
    {
      "cell_type": "markdown",
      "metadata": {
        "id": "YapL0T-lI4MN"
      },
      "source": [
        "## Análise e Preparação dos Dados"
      ]
    },
    {
      "cell_type": "code",
      "execution_count": null,
      "metadata": {
        "colab": {
          "base_uri": "https://localhost:8080/",
          "height": 235
        },
        "id": "j-aBFCL0WWK1",
        "outputId": "b4c8a0a2-6f9d-4946-bec8-4af9fdcfd2ed"
      },
      "outputs": [
        {
          "output_type": "execute_result",
          "data": {
            "text/plain": [
              "   INDEX  UF_1  UF_2  UF_3  UF_4  UF_5  UF_6  UF_7     IDADE  SEXO_1  ...  \\\n",
              "0      0     1     1     1     0     0     0     0  0.135098       1  ...   \n",
              "1      1     1     0     1     0     0     1     0  0.273504       1  ...   \n",
              "2      2     1     0     1     0     0     1     0  0.281910       0  ...   \n",
              "3      3     1     1     1     0     0     0     0  0.225741       0  ...   \n",
              "4      4     1     1     0     0     0     1     0  0.480403       0  ...   \n",
              "\n",
              "   CEP4_7  CEP4_8  CEP4_9  CEP4_10  CEP4_11  CEP4_12  CEP4_13  CEP4_14  \\\n",
              "0       0       0       1        1        0        1        1        1   \n",
              "1       0       1       0        1        1        0        0        0   \n",
              "2       1       1       0        0        0        0        1        0   \n",
              "3       1       1       0        1        1        0        1        0   \n",
              "4       1       1       1        0        0        1        0        1   \n",
              "\n",
              "   IND_BOM_1_1  IND_BOM_1_2  \n",
              "0            0            1  \n",
              "1            1            0  \n",
              "2            1            0  \n",
              "3            1            0  \n",
              "4            1            0  \n",
              "\n",
              "[5 rows x 246 columns]"
            ],
            "text/html": [
              "\n",
              "  <div id=\"df-1737fc93-1152-48c8-a250-3e3a85ebc144\">\n",
              "    <div class=\"colab-df-container\">\n",
              "      <div>\n",
              "<style scoped>\n",
              "    .dataframe tbody tr th:only-of-type {\n",
              "        vertical-align: middle;\n",
              "    }\n",
              "\n",
              "    .dataframe tbody tr th {\n",
              "        vertical-align: top;\n",
              "    }\n",
              "\n",
              "    .dataframe thead th {\n",
              "        text-align: right;\n",
              "    }\n",
              "</style>\n",
              "<table border=\"1\" class=\"dataframe\">\n",
              "  <thead>\n",
              "    <tr style=\"text-align: right;\">\n",
              "      <th></th>\n",
              "      <th>INDEX</th>\n",
              "      <th>UF_1</th>\n",
              "      <th>UF_2</th>\n",
              "      <th>UF_3</th>\n",
              "      <th>UF_4</th>\n",
              "      <th>UF_5</th>\n",
              "      <th>UF_6</th>\n",
              "      <th>UF_7</th>\n",
              "      <th>IDADE</th>\n",
              "      <th>SEXO_1</th>\n",
              "      <th>...</th>\n",
              "      <th>CEP4_7</th>\n",
              "      <th>CEP4_8</th>\n",
              "      <th>CEP4_9</th>\n",
              "      <th>CEP4_10</th>\n",
              "      <th>CEP4_11</th>\n",
              "      <th>CEP4_12</th>\n",
              "      <th>CEP4_13</th>\n",
              "      <th>CEP4_14</th>\n",
              "      <th>IND_BOM_1_1</th>\n",
              "      <th>IND_BOM_1_2</th>\n",
              "    </tr>\n",
              "  </thead>\n",
              "  <tbody>\n",
              "    <tr>\n",
              "      <th>0</th>\n",
              "      <td>0</td>\n",
              "      <td>1</td>\n",
              "      <td>1</td>\n",
              "      <td>1</td>\n",
              "      <td>0</td>\n",
              "      <td>0</td>\n",
              "      <td>0</td>\n",
              "      <td>0</td>\n",
              "      <td>0.135098</td>\n",
              "      <td>1</td>\n",
              "      <td>...</td>\n",
              "      <td>0</td>\n",
              "      <td>0</td>\n",
              "      <td>1</td>\n",
              "      <td>1</td>\n",
              "      <td>0</td>\n",
              "      <td>1</td>\n",
              "      <td>1</td>\n",
              "      <td>1</td>\n",
              "      <td>0</td>\n",
              "      <td>1</td>\n",
              "    </tr>\n",
              "    <tr>\n",
              "      <th>1</th>\n",
              "      <td>1</td>\n",
              "      <td>1</td>\n",
              "      <td>0</td>\n",
              "      <td>1</td>\n",
              "      <td>0</td>\n",
              "      <td>0</td>\n",
              "      <td>1</td>\n",
              "      <td>0</td>\n",
              "      <td>0.273504</td>\n",
              "      <td>1</td>\n",
              "      <td>...</td>\n",
              "      <td>0</td>\n",
              "      <td>1</td>\n",
              "      <td>0</td>\n",
              "      <td>1</td>\n",
              "      <td>1</td>\n",
              "      <td>0</td>\n",
              "      <td>0</td>\n",
              "      <td>0</td>\n",
              "      <td>1</td>\n",
              "      <td>0</td>\n",
              "    </tr>\n",
              "    <tr>\n",
              "      <th>2</th>\n",
              "      <td>2</td>\n",
              "      <td>1</td>\n",
              "      <td>0</td>\n",
              "      <td>1</td>\n",
              "      <td>0</td>\n",
              "      <td>0</td>\n",
              "      <td>1</td>\n",
              "      <td>0</td>\n",
              "      <td>0.281910</td>\n",
              "      <td>0</td>\n",
              "      <td>...</td>\n",
              "      <td>1</td>\n",
              "      <td>1</td>\n",
              "      <td>0</td>\n",
              "      <td>0</td>\n",
              "      <td>0</td>\n",
              "      <td>0</td>\n",
              "      <td>1</td>\n",
              "      <td>0</td>\n",
              "      <td>1</td>\n",
              "      <td>0</td>\n",
              "    </tr>\n",
              "    <tr>\n",
              "      <th>3</th>\n",
              "      <td>3</td>\n",
              "      <td>1</td>\n",
              "      <td>1</td>\n",
              "      <td>1</td>\n",
              "      <td>0</td>\n",
              "      <td>0</td>\n",
              "      <td>0</td>\n",
              "      <td>0</td>\n",
              "      <td>0.225741</td>\n",
              "      <td>0</td>\n",
              "      <td>...</td>\n",
              "      <td>1</td>\n",
              "      <td>1</td>\n",
              "      <td>0</td>\n",
              "      <td>1</td>\n",
              "      <td>1</td>\n",
              "      <td>0</td>\n",
              "      <td>1</td>\n",
              "      <td>0</td>\n",
              "      <td>1</td>\n",
              "      <td>0</td>\n",
              "    </tr>\n",
              "    <tr>\n",
              "      <th>4</th>\n",
              "      <td>4</td>\n",
              "      <td>1</td>\n",
              "      <td>1</td>\n",
              "      <td>0</td>\n",
              "      <td>0</td>\n",
              "      <td>0</td>\n",
              "      <td>1</td>\n",
              "      <td>0</td>\n",
              "      <td>0.480403</td>\n",
              "      <td>0</td>\n",
              "      <td>...</td>\n",
              "      <td>1</td>\n",
              "      <td>1</td>\n",
              "      <td>1</td>\n",
              "      <td>0</td>\n",
              "      <td>0</td>\n",
              "      <td>1</td>\n",
              "      <td>0</td>\n",
              "      <td>1</td>\n",
              "      <td>1</td>\n",
              "      <td>0</td>\n",
              "    </tr>\n",
              "  </tbody>\n",
              "</table>\n",
              "<p>5 rows × 246 columns</p>\n",
              "</div>\n",
              "      <button class=\"colab-df-convert\" onclick=\"convertToInteractive('df-1737fc93-1152-48c8-a250-3e3a85ebc144')\"\n",
              "              title=\"Convert this dataframe to an interactive table.\"\n",
              "              style=\"display:none;\">\n",
              "        \n",
              "  <svg xmlns=\"http://www.w3.org/2000/svg\" height=\"24px\"viewBox=\"0 0 24 24\"\n",
              "       width=\"24px\">\n",
              "    <path d=\"M0 0h24v24H0V0z\" fill=\"none\"/>\n",
              "    <path d=\"M18.56 5.44l.94 2.06.94-2.06 2.06-.94-2.06-.94-.94-2.06-.94 2.06-2.06.94zm-11 1L8.5 8.5l.94-2.06 2.06-.94-2.06-.94L8.5 2.5l-.94 2.06-2.06.94zm10 10l.94 2.06.94-2.06 2.06-.94-2.06-.94-.94-2.06-.94 2.06-2.06.94z\"/><path d=\"M17.41 7.96l-1.37-1.37c-.4-.4-.92-.59-1.43-.59-.52 0-1.04.2-1.43.59L10.3 9.45l-7.72 7.72c-.78.78-.78 2.05 0 2.83L4 21.41c.39.39.9.59 1.41.59.51 0 1.02-.2 1.41-.59l7.78-7.78 2.81-2.81c.8-.78.8-2.07 0-2.86zM5.41 20L4 18.59l7.72-7.72 1.47 1.35L5.41 20z\"/>\n",
              "  </svg>\n",
              "      </button>\n",
              "      \n",
              "  <style>\n",
              "    .colab-df-container {\n",
              "      display:flex;\n",
              "      flex-wrap:wrap;\n",
              "      gap: 12px;\n",
              "    }\n",
              "\n",
              "    .colab-df-convert {\n",
              "      background-color: #E8F0FE;\n",
              "      border: none;\n",
              "      border-radius: 50%;\n",
              "      cursor: pointer;\n",
              "      display: none;\n",
              "      fill: #1967D2;\n",
              "      height: 32px;\n",
              "      padding: 0 0 0 0;\n",
              "      width: 32px;\n",
              "    }\n",
              "\n",
              "    .colab-df-convert:hover {\n",
              "      background-color: #E2EBFA;\n",
              "      box-shadow: 0px 1px 2px rgba(60, 64, 67, 0.3), 0px 1px 3px 1px rgba(60, 64, 67, 0.15);\n",
              "      fill: #174EA6;\n",
              "    }\n",
              "\n",
              "    [theme=dark] .colab-df-convert {\n",
              "      background-color: #3B4455;\n",
              "      fill: #D2E3FC;\n",
              "    }\n",
              "\n",
              "    [theme=dark] .colab-df-convert:hover {\n",
              "      background-color: #434B5C;\n",
              "      box-shadow: 0px 1px 3px 1px rgba(0, 0, 0, 0.15);\n",
              "      filter: drop-shadow(0px 1px 2px rgba(0, 0, 0, 0.3));\n",
              "      fill: #FFFFFF;\n",
              "    }\n",
              "  </style>\n",
              "\n",
              "      <script>\n",
              "        const buttonEl =\n",
              "          document.querySelector('#df-1737fc93-1152-48c8-a250-3e3a85ebc144 button.colab-df-convert');\n",
              "        buttonEl.style.display =\n",
              "          google.colab.kernel.accessAllowed ? 'block' : 'none';\n",
              "\n",
              "        async function convertToInteractive(key) {\n",
              "          const element = document.querySelector('#df-1737fc93-1152-48c8-a250-3e3a85ebc144');\n",
              "          const dataTable =\n",
              "            await google.colab.kernel.invokeFunction('convertToInteractive',\n",
              "                                                     [key], {});\n",
              "          if (!dataTable) return;\n",
              "\n",
              "          const docLinkHtml = 'Like what you see? Visit the ' +\n",
              "            '<a target=\"_blank\" href=https://colab.research.google.com/notebooks/data_table.ipynb>data table notebook</a>'\n",
              "            + ' to learn more about interactive tables.';\n",
              "          element.innerHTML = '';\n",
              "          dataTable['output_type'] = 'display_data';\n",
              "          await google.colab.output.renderOutput(dataTable, element);\n",
              "          const docLink = document.createElement('div');\n",
              "          docLink.innerHTML = docLinkHtml;\n",
              "          element.appendChild(docLink);\n",
              "        }\n",
              "      </script>\n",
              "    </div>\n",
              "  </div>\n",
              "  "
            ]
          },
          "metadata": {},
          "execution_count": 4
        }
      ],
      "source": [
        "df = pd.read_table('/content/drive/MyDrive/RedesNeurais/TRNcod.xls')\n",
        "#df = pd.read_table('TRNcod.xls')\n",
        "df.head()"
      ]
    },
    {
      "cell_type": "markdown",
      "metadata": {
        "id": "yi7Nly4onKII"
      },
      "source": [
        "Analisamos, a título de conhecimento, os valores não inteiros do banco de dados."
      ]
    },
    {
      "cell_type": "code",
      "execution_count": null,
      "metadata": {
        "colab": {
          "base_uri": "https://localhost:8080/"
        },
        "id": "GBGYJddtlncv",
        "outputId": "f610136f-368c-472c-ef8c-f191fe915328"
      },
      "outputs": [
        {
          "output_type": "stream",
          "name": "stdout",
          "text": [
            "A coluna INDEX possuí valor(es) maior(es) que 10.\n",
            "A coluna IDADE não possui valores inteiros.\n",
            "Um exemplo de valor é 0.135097920813897.\n",
            "A coluna NIVEL_RELACIONAMENTO_CREDITO01 não possui valores inteiros.\n",
            "Um exemplo de valor é 0.222222222222222.\n",
            "A coluna NIVEL_RELACIONAMENTO_CREDITO02 não possui valores inteiros.\n",
            "Um exemplo de valor é 0.0.\n",
            "A coluna ATIVIDADE_EMAIL não possui valores inteiros.\n",
            "Um exemplo de valor é 5.88123507740785e-18.\n",
            "A coluna EXPOSICAO_ENDERECO não possui valores inteiros.\n",
            "Um exemplo de valor é 0.0416666666666667.\n",
            "A coluna EXPOSICAO_EMAIL não possui valores inteiros.\n",
            "Um exemplo de valor é 0.0.\n",
            "A coluna EXPOSICAO_TELEFONE não possui valores inteiros.\n",
            "Um exemplo de valor é 0.0.\n",
            "A coluna ATIVIDADE_ENDERECO não possui valores inteiros.\n",
            "Um exemplo de valor é 0.1055877023706.\n",
            "A coluna ATUALIZACAO_ENDERECO não possui valores inteiros.\n",
            "Um exemplo de valor é 0.796392205503436.\n",
            "A coluna ATUALIZACAO_EMAIL não possui valores inteiros.\n",
            "Um exemplo de valor é -5.14095849300494e-17.\n",
            "A coluna EXPOSICAO_CONSUMIDOR_EMAILS não possui valores inteiros.\n",
            "Um exemplo de valor é 0.0.\n",
            "A coluna EXPOSICAO_CONSUMIDOR_TELEFONES não possui valores inteiros.\n",
            "Um exemplo de valor é 0.1.\n",
            "A coluna ATIVIDADE_TELEFONE não possui valores inteiros.\n",
            "Um exemplo de valor é 0.131649092377214.\n",
            "A coluna VALOR_PARCELA_BOLSA_FAMILIA não possui valores inteiros.\n",
            "Um exemplo de valor é 0.0.\n",
            "A coluna QUANTIDADE_VIZINHANCA não possui valores inteiros.\n",
            "Um exemplo de valor é 0.188689425703398.\n",
            "A coluna ATIVIDADE_CONSUMIDOR_MERCADO_FINANCEIRO não possui valores inteiros.\n",
            "Um exemplo de valor é 0.313131313131313.\n",
            "A coluna ATUALIZACAO_CONSUMIDOR_MERCADO_FINANCEIRO não possui valores inteiros.\n",
            "Um exemplo de valor é 0.0394736842105263.\n",
            "A coluna CAD_DEMOGRAFICO_VAR_0 não possui valores inteiros.\n",
            "Um exemplo de valor é 0.996213.\n",
            "A coluna CAD_DEMOGRAFICO_VAR_1 não possui valores inteiros.\n",
            "Um exemplo de valor é 0.14763.\n",
            "A coluna CAD_DEMOGRAFICO_VAR_2 não possui valores inteiros.\n",
            "Um exemplo de valor é 0.997042.\n",
            "A coluna CAD_DEMOGRAFICO_VAR_3 não possui valores inteiros.\n",
            "Um exemplo de valor é 0.233332.\n",
            "A coluna CAD_DEMOGRAFICO_VAR_4 não possui valores inteiros.\n",
            "Um exemplo de valor é 0.099386.\n",
            "A coluna CAD_DEMOGRAFICO_VAR_5 não possui valores inteiros.\n",
            "Um exemplo de valor é 0.410324.\n",
            "A coluna CAD_DEMOGRAFICO_VAR_6 não possui valores inteiros.\n",
            "Um exemplo de valor é 0.015157.\n",
            "A coluna CAD_DEMOGRAFICO_VAR_7 não possui valores inteiros.\n",
            "Um exemplo de valor é 0.952376.\n",
            "A coluna CAD_DEMOGRAFICO_VAR_8 não possui valores inteiros.\n",
            "Um exemplo de valor é 0.999658.\n",
            "A coluna CAD_DEMOGRAFICO_VAR_10 não possui valores inteiros.\n",
            "Um exemplo de valor é 0.832387.\n",
            "A coluna CAD_DEMOGRAFICO_VAR_11 não possui valores inteiros.\n",
            "Um exemplo de valor é 0.278566.\n",
            "A coluna CAD_DEMOGRAFICO_VAR_13 não possui valores inteiros.\n",
            "Um exemplo de valor é 0.831896.\n",
            "A coluna CAD_DEMOGRAFICO_VAR_14 não possui valores inteiros.\n",
            "Um exemplo de valor é 0.087268.\n",
            "A coluna CAD_DEMOGRAFICO_VAR_15 não possui valores inteiros.\n",
            "Um exemplo de valor é 0.191337.\n",
            "A coluna CAD_DEMOGRAFICO_VAR_16 não possui valores inteiros.\n",
            "Um exemplo de valor é 0.995385.\n",
            "A coluna CAD_DEMOGRAFICO_VAR_17 não possui valores inteiros.\n",
            "Um exemplo de valor é 0.987328.\n",
            "A coluna CAD_DEMOGRAFICO_VAR_19 não possui valores inteiros.\n",
            "Um exemplo de valor é 0.00027.\n",
            "A coluna CAD_DEMOGRAFICO_VAR_21 não possui valores inteiros.\n",
            "Um exemplo de valor é 0.835376.\n",
            "A coluna CAD_DEMOGRAFICO_VAR_22 não possui valores inteiros.\n",
            "Um exemplo de valor é 0.994124.\n",
            "A coluna CAD_DEMOGRAFICO_VAR_23 não possui valores inteiros.\n",
            "Um exemplo de valor é 0.750789.\n",
            "A coluna CAD_DEMOGRAFICO_VAR_24 não possui valores inteiros.\n",
            "Um exemplo de valor é 0.987847.\n",
            "A coluna CAD_DEMOGRAFICO_VAR_25 não possui valores inteiros.\n",
            "Um exemplo de valor é 0.009899.\n",
            "A coluna CAD_DEMOGRAFICO_VAR_26 não possui valores inteiros.\n",
            "Um exemplo de valor é 0.97839.\n",
            "A coluna CAD_DEMOGRAFICO_VAR_27 não possui valores inteiros.\n",
            "Um exemplo de valor é 0.965024.\n",
            "A coluna CAD_DEMOGRAFICO_VAR_28 não possui valores inteiros.\n",
            "Um exemplo de valor é 0.901969.\n",
            "A coluna CAD_DEMOGRAFICO_VAR_30 não possui valores inteiros.\n",
            "Um exemplo de valor é 0.333257.\n",
            "A coluna CAD_DEMOGRAFICO_VAR_31 não possui valores inteiros.\n",
            "Um exemplo de valor é 0.99695.\n",
            "A coluna CAD_DEMOGRAFICO_VAR_33 não possui valores inteiros.\n",
            "Um exemplo de valor é 0.979659.\n",
            "A coluna CAD_DEMOGRAFICO_VAR_34 não possui valores inteiros.\n",
            "Um exemplo de valor é 0.043865.\n",
            "A coluna CAD_DEMOGRAFICO_VAR_35 não possui valores inteiros.\n",
            "Um exemplo de valor é 0.064502.\n",
            "A coluna CAD_DEMOGRAFICO_VAR_36 não possui valores inteiros.\n",
            "Um exemplo de valor é 0.025267.\n",
            "A coluna CAD_DEMOGRAFICO_VAR_37 não possui valores inteiros.\n",
            "Um exemplo de valor é 0.11093.\n",
            "A coluna CAD_DEMOGRAFICO_VAR_38 não possui valores inteiros.\n",
            "Um exemplo de valor é 0.969494.\n",
            "A coluna CAD_DEMOGRAFICO_VAR_39 não possui valores inteiros.\n",
            "Um exemplo de valor é 0.675657.\n",
            "A coluna CAD_DEMOGRAFICO_VAR_40 não possui valores inteiros.\n",
            "Um exemplo de valor é 0.992948.\n",
            "A coluna CAD_DEMOGRAFICO_VAR_41 não possui valores inteiros.\n",
            "Um exemplo de valor é 0.952376.\n",
            "A coluna CAD_DEMOGRAFICO_VAR_42 não possui valores inteiros.\n",
            "Um exemplo de valor é 0.94498.\n",
            "A coluna CAD_DEMOGRAFICO_VAR_43 não possui valores inteiros.\n",
            "Um exemplo de valor é 0.996711.\n",
            "A coluna CAD_DEMOGRAFICO_VAR_44 não possui valores inteiros.\n",
            "Um exemplo de valor é 0.346861.\n",
            "A coluna CAD_DEMOGRAFICO_VAR_45 não possui valores inteiros.\n",
            "Um exemplo de valor é 0.003137.\n",
            "A coluna CAD_DEMOGRAFICO_VAR_46 não possui valores inteiros.\n",
            "Um exemplo de valor é 4.6e-05.\n",
            "A coluna CAD_DEMOGRAFICO_VAR_47 não possui valores inteiros.\n",
            "Um exemplo de valor é 0.997871.\n",
            "A coluna CAD_DEMOGRAFICO_VAR_50 não possui valores inteiros.\n",
            "Um exemplo de valor é 0.027344.\n",
            "A coluna CAD_DEMOGRAFICO_VAR_52 não possui valores inteiros.\n",
            "Um exemplo de valor é 0.384618.\n",
            "A coluna CAD_DEMOGRAFICO_VAR_53 não possui valores inteiros.\n",
            "Um exemplo de valor é 0.823867.\n",
            "A coluna CAD_DEMOGRAFICO_VAR_54 não possui valores inteiros.\n",
            "Um exemplo de valor é 0.05363.\n",
            "A coluna CAD_DEMOGRAFICO_VAR_55 não possui valores inteiros.\n",
            "Um exemplo de valor é 0.464215.\n",
            "A coluna CAD_DEMOGRAFICO_VAR_57 não possui valores inteiros.\n",
            "Um exemplo de valor é 0.820325.\n",
            "A coluna CAD_DEMOGRAFICO_VAR_58 não possui valores inteiros.\n",
            "Um exemplo de valor é 0.991989.\n",
            "A coluna CAD_DEMOGRAFICO_VAR_59 não possui valores inteiros.\n",
            "Um exemplo de valor é 0.109289.\n",
            "A coluna CAD_DEMOGRAFICO_VAR_61 não possui valores inteiros.\n",
            "Um exemplo de valor é 0.001508.\n",
            "A coluna CAD_DEMOGRAFICO_VAR_62 não possui valores inteiros.\n",
            "Um exemplo de valor é 0.410353.\n",
            "A coluna MENOR_DIST_ENDERECO_AEROPORTOS não possui valores inteiros.\n",
            "Um exemplo de valor é 0.492924054652905.\n",
            "A coluna MENOR_DIST_ENDERECO_PARQUES_DIVERSAO não possui valores inteiros.\n",
            "Um exemplo de valor é 0.25333088701701.\n",
            "A coluna MENOR_DIST_ENDERECO_CAIXA_ELETRONICO não possui valores inteiros.\n",
            "Um exemplo de valor é 0.428961011680111.\n",
            "A coluna MENOR_DIST_BANCO não possui valores inteiros.\n",
            "Um exemplo de valor é 0.317187538443841.\n",
            "A coluna MENOR_DIST_ENDERECO_BARES não possui valores inteiros.\n",
            "Um exemplo de valor é 0.15679984822808.\n",
            "A coluna MENOR_DIST_ENDERECO_ESTACAO_ONIBUS não possui valores inteiros.\n",
            "Um exemplo de valor é 0.268531435355595.\n",
            "A coluna MENOR_DIST_CONCESSIONARIA não possui valores inteiros.\n",
            "Um exemplo de valor é 0.380667461936558.\n",
            "A coluna MENOR_DIST_ALUGUEL_CARROS não possui valores inteiros.\n",
            "Um exemplo de valor é 0.425170259243333.\n",
            "A coluna MENOR_DIST_ENDERECO_OFICINAS não possui valores inteiros.\n",
            "Um exemplo de valor é 0.16632306836702.\n",
            "A coluna MENOR_DIST_ENDERECO_LAVA_RAPIDO não possui valores inteiros.\n",
            "Um exemplo de valor é 0.513842384667789.\n",
            "A coluna MENOR_DIST_ENDERECO_CEMITERIO não possui valores inteiros.\n",
            "Um exemplo de valor é 0.354716290223192.\n",
            "A coluna MENOR_DIST_ENDERECO_IGREJA não possui valores inteiros.\n",
            "Um exemplo de valor é 0.173521219407832.\n",
            "A coluna MENOR_DIST_ENDERECO_PREFEITURA não possui valores inteiros.\n",
            "Um exemplo de valor é 0.000143854969649.\n",
            "A coluna MENOR_DIST_ENDERECO_BOMBEIRO não possui valores inteiros.\n",
            "Um exemplo de valor é 0.345599385406869.\n",
            "A coluna MENOR_DIST_ENDERECO_FAVELA não possui valores inteiros.\n",
            "Um exemplo de valor é 0.213503516784479.\n",
            "A coluna MENOR_DIST_ENDERECO_FUNERARIA não possui valores inteiros.\n",
            "Um exemplo de valor é 0.276294400206735.\n",
            "A coluna MENOR_DIST_ENDERECO_POSTO_GASOLINA não possui valores inteiros.\n",
            "Um exemplo de valor é 0.206887991843515.\n",
            "A coluna MENOR_DIST_ENDERECO_SUPERMERCADO não possui valores inteiros.\n",
            "Um exemplo de valor é 0.480175193917126.\n",
            "A coluna MENOR_DIST_ENDERECO_ACADEMIAS não possui valores inteiros.\n",
            "Um exemplo de valor é 0.134100852723421.\n",
            "A coluna MENOR_DIST_ENDERECO_HOSPITAL não possui valores inteiros.\n",
            "Um exemplo de valor é -3.1409267278831604e-20.\n",
            "A coluna MENOR_DIST_CORRETOR_SEGUROS não possui valores inteiros.\n",
            "Um exemplo de valor é 0.16083255434308.\n",
            "A coluna MENOR_DIST_ENDERECO_BEBIDAS não possui valores inteiros.\n",
            "Um exemplo de valor é 0.112766605821942.\n",
            "A coluna MENOR_DIST_ENDERECO_HOTEL não possui valores inteiros.\n",
            "Um exemplo de valor é 0.210863893292628.\n",
            "A coluna MENOR_DIST_ENDERECO_CINEMAS não possui valores inteiros.\n",
            "Um exemplo de valor é 0.464612698953285.\n",
            "A coluna MENOR_DIST_ENDERECO_CASA_NOTURNA não possui valores inteiros.\n",
            "Um exemplo de valor é 0.402206053304099.\n",
            "A coluna MENOR_DIST_ENDERECO_PARQUE não possui valores inteiros.\n",
            "Um exemplo de valor é 0.196583903369766.\n",
            "A coluna MENOR_DIST_ESTACIONAMENTOS não possui valores inteiros.\n",
            "Um exemplo de valor é 0.250244681705955.\n",
            "A coluna MENOR_DIST_ENDERECO_POLICIA não possui valores inteiros.\n",
            "Um exemplo de valor é 0.129626492793604.\n",
            "A coluna MENOR_DIST_ENDERECO_CORREIOS não possui valores inteiros.\n",
            "Um exemplo de valor é 0.128939784589413.\n",
            "A coluna MENOR_DIST_ENDERECO_ESCOLAS não possui valores inteiros.\n",
            "Um exemplo de valor é 0.273526818694063.\n",
            "A coluna MENOR_DIST_ENDERECO_SHOPPING não possui valores inteiros.\n",
            "Um exemplo de valor é 0.278601052995375.\n",
            "A coluna MENOR_DIST_ENDERECO_METRO não possui valores inteiros.\n",
            "Um exemplo de valor é 0.271660392436193.\n",
            "A coluna MENOR_DIST_PONTO_TAXI não possui valores inteiros.\n",
            "Um exemplo de valor é 0.11343615672481.\n",
            "A coluna MENOR_DIST_ENDERECO_TREM não possui valores inteiros.\n",
            "Um exemplo de valor é 0.137072961223847.\n",
            "A coluna MENOR_DIST_UNIVERSIDADE não possui valores inteiros.\n",
            "Um exemplo de valor é 0.70425124551248.\n",
            "A coluna MENOR_DIST_ENDERECO_FRONTEIRA_ESTADUAL não possui valores inteiros.\n",
            "Um exemplo de valor é 0.17071679146932.\n",
            "A coluna MENOR_DIST_ENDERECO_FRONTEIRA_MARITIMA não possui valores inteiros.\n",
            "Um exemplo de valor é 0.34057162622328.\n",
            "A coluna MENOR_DIST_ENDERECO_FRONTEIRA_INTERNACIONAL não possui valores inteiros.\n",
            "Um exemplo de valor é 1.0.\n",
            "A coluna EXPOSICAO_ENDERECO_AEROPORTOS não possui valores inteiros.\n",
            "Um exemplo de valor é 0.0.\n",
            "A coluna EXPOSICAO_ENDERECO_PARQUES_DIVERSAO não possui valores inteiros.\n",
            "Um exemplo de valor é 0.0.\n",
            "A coluna EXPOSICAO_ENDERECO_AREA_RISCO não possui valores inteiros.\n",
            "Um exemplo de valor é 0.0184331797235023.\n",
            "A coluna EXPOSICAO_ENDERECO_CAIXA_ELETRONICO não possui valores inteiros.\n",
            "Um exemplo de valor é 0.0.\n",
            "A coluna EXPOSICAO_ENDERECO_BANCOS não possui valores inteiros.\n",
            "Um exemplo de valor é 0.0.\n",
            "A coluna EXPOSICAO_ENDERECO_BARES não possui valores inteiros.\n",
            "Um exemplo de valor é 0.0.\n",
            "A coluna EXPOSICAO_ENDERECO_ESTACAO_ONIBUS não possui valores inteiros.\n",
            "Um exemplo de valor é 0.0.\n",
            "A coluna EXPOSICAO_ENDERECO_CONCESSIONARIA não possui valores inteiros.\n",
            "Um exemplo de valor é 0.0.\n",
            "A coluna EXPOSICAO_ENDERECO_ALUGUEL_CARROS não possui valores inteiros.\n",
            "Um exemplo de valor é 0.0.\n",
            "A coluna EXPOSICAO_ENDERECO_OFICINAS não possui valores inteiros.\n",
            "Um exemplo de valor é 0.0.\n",
            "A coluna EXPOSICAO_ENDERECO_LAVA_RAPIDO não possui valores inteiros.\n",
            "Um exemplo de valor é 0.0.\n",
            "A coluna EXPOSICAO_ENDERECO_CEMITERIO não possui valores inteiros.\n",
            "Um exemplo de valor é 0.0.\n",
            "A coluna EXPOSICAO_ENDERECO_IGREJA não possui valores inteiros.\n",
            "Um exemplo de valor é 0.0.\n",
            "A coluna EXPOSICAO_ENDERECO_PREFEITURA não possui valores inteiros.\n",
            "Um exemplo de valor é 0.0144927536231884.\n",
            "A coluna EXPOSICAO_ENDERECO_BOMBEIRO não possui valores inteiros.\n",
            "Um exemplo de valor é 0.0.\n",
            "A coluna EXPOSICAO_ENDERECO_FAVELAS não possui valores inteiros.\n",
            "Um exemplo de valor é 0.0.\n",
            "A coluna EXPOSICAO_ENDERECO_FUNERARIA não possui valores inteiros.\n",
            "Um exemplo de valor é 0.0.\n",
            "A coluna EXPOSICAO_ENDERECO_POSTO_GASOLINA não possui valores inteiros.\n",
            "Um exemplo de valor é 0.0.\n",
            "A coluna EXPOSICAO_ENDERECO_SUPERMERCADO não possui valores inteiros.\n",
            "Um exemplo de valor é 0.0.\n",
            "A coluna EXPOSICAO_ENDERECO_ACADEMIAS não possui valores inteiros.\n",
            "Um exemplo de valor é 0.0.\n",
            "A coluna EXPOSICAO_ENDERECO_HOSPITAL não possui valores inteiros.\n",
            "Um exemplo de valor é 0.0034129692832764.\n",
            "A coluna EXPOSICAO_ENDERECO_CORRETOR_SEGUROS não possui valores inteiros.\n",
            "Um exemplo de valor é 0.0.\n",
            "A coluna EXPOSICAO_ENDERECO_BEBIDAS não possui valores inteiros.\n",
            "Um exemplo de valor é 0.0.\n",
            "A coluna EXPOSICAO_ENDERECO_HOTEL não possui valores inteiros.\n",
            "Um exemplo de valor é 0.0.\n",
            "A coluna EXPOSICAO_ENDERECO_CINEMAS não possui valores inteiros.\n",
            "Um exemplo de valor é 0.0.\n",
            "A coluna EXPOSICAO_ENDERECO_CASA_NOTURNA não possui valores inteiros.\n",
            "Um exemplo de valor é 0.0.\n",
            "A coluna EXPOSICAO_ENDERECO_PARQUE não possui valores inteiros.\n",
            "Um exemplo de valor é 0.0.\n",
            "A coluna EXPOSICAO_ENDERECO_ESTACIONAMENTOS não possui valores inteiros.\n",
            "Um exemplo de valor é 0.0.\n",
            "A coluna EXPOSICAO_ENDERECO_POLICIA não possui valores inteiros.\n",
            "Um exemplo de valor é 0.0.\n",
            "A coluna EXPOSICAO_ENDERECO_CORREIOS não possui valores inteiros.\n",
            "Um exemplo de valor é 0.0.\n",
            "A coluna EXPOSICAO_ENDERECO_ESCOLAS não possui valores inteiros.\n",
            "Um exemplo de valor é 0.0.\n",
            "A coluna EXPOSICAO_ENDERECO_SHOPPING não possui valores inteiros.\n",
            "Um exemplo de valor é 0.0.\n",
            "A coluna EXPOSICAO_ENDERECO_METRO não possui valores inteiros.\n",
            "Um exemplo de valor é 0.0.\n",
            "A coluna EXPOSICAO_ENDERECO_PONTO_TAXI não possui valores inteiros.\n",
            "Um exemplo de valor é 0.0.\n",
            "A coluna EXPOSICAO_ENDERECO_TREM não possui valores inteiros.\n",
            "Um exemplo de valor é 0.0.\n",
            "A coluna EXPOSICAO_ENDERECO_UNIVERSIDADE não possui valores inteiros.\n",
            "Um exemplo de valor é 0.0.\n",
            "A coluna EXPOSICAO_WEB não possui valores inteiros.\n",
            "Um exemplo de valor é 0.0006000600060006.\n"
          ]
        }
      ],
      "source": [
        "# Definimos a função para chegar se o valor é inteiro\n",
        "def is_integer(val):\n",
        "    #if (val % 1 == 0):\n",
        "    #    return True\n",
        "    #else:\n",
        "    #    return False\n",
        "    return True if isinstance(val, int) else False\n",
        "\n",
        "for column in df:\n",
        "  integer_mask = df[column].apply(is_integer)\n",
        "  # Checa se algum elemento da coluna é inteiro\n",
        "  has_integers = integer_mask.any()\n",
        "\n",
        "  # Printa o elemento não inteiro da coluna\n",
        "  if not has_integers:\n",
        "      print(f\"A coluna {column} não possui valores inteiros.\")\n",
        "      print(f\"Um exemplo de valor é {df[column][0]}.\")\n",
        "\n",
        "  # Printa se há elementos com valoração maiores que 10\n",
        "  if max(df[column]) > 10:\n",
        "    print(f\"A coluna {column} possuí valor(es) maior(es) que 10.\")"
      ]
    },
    {
      "cell_type": "markdown",
      "metadata": {
        "id": "D1S5XFNEavxU"
      },
      "source": [
        "Primeiramente, checamos por duplicatas no código."
      ]
    },
    {
      "cell_type": "code",
      "execution_count": null,
      "metadata": {
        "colab": {
          "base_uri": "https://localhost:8080/",
          "height": 79
        },
        "id": "QN_DzPejaegM",
        "outputId": "4cc4c265-f6ca-4d9c-f928-40c1a5fb85be"
      },
      "outputs": [
        {
          "output_type": "execute_result",
          "data": {
            "text/plain": [
              "Empty DataFrame\n",
              "Columns: [INDEX, UF_1, UF_2, UF_3, UF_4, UF_5, UF_6, UF_7, IDADE, SEXO_1, NIVEL_RELACIONAMENTO_CREDITO01, NIVEL_RELACIONAMENTO_CREDITO02, BANCO_REST_IRPF_ULTIMA_1, BANCO_REST_IRPF_ULTIMA_2, BANCO_REST_IRPF_ULTIMA_3, BANCO_REST_IRPF_ULTIMA_4, BANCO_REST_IRPF_ULTIMA_5, BANCO_REST_IRPF_ULTIMA_6, BANCO_REST_IRPF_ULTIMA_7, ATIVIDADE_EMAIL, EXPOSICAO_ENDERECO, EXPOSICAO_EMAIL, EXPOSICAO_TELEFONE, ATIVIDADE_ENDERECO, ATUALIZACAO_ENDERECO, ATUALIZACAO_EMAIL, EXPOSICAO_CONSUMIDOR_EMAILS, EXPOSICAO_CONSUMIDOR_TELEFONES, ATIVIDADE_TELEFONE, VALOR_PARCELA_BOLSA_FAMILIA, FLAG_BOLSA_FAMILIA_1, SIGLA_PARTIDO_FILIADO_1, SIGLA_PARTIDO_FILIADO_2, SIGLA_PARTIDO_FILIADO_3, SIGLA_PARTIDO_FILIADO_4, SIGLA_PARTIDO_FILIADO_5, SIGLA_PARTIDO_FILIADO_6, SIGLA_PARTIDO_FILIADO_7, FLAG_FILIADO_PARTIDO_POLITICO_1, FLAG_PROUNI_1, RENDA_VIZINHANCA_1, RENDA_VIZINHANCA_2, RENDA_VIZINHANCA_3, RENDA_VIZINHANCA_4, QUANTIDADE_VIZINHANCA, COMPARATIVO_RENDA_CEP_1, COMPARATIVO_RENDA_CEP_2, COMPARATIVO_RENDA_CEP_3, COMPARATIVO_RENDA_CEP_4, COMPARATIVO_RENDA_CEP_5, CLASSE_SOCIAL_CONSUMIDOR_1, CLASSE_SOCIAL_CONSUMIDOR_2, CLASSE_SOCIAL_CONSUMIDOR_3, CLASSE_SOCIAL_CONSUMIDOR_4, ATIVIDADE_CONSUMIDOR_MERCADO_FINANCEIRO, ATUALIZACAO_CONSUMIDOR_MERCADO_FINANCEIRO, FLAG_PROGRAMAS_SOCIAIS_1, CAD_DEMOGRAFICO_VAR_0, CAD_DEMOGRAFICO_VAR_1, CAD_DEMOGRAFICO_VAR_2, CAD_DEMOGRAFICO_VAR_3, CAD_DEMOGRAFICO_VAR_4, CAD_DEMOGRAFICO_VAR_5, CAD_DEMOGRAFICO_VAR_6, CAD_DEMOGRAFICO_VAR_7, CAD_DEMOGRAFICO_VAR_8, CAD_DEMOGRAFICO_VAR_10, CAD_DEMOGRAFICO_VAR_11, CAD_DEMOGRAFICO_VAR_13, CAD_DEMOGRAFICO_VAR_14, CAD_DEMOGRAFICO_VAR_15, CAD_DEMOGRAFICO_VAR_16, CAD_DEMOGRAFICO_VAR_17, CAD_DEMOGRAFICO_VAR_19, CAD_DEMOGRAFICO_VAR_21, CAD_DEMOGRAFICO_VAR_22, CAD_DEMOGRAFICO_VAR_23, CAD_DEMOGRAFICO_VAR_24, CAD_DEMOGRAFICO_VAR_25, CAD_DEMOGRAFICO_VAR_26, CAD_DEMOGRAFICO_VAR_27, CAD_DEMOGRAFICO_VAR_28, CAD_DEMOGRAFICO_VAR_30, CAD_DEMOGRAFICO_VAR_31, CAD_DEMOGRAFICO_VAR_33, CAD_DEMOGRAFICO_VAR_34, CAD_DEMOGRAFICO_VAR_35, CAD_DEMOGRAFICO_VAR_36, CAD_DEMOGRAFICO_VAR_37, CAD_DEMOGRAFICO_VAR_38, CAD_DEMOGRAFICO_VAR_39, CAD_DEMOGRAFICO_VAR_40, CAD_DEMOGRAFICO_VAR_41, CAD_DEMOGRAFICO_VAR_42, CAD_DEMOGRAFICO_VAR_43, CAD_DEMOGRAFICO_VAR_44, CAD_DEMOGRAFICO_VAR_45, CAD_DEMOGRAFICO_VAR_46, CAD_DEMOGRAFICO_VAR_47, CAD_DEMOGRAFICO_VAR_50, ...]\n",
              "Index: []\n",
              "\n",
              "[0 rows x 246 columns]"
            ],
            "text/html": [
              "\n",
              "  <div id=\"df-bbb508dd-0a2f-4ce8-973c-2db2df13ed69\">\n",
              "    <div class=\"colab-df-container\">\n",
              "      <div>\n",
              "<style scoped>\n",
              "    .dataframe tbody tr th:only-of-type {\n",
              "        vertical-align: middle;\n",
              "    }\n",
              "\n",
              "    .dataframe tbody tr th {\n",
              "        vertical-align: top;\n",
              "    }\n",
              "\n",
              "    .dataframe thead th {\n",
              "        text-align: right;\n",
              "    }\n",
              "</style>\n",
              "<table border=\"1\" class=\"dataframe\">\n",
              "  <thead>\n",
              "    <tr style=\"text-align: right;\">\n",
              "      <th></th>\n",
              "      <th>INDEX</th>\n",
              "      <th>UF_1</th>\n",
              "      <th>UF_2</th>\n",
              "      <th>UF_3</th>\n",
              "      <th>UF_4</th>\n",
              "      <th>UF_5</th>\n",
              "      <th>UF_6</th>\n",
              "      <th>UF_7</th>\n",
              "      <th>IDADE</th>\n",
              "      <th>SEXO_1</th>\n",
              "      <th>...</th>\n",
              "      <th>CEP4_7</th>\n",
              "      <th>CEP4_8</th>\n",
              "      <th>CEP4_9</th>\n",
              "      <th>CEP4_10</th>\n",
              "      <th>CEP4_11</th>\n",
              "      <th>CEP4_12</th>\n",
              "      <th>CEP4_13</th>\n",
              "      <th>CEP4_14</th>\n",
              "      <th>IND_BOM_1_1</th>\n",
              "      <th>IND_BOM_1_2</th>\n",
              "    </tr>\n",
              "  </thead>\n",
              "  <tbody>\n",
              "  </tbody>\n",
              "</table>\n",
              "<p>0 rows × 246 columns</p>\n",
              "</div>\n",
              "      <button class=\"colab-df-convert\" onclick=\"convertToInteractive('df-bbb508dd-0a2f-4ce8-973c-2db2df13ed69')\"\n",
              "              title=\"Convert this dataframe to an interactive table.\"\n",
              "              style=\"display:none;\">\n",
              "        \n",
              "  <svg xmlns=\"http://www.w3.org/2000/svg\" height=\"24px\"viewBox=\"0 0 24 24\"\n",
              "       width=\"24px\">\n",
              "    <path d=\"M0 0h24v24H0V0z\" fill=\"none\"/>\n",
              "    <path d=\"M18.56 5.44l.94 2.06.94-2.06 2.06-.94-2.06-.94-.94-2.06-.94 2.06-2.06.94zm-11 1L8.5 8.5l.94-2.06 2.06-.94-2.06-.94L8.5 2.5l-.94 2.06-2.06.94zm10 10l.94 2.06.94-2.06 2.06-.94-2.06-.94-.94-2.06-.94 2.06-2.06.94z\"/><path d=\"M17.41 7.96l-1.37-1.37c-.4-.4-.92-.59-1.43-.59-.52 0-1.04.2-1.43.59L10.3 9.45l-7.72 7.72c-.78.78-.78 2.05 0 2.83L4 21.41c.39.39.9.59 1.41.59.51 0 1.02-.2 1.41-.59l7.78-7.78 2.81-2.81c.8-.78.8-2.07 0-2.86zM5.41 20L4 18.59l7.72-7.72 1.47 1.35L5.41 20z\"/>\n",
              "  </svg>\n",
              "      </button>\n",
              "      \n",
              "  <style>\n",
              "    .colab-df-container {\n",
              "      display:flex;\n",
              "      flex-wrap:wrap;\n",
              "      gap: 12px;\n",
              "    }\n",
              "\n",
              "    .colab-df-convert {\n",
              "      background-color: #E8F0FE;\n",
              "      border: none;\n",
              "      border-radius: 50%;\n",
              "      cursor: pointer;\n",
              "      display: none;\n",
              "      fill: #1967D2;\n",
              "      height: 32px;\n",
              "      padding: 0 0 0 0;\n",
              "      width: 32px;\n",
              "    }\n",
              "\n",
              "    .colab-df-convert:hover {\n",
              "      background-color: #E2EBFA;\n",
              "      box-shadow: 0px 1px 2px rgba(60, 64, 67, 0.3), 0px 1px 3px 1px rgba(60, 64, 67, 0.15);\n",
              "      fill: #174EA6;\n",
              "    }\n",
              "\n",
              "    [theme=dark] .colab-df-convert {\n",
              "      background-color: #3B4455;\n",
              "      fill: #D2E3FC;\n",
              "    }\n",
              "\n",
              "    [theme=dark] .colab-df-convert:hover {\n",
              "      background-color: #434B5C;\n",
              "      box-shadow: 0px 1px 3px 1px rgba(0, 0, 0, 0.15);\n",
              "      filter: drop-shadow(0px 1px 2px rgba(0, 0, 0, 0.3));\n",
              "      fill: #FFFFFF;\n",
              "    }\n",
              "  </style>\n",
              "\n",
              "      <script>\n",
              "        const buttonEl =\n",
              "          document.querySelector('#df-bbb508dd-0a2f-4ce8-973c-2db2df13ed69 button.colab-df-convert');\n",
              "        buttonEl.style.display =\n",
              "          google.colab.kernel.accessAllowed ? 'block' : 'none';\n",
              "\n",
              "        async function convertToInteractive(key) {\n",
              "          const element = document.querySelector('#df-bbb508dd-0a2f-4ce8-973c-2db2df13ed69');\n",
              "          const dataTable =\n",
              "            await google.colab.kernel.invokeFunction('convertToInteractive',\n",
              "                                                     [key], {});\n",
              "          if (!dataTable) return;\n",
              "\n",
              "          const docLinkHtml = 'Like what you see? Visit the ' +\n",
              "            '<a target=\"_blank\" href=https://colab.research.google.com/notebooks/data_table.ipynb>data table notebook</a>'\n",
              "            + ' to learn more about interactive tables.';\n",
              "          element.innerHTML = '';\n",
              "          dataTable['output_type'] = 'display_data';\n",
              "          await google.colab.output.renderOutput(dataTable, element);\n",
              "          const docLink = document.createElement('div');\n",
              "          docLink.innerHTML = docLinkHtml;\n",
              "          element.appendChild(docLink);\n",
              "        }\n",
              "      </script>\n",
              "    </div>\n",
              "  </div>\n",
              "  "
            ]
          },
          "metadata": {},
          "execution_count": 9
        }
      ],
      "source": [
        "df[df.duplicated(keep=False)]"
      ]
    },
    {
      "cell_type": "code",
      "execution_count": null,
      "metadata": {
        "colab": {
          "base_uri": "https://localhost:8080/"
        },
        "id": "-1koP5EHkOFq",
        "outputId": "93052efb-c115-4550-8c17-bfa9fe9c9951"
      },
      "outputs": [
        {
          "output_type": "execute_result",
          "data": {
            "text/plain": [
              "INDEX          int64\n",
              "UF_1           int64\n",
              "UF_2           int64\n",
              "UF_3           int64\n",
              "UF_4           int64\n",
              "               ...  \n",
              "CEP4_12        int64\n",
              "CEP4_13        int64\n",
              "CEP4_14        int64\n",
              "IND_BOM_1_1    int64\n",
              "IND_BOM_1_2    int64\n",
              "Length: 246, dtype: object"
            ]
          },
          "metadata": {},
          "execution_count": 10
        }
      ],
      "source": [
        "df.dtypes"
      ]
    },
    {
      "cell_type": "code",
      "execution_count": null,
      "metadata": {
        "colab": {
          "base_uri": "https://localhost:8080/",
          "height": 393
        },
        "id": "So2EUtSkYDVy",
        "outputId": "32471568-b80a-47b8-d275-06a6f36dddea"
      },
      "outputs": [
        {
          "output_type": "execute_result",
          "data": {
            "text/plain": [
              "               INDEX           UF_1           UF_2           UF_3  \\\n",
              "count  389196.000000  389196.000000  389196.000000  389196.000000   \n",
              "mean   194597.500000       0.889274       0.691952       0.476552   \n",
              "std    112351.352021       0.313793       0.461687       0.499451   \n",
              "min         0.000000       0.000000       0.000000       0.000000   \n",
              "25%     97298.750000       1.000000       0.000000       0.000000   \n",
              "50%    194597.500000       1.000000       1.000000       0.000000   \n",
              "75%    291896.250000       1.000000       1.000000       1.000000   \n",
              "max    389195.000000       1.000000       1.000000       1.000000   \n",
              "\n",
              "                UF_4           UF_5           UF_6           UF_7  \\\n",
              "count  389196.000000  389196.000000  389196.000000  389196.000000   \n",
              "mean        0.296195       0.241179       0.218011       0.186836   \n",
              "std         0.456579       0.427799       0.412895       0.389781   \n",
              "min         0.000000       0.000000       0.000000       0.000000   \n",
              "25%         0.000000       0.000000       0.000000       0.000000   \n",
              "50%         0.000000       0.000000       0.000000       0.000000   \n",
              "75%         1.000000       0.000000       0.000000       0.000000   \n",
              "max         1.000000       1.000000       1.000000       1.000000   \n",
              "\n",
              "              IDADE         SEXO_1  ...         CEP4_7         CEP4_8  \\\n",
              "count  3.891960e+05  389196.000000  ...  389196.000000  389196.000000   \n",
              "mean   4.552049e-01       0.521514  ...       0.423378       0.417540   \n",
              "std    2.537459e-01       0.499538  ...       0.494095       0.493154   \n",
              "min    5.506237e-16       0.000000  ...       0.000000       0.000000   \n",
              "25%    2.507866e-01       0.000000  ...       0.000000       0.000000   \n",
              "50%    4.375241e-01       1.000000  ...       0.000000       0.000000   \n",
              "75%    6.578835e-01       1.000000  ...       1.000000       1.000000   \n",
              "max    1.000000e+00       1.000000  ...       1.000000       1.000000   \n",
              "\n",
              "              CEP4_9        CEP4_10        CEP4_11        CEP4_12  \\\n",
              "count  389196.000000  389196.000000  389196.000000  389196.000000   \n",
              "mean        0.425708       0.459820       0.440842       0.436896   \n",
              "std         0.494451       0.498384       0.496489       0.496002   \n",
              "min         0.000000       0.000000       0.000000       0.000000   \n",
              "25%         0.000000       0.000000       0.000000       0.000000   \n",
              "50%         0.000000       0.000000       0.000000       0.000000   \n",
              "75%         1.000000       1.000000       1.000000       1.000000   \n",
              "max         1.000000       1.000000       1.000000       1.000000   \n",
              "\n",
              "             CEP4_13        CEP4_14    IND_BOM_1_1    IND_BOM_1_2  \n",
              "count  389196.000000  389196.000000  389196.000000  389196.000000  \n",
              "mean        0.433709       0.440339       0.655449       0.344551  \n",
              "std         0.495587       0.496428       0.475222       0.475222  \n",
              "min         0.000000       0.000000       0.000000       0.000000  \n",
              "25%         0.000000       0.000000       0.000000       0.000000  \n",
              "50%         0.000000       0.000000       1.000000       0.000000  \n",
              "75%         1.000000       1.000000       1.000000       1.000000  \n",
              "max         1.000000       1.000000       1.000000       1.000000  \n",
              "\n",
              "[8 rows x 246 columns]"
            ],
            "text/html": [
              "\n",
              "  <div id=\"df-94bce2cf-a2da-4d1b-8a94-61f3dea8d862\">\n",
              "    <div class=\"colab-df-container\">\n",
              "      <div>\n",
              "<style scoped>\n",
              "    .dataframe tbody tr th:only-of-type {\n",
              "        vertical-align: middle;\n",
              "    }\n",
              "\n",
              "    .dataframe tbody tr th {\n",
              "        vertical-align: top;\n",
              "    }\n",
              "\n",
              "    .dataframe thead th {\n",
              "        text-align: right;\n",
              "    }\n",
              "</style>\n",
              "<table border=\"1\" class=\"dataframe\">\n",
              "  <thead>\n",
              "    <tr style=\"text-align: right;\">\n",
              "      <th></th>\n",
              "      <th>INDEX</th>\n",
              "      <th>UF_1</th>\n",
              "      <th>UF_2</th>\n",
              "      <th>UF_3</th>\n",
              "      <th>UF_4</th>\n",
              "      <th>UF_5</th>\n",
              "      <th>UF_6</th>\n",
              "      <th>UF_7</th>\n",
              "      <th>IDADE</th>\n",
              "      <th>SEXO_1</th>\n",
              "      <th>...</th>\n",
              "      <th>CEP4_7</th>\n",
              "      <th>CEP4_8</th>\n",
              "      <th>CEP4_9</th>\n",
              "      <th>CEP4_10</th>\n",
              "      <th>CEP4_11</th>\n",
              "      <th>CEP4_12</th>\n",
              "      <th>CEP4_13</th>\n",
              "      <th>CEP4_14</th>\n",
              "      <th>IND_BOM_1_1</th>\n",
              "      <th>IND_BOM_1_2</th>\n",
              "    </tr>\n",
              "  </thead>\n",
              "  <tbody>\n",
              "    <tr>\n",
              "      <th>count</th>\n",
              "      <td>389196.000000</td>\n",
              "      <td>389196.000000</td>\n",
              "      <td>389196.000000</td>\n",
              "      <td>389196.000000</td>\n",
              "      <td>389196.000000</td>\n",
              "      <td>389196.000000</td>\n",
              "      <td>389196.000000</td>\n",
              "      <td>389196.000000</td>\n",
              "      <td>3.891960e+05</td>\n",
              "      <td>389196.000000</td>\n",
              "      <td>...</td>\n",
              "      <td>389196.000000</td>\n",
              "      <td>389196.000000</td>\n",
              "      <td>389196.000000</td>\n",
              "      <td>389196.000000</td>\n",
              "      <td>389196.000000</td>\n",
              "      <td>389196.000000</td>\n",
              "      <td>389196.000000</td>\n",
              "      <td>389196.000000</td>\n",
              "      <td>389196.000000</td>\n",
              "      <td>389196.000000</td>\n",
              "    </tr>\n",
              "    <tr>\n",
              "      <th>mean</th>\n",
              "      <td>194597.500000</td>\n",
              "      <td>0.889274</td>\n",
              "      <td>0.691952</td>\n",
              "      <td>0.476552</td>\n",
              "      <td>0.296195</td>\n",
              "      <td>0.241179</td>\n",
              "      <td>0.218011</td>\n",
              "      <td>0.186836</td>\n",
              "      <td>4.552049e-01</td>\n",
              "      <td>0.521514</td>\n",
              "      <td>...</td>\n",
              "      <td>0.423378</td>\n",
              "      <td>0.417540</td>\n",
              "      <td>0.425708</td>\n",
              "      <td>0.459820</td>\n",
              "      <td>0.440842</td>\n",
              "      <td>0.436896</td>\n",
              "      <td>0.433709</td>\n",
              "      <td>0.440339</td>\n",
              "      <td>0.655449</td>\n",
              "      <td>0.344551</td>\n",
              "    </tr>\n",
              "    <tr>\n",
              "      <th>std</th>\n",
              "      <td>112351.352021</td>\n",
              "      <td>0.313793</td>\n",
              "      <td>0.461687</td>\n",
              "      <td>0.499451</td>\n",
              "      <td>0.456579</td>\n",
              "      <td>0.427799</td>\n",
              "      <td>0.412895</td>\n",
              "      <td>0.389781</td>\n",
              "      <td>2.537459e-01</td>\n",
              "      <td>0.499538</td>\n",
              "      <td>...</td>\n",
              "      <td>0.494095</td>\n",
              "      <td>0.493154</td>\n",
              "      <td>0.494451</td>\n",
              "      <td>0.498384</td>\n",
              "      <td>0.496489</td>\n",
              "      <td>0.496002</td>\n",
              "      <td>0.495587</td>\n",
              "      <td>0.496428</td>\n",
              "      <td>0.475222</td>\n",
              "      <td>0.475222</td>\n",
              "    </tr>\n",
              "    <tr>\n",
              "      <th>min</th>\n",
              "      <td>0.000000</td>\n",
              "      <td>0.000000</td>\n",
              "      <td>0.000000</td>\n",
              "      <td>0.000000</td>\n",
              "      <td>0.000000</td>\n",
              "      <td>0.000000</td>\n",
              "      <td>0.000000</td>\n",
              "      <td>0.000000</td>\n",
              "      <td>5.506237e-16</td>\n",
              "      <td>0.000000</td>\n",
              "      <td>...</td>\n",
              "      <td>0.000000</td>\n",
              "      <td>0.000000</td>\n",
              "      <td>0.000000</td>\n",
              "      <td>0.000000</td>\n",
              "      <td>0.000000</td>\n",
              "      <td>0.000000</td>\n",
              "      <td>0.000000</td>\n",
              "      <td>0.000000</td>\n",
              "      <td>0.000000</td>\n",
              "      <td>0.000000</td>\n",
              "    </tr>\n",
              "    <tr>\n",
              "      <th>25%</th>\n",
              "      <td>97298.750000</td>\n",
              "      <td>1.000000</td>\n",
              "      <td>0.000000</td>\n",
              "      <td>0.000000</td>\n",
              "      <td>0.000000</td>\n",
              "      <td>0.000000</td>\n",
              "      <td>0.000000</td>\n",
              "      <td>0.000000</td>\n",
              "      <td>2.507866e-01</td>\n",
              "      <td>0.000000</td>\n",
              "      <td>...</td>\n",
              "      <td>0.000000</td>\n",
              "      <td>0.000000</td>\n",
              "      <td>0.000000</td>\n",
              "      <td>0.000000</td>\n",
              "      <td>0.000000</td>\n",
              "      <td>0.000000</td>\n",
              "      <td>0.000000</td>\n",
              "      <td>0.000000</td>\n",
              "      <td>0.000000</td>\n",
              "      <td>0.000000</td>\n",
              "    </tr>\n",
              "    <tr>\n",
              "      <th>50%</th>\n",
              "      <td>194597.500000</td>\n",
              "      <td>1.000000</td>\n",
              "      <td>1.000000</td>\n",
              "      <td>0.000000</td>\n",
              "      <td>0.000000</td>\n",
              "      <td>0.000000</td>\n",
              "      <td>0.000000</td>\n",
              "      <td>0.000000</td>\n",
              "      <td>4.375241e-01</td>\n",
              "      <td>1.000000</td>\n",
              "      <td>...</td>\n",
              "      <td>0.000000</td>\n",
              "      <td>0.000000</td>\n",
              "      <td>0.000000</td>\n",
              "      <td>0.000000</td>\n",
              "      <td>0.000000</td>\n",
              "      <td>0.000000</td>\n",
              "      <td>0.000000</td>\n",
              "      <td>0.000000</td>\n",
              "      <td>1.000000</td>\n",
              "      <td>0.000000</td>\n",
              "    </tr>\n",
              "    <tr>\n",
              "      <th>75%</th>\n",
              "      <td>291896.250000</td>\n",
              "      <td>1.000000</td>\n",
              "      <td>1.000000</td>\n",
              "      <td>1.000000</td>\n",
              "      <td>1.000000</td>\n",
              "      <td>0.000000</td>\n",
              "      <td>0.000000</td>\n",
              "      <td>0.000000</td>\n",
              "      <td>6.578835e-01</td>\n",
              "      <td>1.000000</td>\n",
              "      <td>...</td>\n",
              "      <td>1.000000</td>\n",
              "      <td>1.000000</td>\n",
              "      <td>1.000000</td>\n",
              "      <td>1.000000</td>\n",
              "      <td>1.000000</td>\n",
              "      <td>1.000000</td>\n",
              "      <td>1.000000</td>\n",
              "      <td>1.000000</td>\n",
              "      <td>1.000000</td>\n",
              "      <td>1.000000</td>\n",
              "    </tr>\n",
              "    <tr>\n",
              "      <th>max</th>\n",
              "      <td>389195.000000</td>\n",
              "      <td>1.000000</td>\n",
              "      <td>1.000000</td>\n",
              "      <td>1.000000</td>\n",
              "      <td>1.000000</td>\n",
              "      <td>1.000000</td>\n",
              "      <td>1.000000</td>\n",
              "      <td>1.000000</td>\n",
              "      <td>1.000000e+00</td>\n",
              "      <td>1.000000</td>\n",
              "      <td>...</td>\n",
              "      <td>1.000000</td>\n",
              "      <td>1.000000</td>\n",
              "      <td>1.000000</td>\n",
              "      <td>1.000000</td>\n",
              "      <td>1.000000</td>\n",
              "      <td>1.000000</td>\n",
              "      <td>1.000000</td>\n",
              "      <td>1.000000</td>\n",
              "      <td>1.000000</td>\n",
              "      <td>1.000000</td>\n",
              "    </tr>\n",
              "  </tbody>\n",
              "</table>\n",
              "<p>8 rows × 246 columns</p>\n",
              "</div>\n",
              "      <button class=\"colab-df-convert\" onclick=\"convertToInteractive('df-94bce2cf-a2da-4d1b-8a94-61f3dea8d862')\"\n",
              "              title=\"Convert this dataframe to an interactive table.\"\n",
              "              style=\"display:none;\">\n",
              "        \n",
              "  <svg xmlns=\"http://www.w3.org/2000/svg\" height=\"24px\"viewBox=\"0 0 24 24\"\n",
              "       width=\"24px\">\n",
              "    <path d=\"M0 0h24v24H0V0z\" fill=\"none\"/>\n",
              "    <path d=\"M18.56 5.44l.94 2.06.94-2.06 2.06-.94-2.06-.94-.94-2.06-.94 2.06-2.06.94zm-11 1L8.5 8.5l.94-2.06 2.06-.94-2.06-.94L8.5 2.5l-.94 2.06-2.06.94zm10 10l.94 2.06.94-2.06 2.06-.94-2.06-.94-.94-2.06-.94 2.06-2.06.94z\"/><path d=\"M17.41 7.96l-1.37-1.37c-.4-.4-.92-.59-1.43-.59-.52 0-1.04.2-1.43.59L10.3 9.45l-7.72 7.72c-.78.78-.78 2.05 0 2.83L4 21.41c.39.39.9.59 1.41.59.51 0 1.02-.2 1.41-.59l7.78-7.78 2.81-2.81c.8-.78.8-2.07 0-2.86zM5.41 20L4 18.59l7.72-7.72 1.47 1.35L5.41 20z\"/>\n",
              "  </svg>\n",
              "      </button>\n",
              "      \n",
              "  <style>\n",
              "    .colab-df-container {\n",
              "      display:flex;\n",
              "      flex-wrap:wrap;\n",
              "      gap: 12px;\n",
              "    }\n",
              "\n",
              "    .colab-df-convert {\n",
              "      background-color: #E8F0FE;\n",
              "      border: none;\n",
              "      border-radius: 50%;\n",
              "      cursor: pointer;\n",
              "      display: none;\n",
              "      fill: #1967D2;\n",
              "      height: 32px;\n",
              "      padding: 0 0 0 0;\n",
              "      width: 32px;\n",
              "    }\n",
              "\n",
              "    .colab-df-convert:hover {\n",
              "      background-color: #E2EBFA;\n",
              "      box-shadow: 0px 1px 2px rgba(60, 64, 67, 0.3), 0px 1px 3px 1px rgba(60, 64, 67, 0.15);\n",
              "      fill: #174EA6;\n",
              "    }\n",
              "\n",
              "    [theme=dark] .colab-df-convert {\n",
              "      background-color: #3B4455;\n",
              "      fill: #D2E3FC;\n",
              "    }\n",
              "\n",
              "    [theme=dark] .colab-df-convert:hover {\n",
              "      background-color: #434B5C;\n",
              "      box-shadow: 0px 1px 3px 1px rgba(0, 0, 0, 0.15);\n",
              "      filter: drop-shadow(0px 1px 2px rgba(0, 0, 0, 0.3));\n",
              "      fill: #FFFFFF;\n",
              "    }\n",
              "  </style>\n",
              "\n",
              "      <script>\n",
              "        const buttonEl =\n",
              "          document.querySelector('#df-94bce2cf-a2da-4d1b-8a94-61f3dea8d862 button.colab-df-convert');\n",
              "        buttonEl.style.display =\n",
              "          google.colab.kernel.accessAllowed ? 'block' : 'none';\n",
              "\n",
              "        async function convertToInteractive(key) {\n",
              "          const element = document.querySelector('#df-94bce2cf-a2da-4d1b-8a94-61f3dea8d862');\n",
              "          const dataTable =\n",
              "            await google.colab.kernel.invokeFunction('convertToInteractive',\n",
              "                                                     [key], {});\n",
              "          if (!dataTable) return;\n",
              "\n",
              "          const docLinkHtml = 'Like what you see? Visit the ' +\n",
              "            '<a target=\"_blank\" href=https://colab.research.google.com/notebooks/data_table.ipynb>data table notebook</a>'\n",
              "            + ' to learn more about interactive tables.';\n",
              "          element.innerHTML = '';\n",
              "          dataTable['output_type'] = 'display_data';\n",
              "          await google.colab.output.renderOutput(dataTable, element);\n",
              "          const docLink = document.createElement('div');\n",
              "          docLink.innerHTML = docLinkHtml;\n",
              "          element.appendChild(docLink);\n",
              "        }\n",
              "      </script>\n",
              "    </div>\n",
              "  </div>\n",
              "  "
            ]
          },
          "metadata": {},
          "execution_count": 11
        }
      ],
      "source": [
        "df.describe()"
      ]
    },
    {
      "cell_type": "markdown",
      "metadata": {
        "id": "MSsbzcc3NjZ6"
      },
      "source": [
        "Como os parâmetros 'IND_BOM_1_1' e 'IND_BOM_1_2' são indicadores do mesmo dado, podemos trabalhar apenas com um deles. Para a nossa análise, escolhemos 'IND_BOM_1_2'."
      ]
    },
    {
      "cell_type": "code",
      "execution_count": null,
      "metadata": {
        "colab": {
          "base_uri": "https://localhost:8080/"
        },
        "id": "6nAMg0CgZQNr",
        "outputId": "1eec3665-67d9-4ba9-9c08-75cfad9f4661"
      },
      "outputs": [
        {
          "output_type": "execute_result",
          "data": {
            "text/plain": [
              "1    255098\n",
              "0    134098\n",
              "Name: IND_BOM_1_1, dtype: int64"
            ]
          },
          "metadata": {},
          "execution_count": 12
        }
      ],
      "source": [
        "df['IND_BOM_1_1'].value_counts()"
      ]
    },
    {
      "cell_type": "code",
      "execution_count": null,
      "metadata": {
        "colab": {
          "base_uri": "https://localhost:8080/"
        },
        "id": "7AM057-FZUta",
        "outputId": "904d44f6-3c0c-4937-99fd-9cc4d2932c20"
      },
      "outputs": [
        {
          "output_type": "execute_result",
          "data": {
            "text/plain": [
              "0    255098\n",
              "1    134098\n",
              "Name: IND_BOM_1_2, dtype: int64"
            ]
          },
          "metadata": {},
          "execution_count": 13
        }
      ],
      "source": [
        "df['IND_BOM_1_2'].value_counts()"
      ]
    },
    {
      "cell_type": "code",
      "execution_count": null,
      "metadata": {
        "colab": {
          "base_uri": "https://localhost:8080/"
        },
        "id": "ugGdTLO33sPF",
        "outputId": "c6c20dad-25c4-484f-da17-e607386f5f88"
      },
      "outputs": [
        {
          "output_type": "execute_result",
          "data": {
            "text/plain": [
              "0"
            ]
          },
          "metadata": {},
          "execution_count": 14
        }
      ],
      "source": [
        "# Vemos aqui que não possuímos 'IND_BOM_1_1' e 'IND_BOM_1_2' com valores iguais para uma mesma instância\n",
        "df.loc[((df['IND_BOM_1_1'] == 0) & ( df['IND_BOM_1_2'] == 0)) | ((df['IND_BOM_1_1'] == 1) & ( df['IND_BOM_1_2'] == 1))].count()[0]"
      ]
    },
    {
      "cell_type": "markdown",
      "metadata": {
        "id": "z-IC4jpsNMc9"
      },
      "source": [
        "Como podemos ver no plot a seguir, há uma distribuição desigual das instâncias no referente ao parâmetro de concessão de crédito."
      ]
    },
    {
      "cell_type": "code",
      "execution_count": null,
      "metadata": {
        "colab": {
          "base_uri": "https://localhost:8080/",
          "height": 463
        },
        "id": "zu83l4C77wiB",
        "outputId": "6a3fb720-8188-44c4-cca1-219660e41421"
      },
      "outputs": [
        {
          "output_type": "display_data",
          "data": {
            "text/plain": [
              "<Figure size 640x480 with 1 Axes>"
            ],
            "image/png": "[encoded data removed]"
          },
          "metadata": {}
        }
      ],
      "source": [
        "sns.set_theme(style=\"whitegrid\")\n",
        "title=\"Penguin species exhibit distinct bill shapes\"\n",
        "ax = sns.countplot(data=df, x='IND_BOM_1_2')\n",
        "ax.set(xlabel='Payment Likelihood', ylabel='Count')\n",
        "for p in ax.patches:\n",
        "  ax.annotate(format(p.get_height(), '.0f'), (p.get_x() + p.get_width() / 2., p.get_height()),  ha = 'center', va = 'center', xytext = (0, 10), textcoords = 'offset points')\n",
        "plt.show()"
      ]
    },
    {
      "cell_type": "markdown",
      "metadata": {
        "id": "Ayr27YomSSUO"
      },
      "source": [
        "Fazemos uma separação das instâncias com valor do parâmetro analisado."
      ]
    },
    {
      "cell_type": "code",
      "execution_count": null,
      "metadata": {
        "id": "sWIZOdeKSt_x"
      },
      "outputs": [],
      "source": [
        "dfMinor = df[df['IND_BOM_1_2']==1]\n",
        "dfMajor = df[df['IND_BOM_1_2']==0]"
      ]
    },
    {
      "cell_type": "markdown",
      "metadata": {
        "id": "QnMMYQCKO51U"
      },
      "source": [
        "### Set de Treino e Validação"
      ]
    },
    {
      "cell_type": "markdown",
      "metadata": {
        "id": "TwsRSa4APPiS"
      },
      "source": [
        "Separamos os dados em set treino e validação em uma proporação de 70% para 30%, respectivamente (segmentando o target 'IND_BOM_1_2' e removendo o parâmetro 'IND_BOM_1_1' que é redundante). Como pretendemos fazer uma mistura dos dados Major e Minor, posteriormente, mantemos o target label no dataset X."
      ]
    },
    {
      "cell_type": "code",
      "execution_count": null,
      "metadata": {
        "id": "sVlos_K2B38T"
      },
      "outputs": [],
      "source": [
        "data_train_minor, data_val_minor, _, _ = train_test_split(dfMinor, dfMinor['IND_BOM_1_2'], test_size=0.33, random_state=42)"
      ]
    },
    {
      "cell_type": "code",
      "execution_count": null,
      "metadata": {
        "colab": {
          "base_uri": "https://localhost:8080/"
        },
        "id": "Z3zoSvKHQXKy",
        "outputId": "32e4222e-a043-4f26-b66b-b941ff580ea3"
      },
      "outputs": [
        {
          "output_type": "stream",
          "name": "stdout",
          "text": [
            "(89845, 246)\n"
          ]
        }
      ],
      "source": [
        "print(data_train_minor.shape)"
      ]
    },
    {
      "cell_type": "code",
      "execution_count": null,
      "metadata": {
        "colab": {
          "base_uri": "https://localhost:8080/"
        },
        "id": "4O9h9s3dq_91",
        "outputId": "568d51cf-73bc-46b8-85ff-fa7096b06212"
      },
      "outputs": [
        {
          "output_type": "stream",
          "name": "stdout",
          "text": [
            "(44253, 246)\n"
          ]
        }
      ],
      "source": [
        "print(data_val_minor.shape)"
      ]
    },
    {
      "cell_type": "code",
      "execution_count": null,
      "metadata": {
        "id": "vUamErgIVjsF"
      },
      "outputs": [],
      "source": [
        "data_train_major, data_val_major, _, _ = train_test_split(dfMajor, dfMajor['IND_BOM_1_2'], test_size=0.33, random_state=42)"
      ]
    },
    {
      "cell_type": "code",
      "execution_count": null,
      "metadata": {
        "colab": {
          "base_uri": "https://localhost:8080/"
        },
        "id": "ORVWKMUWVvK-",
        "outputId": "4f67b3f7-5cd9-4e35-aec4-95e578c808ce"
      },
      "outputs": [
        {
          "output_type": "stream",
          "name": "stdout",
          "text": [
            "(170915, 246)\n"
          ]
        }
      ],
      "source": [
        "print(data_train_major.shape)"
      ]
    },
    {
      "cell_type": "code",
      "execution_count": null,
      "metadata": {
        "colab": {
          "base_uri": "https://localhost:8080/"
        },
        "id": "p2QOx9qirB_u",
        "outputId": "85b856e1-0980-4c3a-8dfd-4ee98ea83242"
      },
      "outputs": [
        {
          "output_type": "stream",
          "name": "stdout",
          "text": [
            "(84183, 246)\n"
          ]
        }
      ],
      "source": [
        "print(data_val_major.shape)"
      ]
    },
    {
      "cell_type": "markdown",
      "metadata": {
        "id": "h3-bwLB2Wx-l"
      },
      "source": [
        "### Oversampling"
      ]
    },
    {
      "cell_type": "markdown",
      "metadata": {
        "id": "NTgwHkL5W1lM"
      },
      "source": [
        "Visto que possuímos uma distribuição desigual de dados por classe, fazemos uma repopulação de instâncias de treino X_train_major até que a quantidade seja equivalente a X_train_minor (Fazemos uma concatenação simples)."
      ]
    },
    {
      "cell_type": "code",
      "execution_count": null,
      "metadata": {
        "colab": {
          "base_uri": "https://localhost:8080/"
        },
        "id": "Gw4mubC4WudV",
        "outputId": "8e9731dd-14b9-4d3e-caec-f103acd8dcc5"
      },
      "outputs": [
        {
          "output_type": "execute_result",
          "data": {
            "text/plain": [
              "81070"
            ]
          },
          "metadata": {},
          "execution_count": 23
        }
      ],
      "source": [
        "difference_train = data_train_major.shape[0] - data_train_minor.shape[0]\n",
        "difference_train"
      ]
    },
    {
      "cell_type": "code",
      "execution_count": null,
      "metadata": {
        "id": "abvwx3-KcKhm"
      },
      "outputs": [],
      "source": [
        "data_train_minor_sampled = pd.concat([data_train_minor, data_train_minor[:difference_train]])"
      ]
    },
    {
      "cell_type": "code",
      "execution_count": null,
      "metadata": {
        "colab": {
          "base_uri": "https://localhost:8080/"
        },
        "id": "SRXVxgVTcXbr",
        "outputId": "e789f923-c330-4484-f410-839af5162bcd"
      },
      "outputs": [
        {
          "output_type": "execute_result",
          "data": {
            "text/plain": [
              "(170915, 246)"
            ]
          },
          "metadata": {},
          "execution_count": 25
        }
      ],
      "source": [
        "data_train_minor_sampled.shape"
      ]
    },
    {
      "cell_type": "code",
      "execution_count": null,
      "metadata": {
        "colab": {
          "base_uri": "https://localhost:8080/"
        },
        "id": "oHujRj16fcNf",
        "outputId": "3eb73637-12de-4c92-fcfd-c87c4c11c8c6"
      },
      "outputs": [
        {
          "output_type": "execute_result",
          "data": {
            "text/plain": [
              "True"
            ]
          },
          "metadata": {},
          "execution_count": 26
        }
      ],
      "source": [
        "data_train_minor_sampled.shape == data_train_major.shape"
      ]
    },
    {
      "cell_type": "code",
      "execution_count": null,
      "metadata": {
        "colab": {
          "base_uri": "https://localhost:8080/"
        },
        "id": "OOejBEgtqvs-",
        "outputId": "920339cd-74e7-4b75-a7f1-0e244a28cbe3"
      },
      "outputs": [
        {
          "output_type": "execute_result",
          "data": {
            "text/plain": [
              "39930"
            ]
          },
          "metadata": {},
          "execution_count": 27
        }
      ],
      "source": [
        "difference_val = data_val_major.shape[0] - data_val_minor.shape[0]\n",
        "difference_val"
      ]
    },
    {
      "cell_type": "code",
      "execution_count": null,
      "metadata": {
        "id": "SMu2YluUq0r6"
      },
      "outputs": [],
      "source": [
        "data_val_minor_sampled = pd.concat([data_val_minor, data_val_minor[:difference_val]])"
      ]
    },
    {
      "cell_type": "code",
      "execution_count": null,
      "metadata": {
        "colab": {
          "base_uri": "https://localhost:8080/"
        },
        "id": "35lH6GaKq6yo",
        "outputId": "703e0946-b928-4a77-bc78-8e23c37a50de"
      },
      "outputs": [
        {
          "output_type": "execute_result",
          "data": {
            "text/plain": [
              "(84183, 246)"
            ]
          },
          "metadata": {},
          "execution_count": 29
        }
      ],
      "source": [
        "data_val_minor_sampled.shape"
      ]
    },
    {
      "cell_type": "code",
      "execution_count": null,
      "metadata": {
        "colab": {
          "base_uri": "https://localhost:8080/"
        },
        "id": "raih2Q1rrGpt",
        "outputId": "33779773-1b1d-4b96-8b17-4bffbc1696b3"
      },
      "outputs": [
        {
          "output_type": "execute_result",
          "data": {
            "text/plain": [
              "True"
            ]
          },
          "metadata": {},
          "execution_count": 30
        }
      ],
      "source": [
        "data_val_minor_sampled.shape == data_val_major.shape"
      ]
    },
    {
      "cell_type": "markdown",
      "metadata": {
        "id": "8gi2Tp4qdAzs"
      },
      "source": [
        "### Concatenação e Randomização dos Dados"
      ]
    },
    {
      "cell_type": "code",
      "execution_count": null,
      "metadata": {
        "id": "19Oc4oYCdot5"
      },
      "outputs": [],
      "source": [
        "data_train = pd.concat([data_train_minor_sampled, data_train_major]).sample(frac=1, random_state=42).reset_index(drop=True)"
      ]
    },
    {
      "cell_type": "code",
      "execution_count": null,
      "metadata": {
        "colab": {
          "base_uri": "https://localhost:8080/"
        },
        "id": "NskHmXY1gKJO",
        "outputId": "83a404e7-9d09-4054-ae75-3dcc78bb5bed"
      },
      "outputs": [
        {
          "output_type": "execute_result",
          "data": {
            "text/plain": [
              "(341830, 246)"
            ]
          },
          "metadata": {},
          "execution_count": 32
        }
      ],
      "source": [
        "data_train.shape"
      ]
    },
    {
      "cell_type": "code",
      "execution_count": null,
      "metadata": {
        "colab": {
          "base_uri": "https://localhost:8080/",
          "height": 235
        },
        "id": "gzK_NkAIfwxn",
        "outputId": "a1468f73-e6bf-4dc5-836c-f917549e6a51"
      },
      "outputs": [
        {
          "output_type": "execute_result",
          "data": {
            "text/plain": [
              "    INDEX  UF_1  UF_2  UF_3  UF_4  UF_5  UF_6  UF_7     IDADE  SEXO_1  ...  \\\n",
              "0  288589     1     1     0     0     0     0     1  1.000000       0  ...   \n",
              "1  191828     1     1     0     0     0     1     0  0.816508       0  ...   \n",
              "2  364983     1     0     0     1     0     0     1  0.438603       0  ...   \n",
              "3  200911     1     1     1     0     0     0     0  0.578145       1  ...   \n",
              "4  151300     1     1     0     0     1     0     0  0.639880       1  ...   \n",
              "\n",
              "   CEP4_7  CEP4_8  CEP4_9  CEP4_10  CEP4_11  CEP4_12  CEP4_13  CEP4_14  \\\n",
              "0       0       0       0        1        1        1        0        1   \n",
              "1       0       0       0        1        1        0        0        0   \n",
              "2       0       0       0        1        0        1        0        1   \n",
              "3       0       0       1        0        1        1        0        0   \n",
              "4       0       1       1        0        0        0        0        1   \n",
              "\n",
              "   IND_BOM_1_1  IND_BOM_1_2  \n",
              "0            1            0  \n",
              "1            1            0  \n",
              "2            0            1  \n",
              "3            0            1  \n",
              "4            0            1  \n",
              "\n",
              "[5 rows x 246 columns]"
            ],
            "text/html": [
              "\n",
              "  <div id=\"df-4b43a139-2c39-45fe-8fa4-12c16b8ada68\">\n",
              "    <div class=\"colab-df-container\">\n",
              "      <div>\n",
              "<style scoped>\n",
              "    .dataframe tbody tr th:only-of-type {\n",
              "        vertical-align: middle;\n",
              "    }\n",
              "\n",
              "    .dataframe tbody tr th {\n",
              "        vertical-align: top;\n",
              "    }\n",
              "\n",
              "    .dataframe thead th {\n",
              "        text-align: right;\n",
              "    }\n",
              "</style>\n",
              "<table border=\"1\" class=\"dataframe\">\n",
              "  <thead>\n",
              "    <tr style=\"text-align: right;\">\n",
              "      <th></th>\n",
              "      <th>INDEX</th>\n",
              "      <th>UF_1</th>\n",
              "      <th>UF_2</th>\n",
              "      <th>UF_3</th>\n",
              "      <th>UF_4</th>\n",
              "      <th>UF_5</th>\n",
              "      <th>UF_6</th>\n",
              "      <th>UF_7</th>\n",
              "      <th>IDADE</th>\n",
              "      <th>SEXO_1</th>\n",
              "      <th>...</th>\n",
              "      <th>CEP4_7</th>\n",
              "      <th>CEP4_8</th>\n",
              "      <th>CEP4_9</th>\n",
              "      <th>CEP4_10</th>\n",
              "      <th>CEP4_11</th>\n",
              "      <th>CEP4_12</th>\n",
              "      <th>CEP4_13</th>\n",
              "      <th>CEP4_14</th>\n",
              "      <th>IND_BOM_1_1</th>\n",
              "      <th>IND_BOM_1_2</th>\n",
              "    </tr>\n",
              "  </thead>\n",
              "  <tbody>\n",
              "    <tr>\n",
              "      <th>0</th>\n",
              "      <td>288589</td>\n",
              "      <td>1</td>\n",
              "      <td>1</td>\n",
              "      <td>0</td>\n",
              "      <td>0</td>\n",
              "      <td>0</td>\n",
              "      <td>0</td>\n",
              "      <td>1</td>\n",
              "      <td>1.000000</td>\n",
              "      <td>0</td>\n",
              "      <td>...</td>\n",
              "      <td>0</td>\n",
              "      <td>0</td>\n",
              "      <td>0</td>\n",
              "      <td>1</td>\n",
              "      <td>1</td>\n",
              "      <td>1</td>\n",
              "      <td>0</td>\n",
              "      <td>1</td>\n",
              "      <td>1</td>\n",
              "      <td>0</td>\n",
              "    </tr>\n",
              "    <tr>\n",
              "      <th>1</th>\n",
              "      <td>191828</td>\n",
              "      <td>1</td>\n",
              "      <td>1</td>\n",
              "      <td>0</td>\n",
              "      <td>0</td>\n",
              "      <td>0</td>\n",
              "      <td>1</td>\n",
              "      <td>0</td>\n",
              "      <td>0.816508</td>\n",
              "      <td>0</td>\n",
              "      <td>...</td>\n",
              "      <td>0</td>\n",
              "      <td>0</td>\n",
              "      <td>0</td>\n",
              "      <td>1</td>\n",
              "      <td>1</td>\n",
              "      <td>0</td>\n",
              "      <td>0</td>\n",
              "      <td>0</td>\n",
              "      <td>1</td>\n",
              "      <td>0</td>\n",
              "    </tr>\n",
              "    <tr>\n",
              "      <th>2</th>\n",
              "      <td>364983</td>\n",
              "      <td>1</td>\n",
              "      <td>0</td>\n",
              "      <td>0</td>\n",
              "      <td>1</td>\n",
              "      <td>0</td>\n",
              "      <td>0</td>\n",
              "      <td>1</td>\n",
              "      <td>0.438603</td>\n",
              "      <td>0</td>\n",
              "      <td>...</td>\n",
              "      <td>0</td>\n",
              "      <td>0</td>\n",
              "      <td>0</td>\n",
              "      <td>1</td>\n",
              "      <td>0</td>\n",
              "      <td>1</td>\n",
              "      <td>0</td>\n",
              "      <td>1</td>\n",
              "      <td>0</td>\n",
              "      <td>1</td>\n",
              "    </tr>\n",
              "    <tr>\n",
              "      <th>3</th>\n",
              "      <td>200911</td>\n",
              "      <td>1</td>\n",
              "      <td>1</td>\n",
              "      <td>1</td>\n",
              "      <td>0</td>\n",
              "      <td>0</td>\n",
              "      <td>0</td>\n",
              "      <td>0</td>\n",
              "      <td>0.578145</td>\n",
              "      <td>1</td>\n",
              "      <td>...</td>\n",
              "      <td>0</td>\n",
              "      <td>0</td>\n",
              "      <td>1</td>\n",
              "      <td>0</td>\n",
              "      <td>1</td>\n",
              "      <td>1</td>\n",
              "      <td>0</td>\n",
              "      <td>0</td>\n",
              "      <td>0</td>\n",
              "      <td>1</td>\n",
              "    </tr>\n",
              "    <tr>\n",
              "      <th>4</th>\n",
              "      <td>151300</td>\n",
              "      <td>1</td>\n",
              "      <td>1</td>\n",
              "      <td>0</td>\n",
              "      <td>0</td>\n",
              "      <td>1</td>\n",
              "      <td>0</td>\n",
              "      <td>0</td>\n",
              "      <td>0.639880</td>\n",
              "      <td>1</td>\n",
              "      <td>...</td>\n",
              "      <td>0</td>\n",
              "      <td>1</td>\n",
              "      <td>1</td>\n",
              "      <td>0</td>\n",
              "      <td>0</td>\n",
              "      <td>0</td>\n",
              "      <td>0</td>\n",
              "      <td>1</td>\n",
              "      <td>0</td>\n",
              "      <td>1</td>\n",
              "    </tr>\n",
              "  </tbody>\n",
              "</table>\n",
              "<p>5 rows × 246 columns</p>\n",
              "</div>\n",
              "      <button class=\"colab-df-convert\" onclick=\"convertToInteractive('df-4b43a139-2c39-45fe-8fa4-12c16b8ada68')\"\n",
              "              title=\"Convert this dataframe to an interactive table.\"\n",
              "              style=\"display:none;\">\n",
              "        \n",
              "  <svg xmlns=\"http://www.w3.org/2000/svg\" height=\"24px\"viewBox=\"0 0 24 24\"\n",
              "       width=\"24px\">\n",
              "    <path d=\"M0 0h24v24H0V0z\" fill=\"none\"/>\n",
              "    <path d=\"M18.56 5.44l.94 2.06.94-2.06 2.06-.94-2.06-.94-.94-2.06-.94 2.06-2.06.94zm-11 1L8.5 8.5l.94-2.06 2.06-.94-2.06-.94L8.5 2.5l-.94 2.06-2.06.94zm10 10l.94 2.06.94-2.06 2.06-.94-2.06-.94-.94-2.06-.94 2.06-2.06.94z\"/><path d=\"M17.41 7.96l-1.37-1.37c-.4-.4-.92-.59-1.43-.59-.52 0-1.04.2-1.43.59L10.3 9.45l-7.72 7.72c-.78.78-.78 2.05 0 2.83L4 21.41c.39.39.9.59 1.41.59.51 0 1.02-.2 1.41-.59l7.78-7.78 2.81-2.81c.8-.78.8-2.07 0-2.86zM5.41 20L4 18.59l7.72-7.72 1.47 1.35L5.41 20z\"/>\n",
              "  </svg>\n",
              "      </button>\n",
              "      \n",
              "  <style>\n",
              "    .colab-df-container {\n",
              "      display:flex;\n",
              "      flex-wrap:wrap;\n",
              "      gap: 12px;\n",
              "    }\n",
              "\n",
              "    .colab-df-convert {\n",
              "      background-color: #E8F0FE;\n",
              "      border: none;\n",
              "      border-radius: 50%;\n",
              "      cursor: pointer;\n",
              "      display: none;\n",
              "      fill: #1967D2;\n",
              "      height: 32px;\n",
              "      padding: 0 0 0 0;\n",
              "      width: 32px;\n",
              "    }\n",
              "\n",
              "    .colab-df-convert:hover {\n",
              "      background-color: #E2EBFA;\n",
              "      box-shadow: 0px 1px 2px rgba(60, 64, 67, 0.3), 0px 1px 3px 1px rgba(60, 64, 67, 0.15);\n",
              "      fill: #174EA6;\n",
              "    }\n",
              "\n",
              "    [theme=dark] .colab-df-convert {\n",
              "      background-color: #3B4455;\n",
              "      fill: #D2E3FC;\n",
              "    }\n",
              "\n",
              "    [theme=dark] .colab-df-convert:hover {\n",
              "      background-color: #434B5C;\n",
              "      box-shadow: 0px 1px 3px 1px rgba(0, 0, 0, 0.15);\n",
              "      filter: drop-shadow(0px 1px 2px rgba(0, 0, 0, 0.3));\n",
              "      fill: #FFFFFF;\n",
              "    }\n",
              "  </style>\n",
              "\n",
              "      <script>\n",
              "        const buttonEl =\n",
              "          document.querySelector('#df-4b43a139-2c39-45fe-8fa4-12c16b8ada68 button.colab-df-convert');\n",
              "        buttonEl.style.display =\n",
              "          google.colab.kernel.accessAllowed ? 'block' : 'none';\n",
              "\n",
              "        async function convertToInteractive(key) {\n",
              "          const element = document.querySelector('#df-4b43a139-2c39-45fe-8fa4-12c16b8ada68');\n",
              "          const dataTable =\n",
              "            await google.colab.kernel.invokeFunction('convertToInteractive',\n",
              "                                                     [key], {});\n",
              "          if (!dataTable) return;\n",
              "\n",
              "          const docLinkHtml = 'Like what you see? Visit the ' +\n",
              "            '<a target=\"_blank\" href=https://colab.research.google.com/notebooks/data_table.ipynb>data table notebook</a>'\n",
              "            + ' to learn more about interactive tables.';\n",
              "          element.innerHTML = '';\n",
              "          dataTable['output_type'] = 'display_data';\n",
              "          await google.colab.output.renderOutput(dataTable, element);\n",
              "          const docLink = document.createElement('div');\n",
              "          docLink.innerHTML = docLinkHtml;\n",
              "          element.appendChild(docLink);\n",
              "        }\n",
              "      </script>\n",
              "    </div>\n",
              "  </div>\n",
              "  "
            ]
          },
          "metadata": {},
          "execution_count": 33
        }
      ],
      "source": [
        "data_train.head(5)"
      ]
    },
    {
      "cell_type": "code",
      "execution_count": null,
      "metadata": {
        "id": "itmybm6pqea6"
      },
      "outputs": [],
      "source": [
        "data_val = pd.concat([data_val_minor_sampled, data_val_major]).sample(frac=1, random_state=42).reset_index(drop=True)"
      ]
    },
    {
      "cell_type": "code",
      "execution_count": null,
      "metadata": {
        "colab": {
          "base_uri": "https://localhost:8080/"
        },
        "id": "Zi3POBdjgnpq",
        "outputId": "0972e36a-19cc-48db-99d3-7f672bacb2a5"
      },
      "outputs": [
        {
          "output_type": "execute_result",
          "data": {
            "text/plain": [
              "(168366, 246)"
            ]
          },
          "metadata": {},
          "execution_count": 35
        }
      ],
      "source": [
        "data_val.shape"
      ]
    },
    {
      "cell_type": "code",
      "execution_count": null,
      "metadata": {
        "colab": {
          "base_uri": "https://localhost:8080/",
          "height": 235
        },
        "id": "smdyK4ZwtNPo",
        "outputId": "8b866d95-df61-4601-d3b5-59392ea2dfba"
      },
      "outputs": [
        {
          "output_type": "execute_result",
          "data": {
            "text/plain": [
              "    INDEX  UF_1  UF_2  UF_3  UF_4  UF_5  UF_6  UF_7     IDADE  SEXO_1  ...  \\\n",
              "0  241985     1     0     0     1     1     0     0  0.469215       1  ...   \n",
              "1  133371     1     0     0     1     1     0     0  0.220175       0  ...   \n",
              "2  188775     1     1     1     0     0     0     0  0.682134       1  ...   \n",
              "3   67904     1     1     1     0     0     0     0  0.118401       0  ...   \n",
              "4   69261     1     1     0     1     0     0     0  0.627045       1  ...   \n",
              "\n",
              "   CEP4_7  CEP4_8  CEP4_9  CEP4_10  CEP4_11  CEP4_12  CEP4_13  CEP4_14  \\\n",
              "0       0       1       1        0        0        1        0        1   \n",
              "1       1       1       1        0        0        0        0        0   \n",
              "2       0       1       0        1        1        1        0        0   \n",
              "3       0       0       0        1        1        0        1        0   \n",
              "4       1       1       0        0        0        0        1        0   \n",
              "\n",
              "   IND_BOM_1_1  IND_BOM_1_2  \n",
              "0            1            0  \n",
              "1            1            0  \n",
              "2            0            1  \n",
              "3            0            1  \n",
              "4            1            0  \n",
              "\n",
              "[5 rows x 246 columns]"
            ],
            "text/html": [
              "\n",
              "  <div id=\"df-800328c3-3a72-46c7-b71e-01e376a4f981\">\n",
              "    <div class=\"colab-df-container\">\n",
              "      <div>\n",
              "<style scoped>\n",
              "    .dataframe tbody tr th:only-of-type {\n",
              "        vertical-align: middle;\n",
              "    }\n",
              "\n",
              "    .dataframe tbody tr th {\n",
              "        vertical-align: top;\n",
              "    }\n",
              "\n",
              "    .dataframe thead th {\n",
              "        text-align: right;\n",
              "    }\n",
              "</style>\n",
              "<table border=\"1\" class=\"dataframe\">\n",
              "  <thead>\n",
              "    <tr style=\"text-align: right;\">\n",
              "      <th></th>\n",
              "      <th>INDEX</th>\n",
              "      <th>UF_1</th>\n",
              "      <th>UF_2</th>\n",
              "      <th>UF_3</th>\n",
              "      <th>UF_4</th>\n",
              "      <th>UF_5</th>\n",
              "      <th>UF_6</th>\n",
              "      <th>UF_7</th>\n",
              "      <th>IDADE</th>\n",
              "      <th>SEXO_1</th>\n",
              "      <th>...</th>\n",
              "      <th>CEP4_7</th>\n",
              "      <th>CEP4_8</th>\n",
              "      <th>CEP4_9</th>\n",
              "      <th>CEP4_10</th>\n",
              "      <th>CEP4_11</th>\n",
              "      <th>CEP4_12</th>\n",
              "      <th>CEP4_13</th>\n",
              "      <th>CEP4_14</th>\n",
              "      <th>IND_BOM_1_1</th>\n",
              "      <th>IND_BOM_1_2</th>\n",
              "    </tr>\n",
              "  </thead>\n",
              "  <tbody>\n",
              "    <tr>\n",
              "      <th>0</th>\n",
              "      <td>241985</td>\n",
              "      <td>1</td>\n",
              "      <td>0</td>\n",
              "      <td>0</td>\n",
              "      <td>1</td>\n",
              "      <td>1</td>\n",
              "      <td>0</td>\n",
              "      <td>0</td>\n",
              "      <td>0.469215</td>\n",
              "      <td>1</td>\n",
              "      <td>...</td>\n",
              "      <td>0</td>\n",
              "      <td>1</td>\n",
              "      <td>1</td>\n",
              "      <td>0</td>\n",
              "      <td>0</td>\n",
              "      <td>1</td>\n",
              "      <td>0</td>\n",
              "      <td>1</td>\n",
              "      <td>1</td>\n",
              "      <td>0</td>\n",
              "    </tr>\n",
              "    <tr>\n",
              "      <th>1</th>\n",
              "      <td>133371</td>\n",
              "      <td>1</td>\n",
              "      <td>0</td>\n",
              "      <td>0</td>\n",
              "      <td>1</td>\n",
              "      <td>1</td>\n",
              "      <td>0</td>\n",
              "      <td>0</td>\n",
              "      <td>0.220175</td>\n",
              "      <td>0</td>\n",
              "      <td>...</td>\n",
              "      <td>1</td>\n",
              "      <td>1</td>\n",
              "      <td>1</td>\n",
              "      <td>0</td>\n",
              "      <td>0</td>\n",
              "      <td>0</td>\n",
              "      <td>0</td>\n",
              "      <td>0</td>\n",
              "      <td>1</td>\n",
              "      <td>0</td>\n",
              "    </tr>\n",
              "    <tr>\n",
              "      <th>2</th>\n",
              "      <td>188775</td>\n",
              "      <td>1</td>\n",
              "      <td>1</td>\n",
              "      <td>1</td>\n",
              "      <td>0</td>\n",
              "      <td>0</td>\n",
              "      <td>0</td>\n",
              "      <td>0</td>\n",
              "      <td>0.682134</td>\n",
              "      <td>1</td>\n",
              "      <td>...</td>\n",
              "      <td>0</td>\n",
              "      <td>1</td>\n",
              "      <td>0</td>\n",
              "      <td>1</td>\n",
              "      <td>1</td>\n",
              "      <td>1</td>\n",
              "      <td>0</td>\n",
              "      <td>0</td>\n",
              "      <td>0</td>\n",
              "      <td>1</td>\n",
              "    </tr>\n",
              "    <tr>\n",
              "      <th>3</th>\n",
              "      <td>67904</td>\n",
              "      <td>1</td>\n",
              "      <td>1</td>\n",
              "      <td>1</td>\n",
              "      <td>0</td>\n",
              "      <td>0</td>\n",
              "      <td>0</td>\n",
              "      <td>0</td>\n",
              "      <td>0.118401</td>\n",
              "      <td>0</td>\n",
              "      <td>...</td>\n",
              "      <td>0</td>\n",
              "      <td>0</td>\n",
              "      <td>0</td>\n",
              "      <td>1</td>\n",
              "      <td>1</td>\n",
              "      <td>0</td>\n",
              "      <td>1</td>\n",
              "      <td>0</td>\n",
              "      <td>0</td>\n",
              "      <td>1</td>\n",
              "    </tr>\n",
              "    <tr>\n",
              "      <th>4</th>\n",
              "      <td>69261</td>\n",
              "      <td>1</td>\n",
              "      <td>1</td>\n",
              "      <td>0</td>\n",
              "      <td>1</td>\n",
              "      <td>0</td>\n",
              "      <td>0</td>\n",
              "      <td>0</td>\n",
              "      <td>0.627045</td>\n",
              "      <td>1</td>\n",
              "      <td>...</td>\n",
              "      <td>1</td>\n",
              "      <td>1</td>\n",
              "      <td>0</td>\n",
              "      <td>0</td>\n",
              "      <td>0</td>\n",
              "      <td>0</td>\n",
              "      <td>1</td>\n",
              "      <td>0</td>\n",
              "      <td>1</td>\n",
              "      <td>0</td>\n",
              "    </tr>\n",
              "  </tbody>\n",
              "</table>\n",
              "<p>5 rows × 246 columns</p>\n",
              "</div>\n",
              "      <button class=\"colab-df-convert\" onclick=\"convertToInteractive('df-800328c3-3a72-46c7-b71e-01e376a4f981')\"\n",
              "              title=\"Convert this dataframe to an interactive table.\"\n",
              "              style=\"display:none;\">\n",
              "        \n",
              "  <svg xmlns=\"http://www.w3.org/2000/svg\" height=\"24px\"viewBox=\"0 0 24 24\"\n",
              "       width=\"24px\">\n",
              "    <path d=\"M0 0h24v24H0V0z\" fill=\"none\"/>\n",
              "    <path d=\"M18.56 5.44l.94 2.06.94-2.06 2.06-.94-2.06-.94-.94-2.06-.94 2.06-2.06.94zm-11 1L8.5 8.5l.94-2.06 2.06-.94-2.06-.94L8.5 2.5l-.94 2.06-2.06.94zm10 10l.94 2.06.94-2.06 2.06-.94-2.06-.94-.94-2.06-.94 2.06-2.06.94z\"/><path d=\"M17.41 7.96l-1.37-1.37c-.4-.4-.92-.59-1.43-.59-.52 0-1.04.2-1.43.59L10.3 9.45l-7.72 7.72c-.78.78-.78 2.05 0 2.83L4 21.41c.39.39.9.59 1.41.59.51 0 1.02-.2 1.41-.59l7.78-7.78 2.81-2.81c.8-.78.8-2.07 0-2.86zM5.41 20L4 18.59l7.72-7.72 1.47 1.35L5.41 20z\"/>\n",
              "  </svg>\n",
              "      </button>\n",
              "      \n",
              "  <style>\n",
              "    .colab-df-container {\n",
              "      display:flex;\n",
              "      flex-wrap:wrap;\n",
              "      gap: 12px;\n",
              "    }\n",
              "\n",
              "    .colab-df-convert {\n",
              "      background-color: #E8F0FE;\n",
              "      border: none;\n",
              "      border-radius: 50%;\n",
              "      cursor: pointer;\n",
              "      display: none;\n",
              "      fill: #1967D2;\n",
              "      height: 32px;\n",
              "      padding: 0 0 0 0;\n",
              "      width: 32px;\n",
              "    }\n",
              "\n",
              "    .colab-df-convert:hover {\n",
              "      background-color: #E2EBFA;\n",
              "      box-shadow: 0px 1px 2px rgba(60, 64, 67, 0.3), 0px 1px 3px 1px rgba(60, 64, 67, 0.15);\n",
              "      fill: #174EA6;\n",
              "    }\n",
              "\n",
              "    [theme=dark] .colab-df-convert {\n",
              "      background-color: #3B4455;\n",
              "      fill: #D2E3FC;\n",
              "    }\n",
              "\n",
              "    [theme=dark] .colab-df-convert:hover {\n",
              "      background-color: #434B5C;\n",
              "      box-shadow: 0px 1px 3px 1px rgba(0, 0, 0, 0.15);\n",
              "      filter: drop-shadow(0px 1px 2px rgba(0, 0, 0, 0.3));\n",
              "      fill: #FFFFFF;\n",
              "    }\n",
              "  </style>\n",
              "\n",
              "      <script>\n",
              "        const buttonEl =\n",
              "          document.querySelector('#df-800328c3-3a72-46c7-b71e-01e376a4f981 button.colab-df-convert');\n",
              "        buttonEl.style.display =\n",
              "          google.colab.kernel.accessAllowed ? 'block' : 'none';\n",
              "\n",
              "        async function convertToInteractive(key) {\n",
              "          const element = document.querySelector('#df-800328c3-3a72-46c7-b71e-01e376a4f981');\n",
              "          const dataTable =\n",
              "            await google.colab.kernel.invokeFunction('convertToInteractive',\n",
              "                                                     [key], {});\n",
              "          if (!dataTable) return;\n",
              "\n",
              "          const docLinkHtml = 'Like what you see? Visit the ' +\n",
              "            '<a target=\"_blank\" href=https://colab.research.google.com/notebooks/data_table.ipynb>data table notebook</a>'\n",
              "            + ' to learn more about interactive tables.';\n",
              "          element.innerHTML = '';\n",
              "          dataTable['output_type'] = 'display_data';\n",
              "          await google.colab.output.renderOutput(dataTable, element);\n",
              "          const docLink = document.createElement('div');\n",
              "          docLink.innerHTML = docLinkHtml;\n",
              "          element.appendChild(docLink);\n",
              "        }\n",
              "      </script>\n",
              "    </div>\n",
              "  </div>\n",
              "  "
            ]
          },
          "metadata": {},
          "execution_count": 36
        }
      ],
      "source": [
        "data_val.head(5)"
      ]
    },
    {
      "cell_type": "code",
      "execution_count": null,
      "metadata": {
        "id": "DRclSIxqdVeC"
      },
      "outputs": [],
      "source": [
        "# Dropping the Index column\n",
        "data_train = data_train.drop(columns=[\"INDEX\", \"IND_BOM_1_1\"])\n",
        "data_val = data_val.drop(columns=[\"INDEX\", \"IND_BOM_1_1\"])"
      ]
    },
    {
      "cell_type": "code",
      "execution_count": null,
      "metadata": {
        "colab": {
          "base_uri": "https://localhost:8080/",
          "height": 475
        },
        "id": "3i_rRs6KjMgH",
        "outputId": "394884dc-0c3c-45d0-a143-2c509277a72e"
      },
      "outputs": [
        {
          "output_type": "execute_result",
          "data": {
            "text/plain": [
              "<Axes: xlabel='IND_BOM_1_2', ylabel='count'>"
            ]
          },
          "metadata": {},
          "execution_count": 38
        },
        {
          "output_type": "display_data",
          "data": {
            "text/plain": [
              "<Figure size 640x480 with 1 Axes>"
            ],
            "image/png": "[encoded data removed]"
          },
          "metadata": {}
        }
      ],
      "source": [
        "sns.countplot(x=data_train['IND_BOM_1_2'])"
      ]
    },
    {
      "cell_type": "code",
      "execution_count": null,
      "metadata": {
        "colab": {
          "base_uri": "https://localhost:8080/",
          "height": 475
        },
        "id": "OfG3OBXajdh0",
        "outputId": "82668379-0957-464c-ada0-e3962c8df9d8"
      },
      "outputs": [
        {
          "output_type": "execute_result",
          "data": {
            "text/plain": [
              "<Axes: xlabel='IND_BOM_1_2', ylabel='count'>"
            ]
          },
          "metadata": {},
          "execution_count": 39
        },
        {
          "output_type": "display_data",
          "data": {
            "text/plain": [
              "<Figure size 640x480 with 1 Axes>"
            ],
            "image/png": "[encoded data removed]"
          },
          "metadata": {}
        }
      ],
      "source": [
        "sns.countplot(x=data_val['IND_BOM_1_2'])"
      ]
    },
    {
      "cell_type": "markdown",
      "metadata": {
        "id": "6-y873NltfCm"
      },
      "source": [
        "Possuimos, agora, dados balanceados tanto no treino quanto na validação."
      ]
    },
    {
      "cell_type": "markdown",
      "metadata": {
        "id": "e_Dn-0gCOHLk"
      },
      "source": [
        "### Normalização dos Dados"
      ]
    },
    {
      "cell_type": "code",
      "execution_count": null,
      "metadata": {
        "id": "yGOe50-rj6EO"
      },
      "outputs": [],
      "source": [
        "def scaler(data):\n",
        "  return (data - data.min())/(data.max() - data.min())"
      ]
    },
    {
      "cell_type": "code",
      "execution_count": null,
      "metadata": {
        "id": "9ay7_0BRk7MB"
      },
      "outputs": [],
      "source": [
        "def inverse_scaler(scaled_data, original_data):\n",
        "  return scaled_data * (original_data.max() - original_data.min()) + original_data.min()"
      ]
    },
    {
      "cell_type": "code",
      "execution_count": null,
      "metadata": {
        "id": "ExR3E7whOi5J"
      },
      "outputs": [],
      "source": [
        "normalized_train=scaler(data_train)\n",
        "normalized_val=scaler(data_val)"
      ]
    },
    {
      "cell_type": "code",
      "execution_count": null,
      "metadata": {
        "colab": {
          "base_uri": "https://localhost:8080/"
        },
        "id": "HnPdHmnUFmyF",
        "outputId": "731e59ef-2393-4611-dd96-5e5e02c8d62b"
      },
      "outputs": [
        {
          "output_type": "execute_result",
          "data": {
            "text/plain": [
              "True"
            ]
          },
          "metadata": {},
          "execution_count": 43
        }
      ],
      "source": [
        "# Check for negtive values\n",
        "(normalized_train >= 0).all().any() and (normalized_val >= 0).all().any()"
      ]
    },
    {
      "cell_type": "markdown",
      "metadata": {
        "id": "svkcc1SVwUlK"
      },
      "source": [
        "Trabalhamos com nossos dados base em numpy."
      ]
    },
    {
      "cell_type": "code",
      "execution_count": null,
      "metadata": {
        "colab": {
          "base_uri": "https://localhost:8080/"
        },
        "id": "ZKUJdxCtwTb8",
        "outputId": "80ea188c-3646-4e8b-e199-657eb3a255dd"
      },
      "outputs": [
        {
          "output_type": "stream",
          "name": "stdout",
          "text": [
            "Our train data has shape: (341830, 244). Our validation data has shape: (168366, 244)\n"
          ]
        }
      ],
      "source": [
        "train_numpy = normalized_train.to_numpy()\n",
        "val_numpy = normalized_val.to_numpy()\n",
        "print(f'Our train data has shape: {train_numpy.shape}. Our validation data has shape: {val_numpy.shape}')"
      ]
    },
    {
      "cell_type": "markdown",
      "metadata": {
        "id": "AIyc1tXZjXeI"
      },
      "source": [
        "#### Funções Auxiliares"
      ]
    },
    {
      "cell_type": "code",
      "execution_count": null,
      "metadata": {
        "id": "j--4fHh_o6KR"
      },
      "outputs": [],
      "source": [
        "# Mean Squared Error\n",
        "def mean_squared_error(y_true, y_pred):\n",
        "    mse = np.mean((y_true - y_pred) ** 2)\n",
        "    return mse"
      ]
    },
    {
      "cell_type": "code",
      "execution_count": null,
      "metadata": {
        "colab": {
          "base_uri": "https://localhost:8080/",
          "height": 105
        },
        "id": "ROodBLjGjaaA",
        "outputId": "a922e243-3d75-4b34-869f-dedc2846a0a6"
      },
      "outputs": [
        {
          "output_type": "execute_result",
          "data": {
            "text/plain": [
              "\"\\n  y_hat = model.predict(X_test)\\n  y_t = model.predict(X_train)\\n\\n  y_test_inverse = inverse_scaler(y_test)\\n  y_hat_inverse = inverse_scaler(y_hat)\\n \\n  plt.plot(y_test_inverse, label='Actual Price', color = 'green')\\n  plt.plot(y_hat_inverse, label='Predicted Price', color = 'red')\\n\\n  plt.title('Bitcoin price prediction')\\n  plt.xlabel('Time [days]')\\n  plt.ylabel('Price')\\n  plt.legend(['Actual Price', 'Predicted Price'], loc = 'upper right')\\n  ## adicionar legenda com os parametros atuais\\n\\n  trainScore = math.sqrt(mean_squared_error(y_val[0], y_t[0]))\\n  print('Train Score: %.4f RMSE' % (trainScore))\\n  testScore = math.sqrt(mean_squared_error(y_test[0], y_hat[0]))\\n  print('Test Score: %.4f RMSE' % (testScore))\\n\\n  plt.show()\\n\""
            ],
            "application/vnd.google.colaboratory.intrinsic+json": {
              "type": "string"
            }
          },
          "metadata": {},
          "execution_count": 46
        }
      ],
      "source": [
        "# Função de Plot\n",
        "#def model_evaluation(history, model, scaler, X_test, X_train, y_train, y_test):\n",
        "def model_evaluation(history):\n",
        "  figure = plt.figure(figsize=(5,3))\n",
        "\n",
        "  plt.plot(history.history['loss'])\n",
        "  plt.plot(history.history['val_loss'])\n",
        "  plt.title('model loss')\n",
        "  plt.ylabel('loss')\n",
        "  plt.xlabel('epoch')\n",
        "  plt.legend(['train', 'val'], loc = 'upper left')\n",
        "  plt.show()\n",
        "\"\"\"\n",
        "  y_hat = model.predict(X_test)\n",
        "  y_t = model.predict(X_train)\n",
        "\n",
        "  y_test_inverse = inverse_scaler(y_test)\n",
        "  y_hat_inverse = inverse_scaler(y_hat)\n",
        "\n",
        "  plt.plot(y_test_inverse, label='Actual Price', color = 'green')\n",
        "  plt.plot(y_hat_inverse, label='Predicted Price', color = 'red')\n",
        "\n",
        "  plt.title('Bitcoin price prediction')\n",
        "  plt.xlabel('Time [days]')\n",
        "  plt.ylabel('Price')\n",
        "  plt.legend(['Actual Price', 'Predicted Price'], loc = 'upper right')\n",
        "  ## adicionar legenda com os parametros atuais\n",
        "\n",
        "  trainScore = math.sqrt(mean_squared_error(y_val[0], y_t[0]))\n",
        "  print('Train Score: %.4f RMSE' % (trainScore))\n",
        "  testScore = math.sqrt(mean_squared_error(y_test[0], y_hat[0]))\n",
        "  print('Test Score: %.4f RMSE' % (testScore))\n",
        "\n",
        "  plt.show()\n",
        "\"\"\""
      ]
    },
    {
      "cell_type": "markdown",
      "metadata": {
        "id": "LPoo9EbENdGk"
      },
      "source": [
        "## Aux plot function"
      ]
    },
    {
      "cell_type": "code",
      "execution_count": null,
      "metadata": {
        "id": "js7VpSasNdGl"
      },
      "outputs": [],
      "source": [
        "def ks_results(y_true, y_pred):\n",
        "  return ks_2samp(y_pred[y_true == 1], y_pred[y_true != 1]).statistic"
      ]
    },
    {
      "cell_type": "code",
      "execution_count": null,
      "metadata": {
        "id": "gRsRfQL7NdGl"
      },
      "outputs": [],
      "source": [
        "def reshape_plot(y_hat, y_true):\n",
        "  print(f'type of y_hat: {type(y_hat)}, type of y_true: {type(y_true)}')\n",
        "  if not isinstance(y_hat, np.ndarray):\n",
        "    y_hat = y_hat.to_numpy(dtype=np.float32)\n",
        "  if not isinstance(y_true, np.ndarray):\n",
        "    y_true = y_true.to_numpy(dtype=np.float32)\n",
        "\n",
        "  return y_hat.round().reshape(-1,1), y_true.reshape(-1,1)"
      ]
    },
    {
      "cell_type": "code",
      "execution_count": null,
      "metadata": {
        "id": "S8sAFuyhNdGl"
      },
      "outputs": [],
      "source": [
        "def historyPlot(model, history_dict, x, y, isMLP = False):\n",
        "  loss_values = history_dict['loss']\n",
        "  val_loss_values = history_dict['val_loss']\n",
        "  accuracy = history_dict['accuracy']\n",
        "  val_accuracy = history_dict['accuracy']\n",
        "\n",
        "  epochs = range(1, len(loss_values) + 1)\n",
        "  fig, ax = plt.subplots(1, 2, figsize=(14, 6))\n",
        "\n",
        "  ax[0].plot(epochs, accuracy, 'bo', label='Training accuracy')\n",
        "  ax[0].plot(epochs, val_accuracy, 'b', label='Validation accuracy')\n",
        "  ax[0].set_title('Training & Validation Accuracy', fontsize=16)\n",
        "  ax[0].set_xlabel('Epochs', fontsize=16)\n",
        "  ax[0].set_ylabel('Accuracy', fontsize=16)\n",
        "  ax[0].legend()\n",
        "\n",
        "  ax[1].plot(epochs, loss_values, 'bo', label='Training loss')\n",
        "  ax[1].plot(epochs, val_loss_values, 'b', label='Validation loss')\n",
        "  ax[1].set_title('Training & Validation Loss', fontsize=16)\n",
        "  ax[1].set_xlabel('Epochs', fontsize=16)\n",
        "  ax[1].set_ylabel('Loss', fontsize=16)\n",
        "  ax[1].legend()\n",
        "\n",
        "  testePlot(model, x, y, isMLP)"
      ]
    },
    {
      "cell_type": "code",
      "execution_count": null,
      "metadata": {
        "id": "kQ-yKxZlNdGl"
      },
      "outputs": [],
      "source": [
        "def testePlot(model, x, y, isMLP = False, isSVC = False):\n",
        "  y_pred = model.predict(x)\n",
        "  y_pred = np.array([0 if x < 0.5 else 1 for x in y_pred])\n",
        "  if isMLP:\n",
        "    y_pred_score = model.predict(x)\n",
        "    print(y_pred_score)\n",
        "    y_pred_score_0 = 1 - y_pred_score\n",
        "    y_pred_score = np.concatenate([y_pred_score_0, y_pred_score], axis = 1)\n",
        "  elif isSVC:\n",
        "    y_pred_score = model.predict(x)\n",
        "    y_pred_score = np.reshape(y_pred_score, (len(y_pred_score), 1))\n",
        "    y_pred_score_0 = 1 - y_pred_score\n",
        "    y_pred_score = np.concatenate([y_pred_score_0, y_pred_score], axis = 1)\n",
        "  else:\n",
        "    y_pred_score = model.predict_proba(x)\n",
        "  accuracy = accuracy_score(y, y_pred)\n",
        "  recall = recall_score(y, y_pred)\n",
        "  precision = precision_score(y, y_pred)\n",
        "  f1 = f1_score(y, y_pred)\n",
        "\n",
        "\n",
        "  skplt.metrics.plot_ks_statistic(y, y_pred_score)\n",
        "  plt.show()\n",
        "  y_pred_score = y_pred_score[:, 1]\n",
        "  a1, a2 = reshape_plot(y_pred, y)\n",
        "  print(f'a1 shape: {a1.shape} a1 type: {type(a1)} a2 shape: {a2.shape} a2 type: {type(a2)}')\n",
        "  ks = ks_results(a1, a2)\n",
        "  auroc = roc_auc_score(y, y_pred_score)\n",
        "  aupr = average_precision_score(y, y_pred_score)\n",
        "\n",
        "  cm = confusion_matrix(y, y_pred, labels = np.unique(y_val))\n",
        "  cmd = ConfusionMatrixDisplay(cm, display_labels = np.unique(y_val))\n",
        "  cmd.plot()\n",
        "  plt.show()\n",
        "\n",
        "  print()\n",
        "  if isMLP:\n",
        "    print(\"{metric:<18}{value}\".format(metric=\"Score:\", value=model.evaluate(x, y)))\n",
        "  print(\"{metric:<18}{value:.4f}\".format(metric=\"Accuracy:\", value=accuracy))\n",
        "  print(\"{metric:<18}{value:.4f}\".format(metric=\"Recall:\", value=recall))\n",
        "  print(\"{metric:<18}{value:.4f}\".format(metric=\"Precision:\", value=precision))\n",
        "  print(\"{metric:<18}{value:.4f}\".format(metric=\"F1:\", value=f1))\n",
        "  if auroc is not None:\n",
        "      print(\"{metric:<18}{value:.4f}\".format(metric=\"AUROC:\", value=auroc))\n",
        "  if aupr is not None:\n",
        "      print(\"{metric:<18}{value:.4f}\".format(metric=\"AUPR:\", value=aupr))\n",
        "  print(\"{metric:<18}{value:.4f}\".format(metric=\"KS:\", value=ks))"
      ]
    },
    {
      "cell_type": "markdown",
      "metadata": {
        "id": "i28tKsRGbKiP"
      },
      "source": [
        "### MLP Keras / Tensor-Flow Approach\n"
      ]
    },
    {
      "cell_type": "markdown",
      "metadata": {
        "id": "EDscWSkviXgQ"
      },
      "source": [
        "#### Raw Approach"
      ]
    },
    {
      "cell_type": "code",
      "execution_count": null,
      "metadata": {
        "id": "fhzg5Uf5fKq9"
      },
      "outputs": [],
      "source": [
        "X_train = train_numpy[:,:-1]\n",
        "y_train = train_numpy[:,-1].reshape(train_numpy.shape[0],1)"
      ]
    },
    {
      "cell_type": "code",
      "execution_count": null,
      "metadata": {
        "id": "WIwlMFO6fVcR"
      },
      "outputs": [],
      "source": [
        "X_val = val_numpy[:,:-1]\n",
        "y_val = val_numpy[:,-1].reshape(val_numpy.shape[0],1)"
      ]
    },
    {
      "cell_type": "markdown",
      "metadata": {
        "id": "4loNzZ6z-bYG"
      },
      "source": [
        "Teste de Amostra com Kolmogorov-Smirnov:"
      ]
    },
    {
      "cell_type": "code",
      "execution_count": null,
      "metadata": {
        "colab": {
          "base_uri": "https://localhost:8080/"
        },
        "id": "Q33kS7u1-CaJ",
        "outputId": "73bb7128-c7e8-420c-802b-7fd1982b868e"
      },
      "outputs": [
        {
          "output_type": "execute_result",
          "data": {
            "text/plain": [
              "KstestResult(statistic=0.08641975308641975, pvalue=0.32484043142517294, statistic_location=0.047384860811258, statistic_sign=-1)"
            ]
          },
          "metadata": {},
          "execution_count": 53
        }
      ],
      "source": [
        "ks_2samp(X_train[-1], X_val[-1])"
      ]
    },
    {
      "cell_type": "markdown",
      "metadata": {
        "id": "jeQGWL-vf9kT"
      },
      "source": [
        "#### Definindo uma MLP básica"
      ]
    },
    {
      "cell_type": "code",
      "execution_count": null,
      "metadata": {
        "id": "kIFewbUFf7Td"
      },
      "outputs": [],
      "source": [
        "# Define the model\n",
        "model = Sequential()\n",
        "model.add(Dense(512, activation='relu', input_dim=X_train.shape[1]))\n",
        "model.add(Dense(1, activation='sigmoid'))"
      ]
    },
    {
      "cell_type": "code",
      "execution_count": null,
      "metadata": {
        "id": "iftCfqFCgTMT"
      },
      "outputs": [],
      "source": [
        "# Compile the model\n",
        "model.compile(optimizer='adam', loss='binary_crossentropy', metrics=['accuracy'])"
      ]
    },
    {
      "cell_type": "code",
      "execution_count": null,
      "metadata": {
        "colab": {
          "base_uri": "https://localhost:8080/"
        },
        "id": "QWjEEIfMglM6",
        "outputId": "4d037b95-0e6f-4b3c-e9e9-57bf28c93c38"
      },
      "outputs": [
        {
          "name": "stdout",
          "output_type": "stream",
          "text": [
            "Epoch 1/10\n",
            "10683/10683 [==============================] - 15s 1ms/step - loss: 0.6432 - accuracy: 0.6290 - val_loss: 0.6352 - val_accuracy: 0.6383\n",
            "Epoch 2/10\n",
            "10683/10683 [==============================] - 14s 1ms/step - loss: 0.6339 - accuracy: 0.6389 - val_loss: 0.6372 - val_accuracy: 0.6368\n",
            "Epoch 3/10\n",
            "10683/10683 [==============================] - 14s 1ms/step - loss: 0.6304 - accuracy: 0.6424 - val_loss: 0.6346 - val_accuracy: 0.6389\n",
            "Epoch 4/10\n",
            "10683/10683 [==============================] - 14s 1ms/step - loss: 0.6276 - accuracy: 0.6463 - val_loss: 0.6341 - val_accuracy: 0.6409\n",
            "Epoch 5/10\n",
            "10683/10683 [==============================] - 14s 1ms/step - loss: 0.6249 - accuracy: 0.6481 - val_loss: 0.6344 - val_accuracy: 0.6386\n",
            "Epoch 6/10\n",
            "10683/10683 [==============================] - 14s 1ms/step - loss: 0.6220 - accuracy: 0.6513 - val_loss: 0.6339 - val_accuracy: 0.6398\n",
            "Epoch 7/10\n",
            "10683/10683 [==============================] - 15s 1ms/step - loss: 0.6193 - accuracy: 0.6543 - val_loss: 0.6376 - val_accuracy: 0.6379\n",
            "Epoch 8/10\n",
            "10683/10683 [==============================] - 17s 2ms/step - loss: 0.6163 - accuracy: 0.6573 - val_loss: 0.6387 - val_accuracy: 0.6371\n",
            "Epoch 9/10\n",
            "10683/10683 [==============================] - 17s 2ms/step - loss: 0.6133 - accuracy: 0.6607 - val_loss: 0.6394 - val_accuracy: 0.6368\n",
            "Epoch 10/10\n",
            "10683/10683 [==============================] - 18s 2ms/step - loss: 0.6103 - accuracy: 0.6636 - val_loss: 0.6408 - val_accuracy: 0.6370\n"
          ]
        }
      ],
      "source": [
        "history_MLP = model.fit(X_train, y_train, epochs=10, batch_size=32, validation_data=(X_val, y_val))"
      ]
    },
    {
      "cell_type": "code",
      "execution_count": null,
      "metadata": {
        "colab": {
          "base_uri": "https://localhost:8080/",
          "height": 342
        },
        "id": "46rbyeqkp9rn",
        "outputId": "c9104ab4-d308-48f8-af40-f54d306d8317"
      },
      "outputs": [
        {
          "data": {
            "image/png": "[encoded data removed]",
            "text/plain": [
              "<Figure size 360x216 with 1 Axes>"
            ]
          },
          "metadata": {},
          "output_type": "display_data"
        }
      ],
      "source": [
        "model_evaluation(history_MLP)"
      ]
    },
    {
      "cell_type": "code",
      "execution_count": null,
      "metadata": {
        "colab": {
          "base_uri": "https://localhost:8080/"
        },
        "id": "WqBC85c9hD_y",
        "outputId": "05f5d5bc-24ba-4e5e-d900-a02dfa60287f"
      },
      "outputs": [
        {
          "name": "stdout",
          "output_type": "stream",
          "text": [
            "5262/5262 [==============================] - 4s 820us/step - loss: 0.6408 - accuracy: 0.6370\n"
          ]
        }
      ],
      "source": [
        "# Evaluate the model on the test set\n",
        "loss, accuracy = model.evaluate(X_val, y_val)"
      ]
    },
    {
      "cell_type": "code",
      "execution_count": null,
      "metadata": {
        "colab": {
          "base_uri": "https://localhost:8080/"
        },
        "id": "Bnzn7UZIhJEg",
        "outputId": "33414a12-00c0-4460-cfca-36240316516e"
      },
      "outputs": [
        {
          "name": "stdout",
          "output_type": "stream",
          "text": [
            "Test Loss: 0.6408007740974426\n",
            "Test Accuracy: 0.6369932293891907\n"
          ]
        }
      ],
      "source": [
        "# Print the evaluation results\n",
        "print('Test Loss:', loss)\n",
        "print('Test Accuracy:', accuracy)"
      ]
    },
    {
      "cell_type": "code",
      "execution_count": null,
      "metadata": {
        "id": "-o5XbHLzoZy5"
      },
      "outputs": [],
      "source": [
        "def objective(trial):\n",
        "    n_units = trial.suggest_categorical('n_units', [16, 32, 64, 128, 256, 512, 1024])\n",
        "    dropout = trial.suggest_float('dropout', 0.0, 0.5, step=0.1, log=False)\n",
        "    optimizer_name = trial.suggest_categorical('optimizer', ['adam', 'sgd', 'rmsprop'])\n",
        "    learning_rate = trial.suggest_float('learning_rate', 0.00005, 0.1, step=0.01, log=False)\n",
        "    batch_size = trial.suggest_categorical('batch_size', [32, 64, 128])\n",
        "    epochs = trial.suggest_int('epochs', 10, 15)\n",
        "    activation = trial.suggest_categorical('activation', ['relu', 'sigmoid', 'tanh'])\n",
        "\n",
        "    if optimizer_name == 'adam':\n",
        "        optimizer = Adam(learning_rate=learning_rate)\n",
        "    elif optimizer_name == 'sgd':\n",
        "        optimizer = SGD(learning_rate=learning_rate)\n",
        "    else:\n",
        "        optimizer = RMSprop(learning_rate=learning_rate)\n",
        "\n",
        "    model = Sequential()\n",
        "    model.add(Dense(n_units, input_dim=X_train.shape[1], activation='relu'))\n",
        "    model.add(Dropout(dropout))\n",
        "    model.add(Dense(n_units, activation=activation))\n",
        "    model.add(Dropout(dropout))\n",
        "    model.add(Dense(1, activation=activation))\n",
        "\n",
        "    model.compile(loss='binary_crossentropy', optimizer=optimizer, metrics=['accuracy'])\n",
        "\n",
        "    model.fit(X_train, y_train, epochs=epochs, batch_size=batch_size, validation_data=(X_val, y_val))\n",
        "\n",
        "    val_loss, val_acc = model.evaluate(X_val, y_val, verbose=0)\n",
        "\n",
        "    print('Val_loss: %.3f, Val_acc: %.3f' % (val_loss, val_acc))\n",
        "\n",
        "    return val_acc"
      ]
    },
    {
      "cell_type": "code",
      "execution_count": null,
      "metadata": {
        "colab": {
          "base_uri": "https://localhost:8080/"
        },
        "id": "O0P1c4QwojH4",
        "outputId": "43a3b678-1470-4513-d8d6-32673ff9cdec"
      },
      "outputs": [
        {
          "name": "stderr",
          "output_type": "stream",
          "text": [
            "\u001b[32m[I 2023-04-26 09:54:47,764]\u001b[0m A new study created in memory with name: no-name-c2449316-487f-448e-bd50-c0f1f13a7f5d\u001b[0m\n",
            "c:\\Users\\Felipe_Lin\\anaconda3\\lib\\site-packages\\optuna\\distributions.py:701: UserWarning: The distribution is specified by [5e-05, 0.1] and step=0.01, but the range is not divisible by `step`. It will be replaced by [5e-05, 0.09005].\n",
            "  warnings.warn(\n"
          ]
        },
        {
          "name": "stdout",
          "output_type": "stream",
          "text": [
            "Epoch 1/14\n",
            "2671/2671 [==============================] - 43s 16ms/step - loss: 5.0838 - accuracy: 0.5003 - val_loss: 5.6255 - val_accuracy: 0.5000\n",
            "Epoch 2/14\n",
            "2671/2671 [==============================] - 44s 17ms/step - loss: 5.0500 - accuracy: 0.4995 - val_loss: 7.5176 - val_accuracy: 0.5000\n",
            "Epoch 3/14\n",
            "2671/2671 [==============================] - 41s 15ms/step - loss: 5.0434 - accuracy: 0.5001 - val_loss: 6.8947 - val_accuracy: 0.5000\n",
            "Epoch 4/14\n",
            "2671/2671 [==============================] - 34s 13ms/step - loss: 5.0326 - accuracy: 0.5010 - val_loss: 5.8917 - val_accuracy: 0.5000\n",
            "Epoch 5/14\n",
            "2671/2671 [==============================] - 37s 14ms/step - loss: 5.0457 - accuracy: 0.4996 - val_loss: 4.5859 - val_accuracy: 0.5000\n",
            "Epoch 6/14\n",
            "2671/2671 [==============================] - 37s 14ms/step - loss: 5.0275 - accuracy: 0.4997 - val_loss: 4.8083 - val_accuracy: 0.5000\n",
            "Epoch 7/14\n",
            "2671/2671 [==============================] - 36s 13ms/step - loss: 5.0401 - accuracy: 0.4995 - val_loss: 7.0208 - val_accuracy: 0.5000\n",
            "Epoch 8/14\n",
            "2671/2671 [==============================] - 35s 13ms/step - loss: 5.0201 - accuracy: 0.5006 - val_loss: 6.1808 - val_accuracy: 0.5000\n",
            "Epoch 9/14\n",
            "2671/2671 [==============================] - 35s 13ms/step - loss: 5.0365 - accuracy: 0.4992 - val_loss: 5.2384 - val_accuracy: 0.5000\n",
            "Epoch 10/14\n",
            "2671/2671 [==============================] - 36s 13ms/step - loss: 5.0380 - accuracy: 0.4997 - val_loss: 4.4896 - val_accuracy: 0.5000\n",
            "Epoch 11/14\n",
            "2671/2671 [==============================] - 39s 15ms/step - loss: 5.0192 - accuracy: 0.5007 - val_loss: 6.3080 - val_accuracy: 0.5000\n",
            "Epoch 12/14\n",
            "2671/2671 [==============================] - 36s 13ms/step - loss: 5.0388 - accuracy: 0.4992 - val_loss: 4.6160 - val_accuracy: 0.5000\n",
            "Epoch 13/14\n",
            "2671/2671 [==============================] - 35s 13ms/step - loss: 5.0229 - accuracy: 0.5003 - val_loss: 5.9637 - val_accuracy: 0.5000\n",
            "Epoch 14/14\n",
            "2671/2671 [==============================] - 36s 13ms/step - loss: 5.0186 - accuracy: 0.5009 - val_loss: 5.7050 - val_accuracy: 0.5000\n"
          ]
        },
        {
          "name": "stderr",
          "output_type": "stream",
          "text": [
            "\u001b[32m[I 2023-04-26 10:03:42,921]\u001b[0m Trial 0 finished with value: 0.5 and parameters: {'n_units': 1024, 'dropout': 0.30000000000000004, 'optimizer': 'rmsprop', 'learning_rate': 0.050050000000000004, 'batch_size': 128, 'epochs': 14, 'activation': 'sigmoid'}. Best is trial 0 with value: 0.5.\u001b[0m\n"
          ]
        },
        {
          "name": "stdout",
          "output_type": "stream",
          "text": [
            "Val_loss: 5.705, Val_acc: 0.500\n"
          ]
        }
      ],
      "source": [
        "study = optuna.create_study(direction='maximize')\n",
        "\n",
        "study.optimize(objective, n_trials=1)"
      ]
    },
    {
      "cell_type": "code",
      "execution_count": null,
      "metadata": {
        "colab": {
          "base_uri": "https://localhost:8080/"
        },
        "id": "VWYtfIKgoobk",
        "outputId": "624e6999-7ca2-44ba-9e59-6d7a01d59f8e"
      },
      "outputs": [
        {
          "name": "stdout",
          "output_type": "stream",
          "text": [
            "Number of finished trials: 1\n",
            "Best trial: {'n_units': 1024, 'dropout': 0.30000000000000004, 'optimizer': 'rmsprop', 'learning_rate': 0.050050000000000004, 'batch_size': 128, 'epochs': 14, 'activation': 'sigmoid'}\n"
          ]
        }
      ],
      "source": [
        "print('Number of finished trials:', len(study.trials))\n",
        "print('Best trial:', study.best_trial.params)"
      ]
    },
    {
      "cell_type": "code",
      "execution_count": null,
      "metadata": {
        "id": "5zgkejA1NdGq",
        "outputId": "9d0199c4-0b91-4b29-f4cf-619d685dd1b0"
      },
      "outputs": [
        {
          "data": {
            "text/plain": [
              "{'n_units': 1024,\n",
              " 'dropout': 0.30000000000000004,\n",
              " 'optimizer': 'rmsprop',\n",
              " 'learning_rate': 0.050050000000000004,\n",
              " 'batch_size': 128,\n",
              " 'epochs': 14,\n",
              " 'activation': 'sigmoid'}"
            ]
          },
          "execution_count": 61,
          "metadata": {},
          "output_type": "execute_result"
        }
      ],
      "source": [
        "best_mlp = study.best_trial.params\n",
        "best_mlp"
      ]
    },
    {
      "cell_type": "code",
      "execution_count": null,
      "metadata": {
        "id": "c0z67w1kNdGq",
        "outputId": "afa32550-6db5-455e-a86e-f2c473a96ac3"
      },
      "outputs": [
        {
          "name": "stdout",
          "output_type": "stream",
          "text": [
            "Epoch 1/14\n",
            "2671/2671 [==============================] - 36s 13ms/step - loss: 0.6744 - accuracy: 0.5962 - val_loss: 0.6470 - val_accuracy: 0.6256\n",
            "Epoch 2/14\n",
            "2671/2671 [==============================] - 35s 13ms/step - loss: 0.6489 - accuracy: 0.6227 - val_loss: 0.6428 - val_accuracy: 0.6285\n",
            "Epoch 3/14\n",
            "2671/2671 [==============================] - 36s 14ms/step - loss: 0.6459 - accuracy: 0.6251 - val_loss: 0.6433 - val_accuracy: 0.6290\n",
            "Epoch 4/14\n",
            "2671/2671 [==============================] - 38s 14ms/step - loss: 0.6443 - accuracy: 0.6273 - val_loss: 0.6527 - val_accuracy: 0.6208\n",
            "Epoch 5/14\n",
            "2671/2671 [==============================] - 39s 14ms/step - loss: 0.6432 - accuracy: 0.6281 - val_loss: 0.6496 - val_accuracy: 0.6235\n",
            "Epoch 6/14\n",
            "2671/2671 [==============================] - 37s 14ms/step - loss: 0.6416 - accuracy: 0.6297 - val_loss: 0.6375 - val_accuracy: 0.6349\n",
            "Epoch 7/14\n",
            "2671/2671 [==============================] - 38s 14ms/step - loss: 0.6395 - accuracy: 0.6323 - val_loss: 0.6363 - val_accuracy: 0.6346\n",
            "Epoch 8/14\n",
            "2671/2671 [==============================] - 35s 13ms/step - loss: 0.6385 - accuracy: 0.6334 - val_loss: 0.6355 - val_accuracy: 0.6346\n",
            "Epoch 9/14\n",
            "2671/2671 [==============================] - 35s 13ms/step - loss: 0.6373 - accuracy: 0.6348 - val_loss: 0.6351 - val_accuracy: 0.6363\n",
            "Epoch 10/14\n",
            "2671/2671 [==============================] - 35s 13ms/step - loss: 0.6366 - accuracy: 0.6350 - val_loss: 0.6333 - val_accuracy: 0.6382\n",
            "Epoch 11/14\n",
            "2671/2671 [==============================] - 36s 13ms/step - loss: 0.6359 - accuracy: 0.6360 - val_loss: 0.6364 - val_accuracy: 0.6358\n",
            "Epoch 12/14\n",
            "2671/2671 [==============================] - 34s 13ms/step - loss: 0.6351 - accuracy: 0.6369 - val_loss: 0.6333 - val_accuracy: 0.6390\n",
            "Epoch 13/14\n",
            "2671/2671 [==============================] - 34s 13ms/step - loss: 0.6345 - accuracy: 0.6376 - val_loss: 0.6325 - val_accuracy: 0.6400\n",
            "Epoch 14/14\n",
            "2671/2671 [==============================] - 34s 13ms/step - loss: 0.6340 - accuracy: 0.6380 - val_loss: 0.6334 - val_accuracy: 0.6390\n"
          ]
        }
      ],
      "source": [
        "mlp_opt = Sequential()\n",
        "mlp_opt.add(Dense(units=best_mlp['n_units'], input_dim=X_train.shape[1], activation=best_mlp['activation']))\n",
        "mlp_opt.add(Dropout(best_mlp['dropout']))\n",
        "mlp_opt.add(Dense(units=best_mlp['n_units'], activation=best_mlp['activation']))\n",
        "mlp_opt.add(Dropout(best_mlp['dropout']))\n",
        "mlp_opt.add(Dense(1, activation=best_mlp['activation']))\n",
        "\n",
        "mlp_opt.compile(loss='binary_crossentropy', optimizer=best_mlp['optimizer'], metrics=['accuracy'])\n",
        "\n",
        "history_mlp_opt = mlp_opt.fit(X_train, y_train, epochs=best_mlp['epochs'], batch_size=best_mlp['batch_size'], validation_data=(X_val, y_val))"
      ]
    },
    {
      "cell_type": "code",
      "execution_count": null,
      "metadata": {
        "id": "o0Y_YwkeNdGq",
        "outputId": "61f77b7b-892c-4c49-f442-a4564d5f2060"
      },
      "outputs": [
        {
          "data": {
            "image/png": "[encoded data removed]",
            "text/plain": [
              "<Figure size 360x216 with 1 Axes>"
            ]
          },
          "metadata": {},
          "output_type": "display_data"
        }
      ],
      "source": [
        "model_evaluation(history_mlp_opt)"
      ]
    },
    {
      "cell_type": "code",
      "execution_count": null,
      "metadata": {
        "id": "E1opJok-NdGq",
        "outputId": "6c3f1a1f-6dec-4361-d349-986e2cfbb34b"
      },
      "outputs": [
        {
          "name": "stdout",
          "output_type": "stream",
          "text": [
            "5262/5262 [==============================] - 10s 2ms/step - loss: 0.6334 - accuracy: 0.6390\n",
            "Test Loss: 0.6334037780761719\n",
            "Test Accuracy: 0.6389710307121277\n"
          ]
        }
      ],
      "source": [
        "loss, accuracy = mlp_opt.evaluate(X_val, y_val)\n",
        "\n",
        "print('Test Loss:', loss)\n",
        "print('Test Accuracy:', accuracy)"
      ]
    },
    {
      "cell_type": "code",
      "execution_count": null,
      "metadata": {
        "id": "YEPR_VFkNdGr",
        "outputId": "c36278f3-e0fc-4b41-adf3-c2ee2c1cacd3"
      },
      "outputs": [
        {
          "name": "stdout",
          "output_type": "stream",
          "text": [
            "5262/5262 [==============================] - 10s 2ms/step\n"
          ]
        }
      ],
      "source": [
        "y_pred = mlp_opt.predict(X_val)"
      ]
    },
    {
      "cell_type": "code",
      "execution_count": null,
      "metadata": {
        "id": "9RwEFCR5NdGr",
        "outputId": "7eccd0ff-1eb7-4337-b531-f4a09269fd4e"
      },
      "outputs": [
        {
          "data": {
            "text/plain": [
              "array([[0.],\n",
              "       [1.],\n",
              "       [1.],\n",
              "       ...,\n",
              "       [1.],\n",
              "       [1.],\n",
              "       [1.]], dtype=float32)"
            ]
          },
          "execution_count": 66,
          "metadata": {},
          "output_type": "execute_result"
        }
      ],
      "source": [
        "y_pred.round()"
      ]
    },
    {
      "cell_type": "code",
      "execution_count": null,
      "metadata": {
        "id": "jLHNZVpPNdGr",
        "outputId": "52d0a76b-3643-4495-e20d-2a35a5d1e432"
      },
      "outputs": [
        {
          "data": {
            "text/plain": [
              "(168366, 1)"
            ]
          },
          "execution_count": 67,
          "metadata": {},
          "output_type": "execute_result"
        }
      ],
      "source": [
        "y_pred.shape"
      ]
    },
    {
      "cell_type": "code",
      "execution_count": null,
      "metadata": {
        "id": "drPtieyaNdGr",
        "outputId": "1856ef73-4cb3-447f-d5dd-8d8c22336357"
      },
      "outputs": [
        {
          "data": {
            "text/plain": [
              "(168366, 1)"
            ]
          },
          "execution_count": 68,
          "metadata": {},
          "output_type": "execute_result"
        }
      ],
      "source": [
        "y_val.shape"
      ]
    },
    {
      "cell_type": "code",
      "execution_count": null,
      "metadata": {
        "id": "MsirjhyxNdGr",
        "outputId": "9bbdf38c-6609-4167-8db6-f5d3c047be7a"
      },
      "outputs": [
        {
          "data": {
            "text/plain": [
              "KstestResult(statistic=0.28068612427687295, pvalue=0.0)"
            ]
          },
          "execution_count": 69,
          "metadata": {},
          "output_type": "execute_result"
        }
      ],
      "source": [
        "ks = ks_2samp(y_pred[y_val == 1], y_pred[y_val != 1])\n",
        "ks"
      ]
    },
    {
      "cell_type": "code",
      "execution_count": null,
      "metadata": {
        "id": "SZkJOG7DNdGs",
        "outputId": "8a0217ad-110e-4f4d-cee0-2688bc3cfda5"
      },
      "outputs": [
        {
          "name": "stdout",
          "output_type": "stream",
          "text": [
            "5262/5262 [==============================] - 10s 2ms/step\n",
            "5262/5262 [==============================] - 9s 2ms/step\n",
            "[[0.31577155]\n",
            " [0.5619957 ]\n",
            " [0.65756136]\n",
            " ...\n",
            " [0.69955105]\n",
            " [0.7104842 ]\n",
            " [0.70483845]]\n"
          ]
        },
        {
          "name": "stderr",
          "output_type": "stream",
          "text": [
            "c:\\Users\\Felipe_Lin\\anaconda3\\lib\\site-packages\\sklearn\\preprocessing\\_label.py:115: DataConversionWarning: A column-vector y was passed when a 1d array was expected. Please change the shape of y to (n_samples, ), for example using ravel().\n",
            "  y = column_or_1d(y, warn=True)\n"
          ]
        },
        {
          "data": {
            "image/png": "[encoded data removed]",
            "text/plain": [
              "<Figure size 1008x432 with 2 Axes>"
            ]
          },
          "metadata": {},
          "output_type": "display_data"
        },
        {
          "data": {
            "image/png": "[encoded data removed]",
            "text/plain": [
              "<Figure size 432x288 with 1 Axes>"
            ]
          },
          "metadata": {},
          "output_type": "display_data"
        },
        {
          "name": "stdout",
          "output_type": "stream",
          "text": [
            "type of y_hat: <class 'numpy.ndarray'>, type of y_true: <class 'numpy.ndarray'>\n",
            "a1 shape: (168366, 1) a1 type: <class 'numpy.ndarray'> a2 shape: (168366, 1) a2 type: <class 'numpy.ndarray'>\n"
          ]
        },
        {
          "data": {
            "image/png": "[encoded data removed]",
            "text/plain": [
              "<Figure size 432x288 with 2 Axes>"
            ]
          },
          "metadata": {},
          "output_type": "display_data"
        },
        {
          "name": "stdout",
          "output_type": "stream",
          "text": [
            "\n",
            "5262/5262 [==============================] - 9s 2ms/step - loss: 0.6334 - accuracy: 0.6390\n",
            "Score:            [0.6334037780761719, 0.6389710307121277]\n",
            "Accuracy:         0.6390\n",
            "Recall:           0.7233\n",
            "Precision:        0.6189\n",
            "F1:               0.6671\n",
            "AUROC:            0.6935\n",
            "AUPR:             0.6729\n",
            "KS:               0.2861\n"
          ]
        }
      ],
      "source": [
        "historyPlot(mlp_opt, history_mlp_opt.history, X_val, y_val, True)"
      ]
    },
    {
      "cell_type": "code",
      "execution_count": null,
      "metadata": {
        "id": "WrUZ6WX5NdGs",
        "outputId": "b40bac94-e26e-4ea9-fcc3-7cc9346021cd"
      },
      "outputs": [
        {
          "data": {
            "text/plain": [
              "<AxesSubplot:>"
            ]
          },
          "execution_count": 71,
          "metadata": {},
          "output_type": "execute_result"
        },
        {
          "data": {
            "image/png": "[encoded data removed]",
            "text/plain": [
              "<Figure size 432x288 with 2 Axes>"
            ]
          },
          "metadata": {},
          "output_type": "display_data"
        }
      ],
      "source": [
        "sns.heatmap(confusion_matrix(y_val, y_pred.round()), annot=True, fmt='g')"
      ]
    },
    {
      "cell_type": "markdown",
      "metadata": {
        "id": "VtxekhgpNdGs"
      },
      "source": [
        "## Definindo Random Forest básico"
      ]
    },
    {
      "cell_type": "code",
      "execution_count": null,
      "metadata": {
        "id": "73-trNeWNdGs",
        "outputId": "7b79e504-9230-455f-b5eb-4fcffddd85a6"
      },
      "outputs": [
        {
          "name": "stderr",
          "output_type": "stream",
          "text": [
            "100%|██████████| 1/1 [00:48<00:00, 48.85s/it]\n"
          ]
        }
      ],
      "source": [
        "rf = RandomForestClassifier(n_estimators=100, random_state=42, n_jobs=-1)\n",
        "\n",
        "for _ in tqdm(range(1)):\n",
        "    rf.fit(X_train, y_train.ravel())\n",
        "\n",
        "y_pred = rf.predict(X_val)\n"
      ]
    },
    {
      "cell_type": "code",
      "execution_count": null,
      "metadata": {
        "id": "bQxSb2eqNdGt"
      },
      "outputs": [],
      "source": [
        "def sns_heatmap(y_train, y_pred):\n",
        "    sns.heatmap(confusion_matrix(y_train, y_pred), annot=True, fmt='g')"
      ]
    },
    {
      "cell_type": "code",
      "execution_count": null,
      "metadata": {
        "id": "KJosMzqcNdGt"
      },
      "outputs": [],
      "source": [
        "def sk_model_evaluation(model_name=rf, y_val=y_val, y_pred=y_pred):\n",
        "    print('The model used is {}'.format(model_name))\n",
        "    print('Accuracy Score:', accuracy_score(y_val, y_pred))\n",
        "    print('Precision Score:', precision_score(y_val, y_pred))\n",
        "    print('Recall Score:', recall_score(y_val, y_pred))\n",
        "    print('F1 Score:', f1_score(y_val, y_pred))\n",
        "    print('ROC AUC Score:', roc_auc_score(y_val, y_pred))\n",
        "    print('SK score:', ks_results(reshape_plot(y_val, y_pred)[0], reshape_plot(y_val, y_pred)[1]))\n",
        "    print('Classification Report:\\n', classification_report(y_val, y_pred))\n",
        "    print('Confusion Matrix:\\n', sns_heatmap(y_val, y_pred))\n",
        "    plt.show()"
      ]
    },
    {
      "cell_type": "code",
      "execution_count": null,
      "metadata": {
        "id": "lFL_kKP8NdGt",
        "outputId": "ab6c2e16-8d07-406f-8162-5e4bb980d19d"
      },
      "outputs": [
        {
          "name": "stdout",
          "output_type": "stream",
          "text": [
            "The model used is RandomForestClassifier(n_jobs=-1, random_state=42)\n",
            "Accuracy Score: 0.6513013316227741\n",
            "Precision Score: 0.6387412313188968\n",
            "Recall Score: 0.6965658149507621\n",
            "F1 Score: 0.6664014955650134\n",
            "ROC AUC Score: 0.6513013316227743\n",
            "type of y_hat: <class 'numpy.ndarray'>, type of y_true: <class 'numpy.ndarray'>\n",
            "type of y_hat: <class 'numpy.ndarray'>, type of y_true: <class 'numpy.ndarray'>\n",
            "SK score: 0.30260266324554835\n",
            "Classification Report:\n",
            "               precision    recall  f1-score   support\n",
            "\n",
            "         0.0       0.67      0.61      0.63     84183\n",
            "         1.0       0.64      0.70      0.67     84183\n",
            "\n",
            "    accuracy                           0.65    168366\n",
            "   macro avg       0.65      0.65      0.65    168366\n",
            "weighted avg       0.65      0.65      0.65    168366\n",
            "\n",
            "Confusion Matrix:\n",
            " None\n"
          ]
        },
        {
          "data": {
            "image/png": "[encoded data removed]",
            "text/plain": [
              "<Figure size 432x288 with 2 Axes>"
            ]
          },
          "metadata": {},
          "output_type": "display_data"
        }
      ],
      "source": [
        "sk_model_evaluation(rf, y_val, y_pred)\n"
      ]
    },
    {
      "cell_type": "code",
      "execution_count": null,
      "metadata": {
        "id": "mcHBQWhgNdGt",
        "outputId": "380ac07b-c29f-4ee6-d6be-7ea6fe543a86"
      },
      "outputs": [
        {
          "name": "stdout",
          "output_type": "stream",
          "text": [
            "type of y_hat: <class 'numpy.ndarray'>, type of y_true: <class 'numpy.ndarray'>\n",
            "type of y_hat: <class 'numpy.ndarray'>, type of y_true: <class 'numpy.ndarray'>\n"
          ]
        }
      ],
      "source": [
        "ks = ks_results(reshape_plot(y_val, y_pred)[0], reshape_plot(y_val, y_pred)[1])\n",
        "roc = roc_auc_score(y_val, y_pred)\n",
        "accuracy = accuracy_score(y_val, y_pred)\n",
        "precision = precision_score(y_val, y_pred)\n",
        "recall = recall_score(y_val, y_pred)\n",
        "f1 = f1_score(y_val, y_pred)"
      ]
    },
    {
      "cell_type": "code",
      "execution_count": null,
      "metadata": {
        "id": "o6MBcs1YNdGu",
        "outputId": "161e5ce1-247e-4c26-ebca-5a67c77983da"
      },
      "outputs": [
        {
          "data": {
            "text/html": [
              "<div>\n",
              "<style scoped>\n",
              "    .dataframe tbody tr th:only-of-type {\n",
              "        vertical-align: middle;\n",
              "    }\n",
              "\n",
              "    .dataframe tbody tr th {\n",
              "        vertical-align: top;\n",
              "    }\n",
              "\n",
              "    .dataframe thead th {\n",
              "        text-align: right;\n",
              "    }\n",
              "</style>\n",
              "<table border=\"1\" class=\"dataframe\">\n",
              "  <thead>\n",
              "    <tr style=\"text-align: right;\">\n",
              "      <th></th>\n",
              "      <th>model</th>\n",
              "      <th>ks</th>\n",
              "      <th>roc</th>\n",
              "      <th>accuracy</th>\n",
              "      <th>precision</th>\n",
              "      <th>recall</th>\n",
              "      <th>f1</th>\n",
              "    </tr>\n",
              "  </thead>\n",
              "  <tbody>\n",
              "    <tr>\n",
              "      <th>0</th>\n",
              "      <td>Random Forest Básico</td>\n",
              "      <td>0.302603</td>\n",
              "      <td>0.651301</td>\n",
              "      <td>0.651301</td>\n",
              "      <td>0.638741</td>\n",
              "      <td>0.696566</td>\n",
              "      <td>0.666401</td>\n",
              "    </tr>\n",
              "  </tbody>\n",
              "</table>\n",
              "</div>"
            ],
            "text/plain": [
              "                  model        ks       roc  accuracy  precision    recall  \\\n",
              "0  Random Forest Básico  0.302603  0.651301  0.651301   0.638741  0.696566   \n",
              "\n",
              "         f1  \n",
              "0  0.666401  "
            ]
          },
          "execution_count": 137,
          "metadata": {},
          "output_type": "execute_result"
        }
      ],
      "source": [
        "results_basic = pd.DataFrame({'model': 'Random Forest Básico', 'ks': ks, 'roc': roc, 'accuracy': accuracy, 'precision': precision, 'recall': recall, 'f1': f1}, index=[0])\n",
        "results_basic"
      ]
    },
    {
      "cell_type": "code",
      "execution_count": null,
      "metadata": {
        "id": "VwAscFVeNdGu"
      },
      "outputs": [],
      "source": [
        "rf_params = {\n",
        "    'n_estimators': [100, 300, 500],\n",
        "    'criterion': ['gini', 'entropy'],\n",
        "    'max_depth': [2, 4, 10],\n",
        "    'min_samples_split': [2, 8, 10],\n",
        "    'min_samples_leaf': [4, 6, 10],\n",
        "    'max_features': ['sqrt', 'log2', None],\n",
        "}"
      ]
    },
    {
      "cell_type": "code",
      "execution_count": null,
      "metadata": {
        "id": "R151WtDhNdGv"
      },
      "outputs": [],
      "source": [
        "# use optuna to find the best parameters described above using roc_auc and ks as metrics\n",
        "\n",
        "def objective_rf(trial):\n",
        "    n_estimators = trial.suggest_int('n_estimators', 100, 500, step=100)\n",
        "    criterion = trial.suggest_categorical('criterion', ['gini', 'entropy'])\n",
        "    max_depth = trial.suggest_int('max_depth', 2, 10, step=2)\n",
        "    min_samples_split = trial.suggest_int('min_samples_split', 2, 10, step=2)\n",
        "    min_samples_leaf = trial.suggest_int('min_samples_leaf', 4, 10, step=2)\n",
        "    max_features = trial.suggest_categorical('max_features', ['sqrt', 'log2', None])\n",
        "\n",
        "    model = RandomForestClassifier(n_estimators=n_estimators, random_state=42, n_jobs=-1, verbose=3)\n",
        "\n",
        "    model.fit(X_train, y_train.ravel())\n",
        "\n",
        "    y_pred = model.predict(X_val)\n",
        "\n",
        "    ks = ks_results(reshape_plot(y_pred, y_val)[0], reshape_plot(y_pred, y_val)[1])\n",
        "\n",
        "    trial.set_user_attr('roc_auc', roc_auc_score(y_val, y_pred))\n",
        "    trial.set_user_attr('ks', ks)\n",
        "    trial.set_user_attr('accuracy', accuracy_score(y_val, y_pred))\n",
        "    trial.set_user_attr('precision', precision_score(y_val, y_pred))\n",
        "    trial.set_user_attr('recall', recall_score(y_val, y_pred))\n",
        "    trial.set_user_attr('f1', f1_score(y_val, y_pred))\n",
        "\n",
        "    trial.report(ks, step=1)\n",
        "    trial.report(roc_auc_score(y_val, y_pred), step=2)\n",
        "    trial.report(accuracy_score(y_val, y_pred), step=3)\n",
        "    trial.report(precision_score(y_val, y_pred), step=4)\n",
        "    trial.report(recall_score(y_val, y_pred), step=5)\n",
        "    trial.report(f1_score(y_val, y_pred), step=6)\n",
        "\n",
        "    return ks"
      ]
    },
    {
      "cell_type": "code",
      "execution_count": null,
      "metadata": {
        "id": "mIWPWTo1NdGw",
        "outputId": "51a4ca32-f6e5-4d2a-f4df-d2e2cbc624b5"
      },
      "outputs": [
        {
          "name": "stderr",
          "output_type": "stream",
          "text": [
            "\u001b[32m[I 2023-04-26 11:11:46,119]\u001b[0m A new study created in memory with name: no-name-09ed3573-b054-475c-9308-c96379fa4ae3\u001b[0m\n",
            "[Parallel(n_jobs=-1)]: Using backend ThreadingBackend with 12 concurrent workers.\n"
          ]
        },
        {
          "name": "stdout",
          "output_type": "stream",
          "text": [
            "building tree 1 of 100\n",
            "building tree 2 of 100\n",
            "building tree 3 of 100building tree 4 of 100\n",
            "building tree 5 of 100\n",
            "\n",
            "building tree 6 of 100\n",
            "building tree 7 of 100\n",
            "building tree 8 of 100\n",
            "building tree 9 of 100building tree 10 of 100building tree 11 of 100\n",
            "building tree 12 of 100\n",
            "\n",
            "\n",
            "building tree 13 of 100\n",
            "building tree 14 of 100\n",
            "building tree 15 of 100\n",
            "building tree 16 of 100\n",
            "building tree 17 of 100\n",
            "building tree 18 of 100\n",
            "building tree 19 of 100\n"
          ]
        },
        {
          "name": "stderr",
          "output_type": "stream",
          "text": [
            "[Parallel(n_jobs=-1)]: Done   8 tasks      | elapsed:    5.7s\n"
          ]
        },
        {
          "name": "stdout",
          "output_type": "stream",
          "text": [
            "building tree 20 of 100\n",
            "building tree 21 of 100\n",
            "building tree 22 of 100\n",
            "building tree 23 of 100\n",
            "building tree 24 of 100\n",
            "building tree 25 of 100\n",
            "building tree 26 of 100\n",
            "building tree 27 of 100\n",
            "building tree 28 of 100\n",
            "building tree 29 of 100\n",
            "building tree 30 of 100\n",
            "building tree 31 of 100\n",
            "building tree 32 of 100\n",
            "building tree 33 of 100\n",
            "building tree 34 of 100\n",
            "building tree 35 of 100\n",
            "building tree 36 of 100\n",
            "building tree 37 of 100\n",
            "building tree 38 of 100\n",
            "building tree 39 of 100\n",
            "building tree 40 of 100\n",
            "building tree 41 of 100\n",
            "building tree 42 of 100\n",
            "building tree 43 of 100\n",
            "building tree 44 of 100\n",
            "building tree 45 of 100\n",
            "building tree 46 of 100\n",
            "building tree 47 of 100\n",
            "building tree 48 of 100\n",
            "building tree 49 of 100\n",
            "building tree 50 of 100\n",
            "building tree 51 of 100\n",
            "building tree 52 of 100\n",
            "building tree 53 of 100\n",
            "building tree 54 of 100\n",
            "building tree 55 of 100\n",
            "building tree 56 of 100\n",
            "building tree 57 of 100\n",
            "building tree 58 of 100\n",
            "building tree 59 of 100\n",
            "building tree 60 of 100\n",
            "building tree 61 of 100\n",
            "building tree 62 of 100\n",
            "building tree 63 of 100\n",
            "building tree 64 of 100\n",
            "building tree 65 of 100\n",
            "building tree 66 of 100\n",
            "building tree 67 of 100\n",
            "building tree 68 of 100\n",
            "building tree 69 of 100\n",
            "building tree 70 of 100\n",
            "building tree 71 of 100\n",
            "building tree 72 of 100\n",
            "building tree 73 of 100\n",
            "building tree 74 of 100\n",
            "building tree 75 of 100\n",
            "building tree 76 of 100\n",
            "building tree 77 of 100\n",
            "building tree 78 of 100\n",
            "building tree 79 of 100\n",
            "building tree 80 of 100\n",
            "building tree 81 of 100\n",
            "building tree 82 of 100\n",
            "building tree 83 of 100\n",
            "building tree 84 of 100\n",
            "building tree 85 of 100\n",
            "building tree 86 of 100\n",
            "building tree 87 of 100\n",
            "building tree 88 of 100\n",
            "building tree 89 of 100\n",
            "building tree 90 of 100\n",
            "building tree 91 of 100\n",
            "building tree 92 of 100\n",
            "building tree 93 of 100\n",
            "building tree 94 of 100\n",
            "building tree 95 of 100\n",
            "building tree 96 of 100\n",
            "building tree 97 of 100\n",
            "building tree 98 of 100\n",
            "building tree 99 of 100\n",
            "building tree 100 of 100\n"
          ]
        },
        {
          "name": "stderr",
          "output_type": "stream",
          "text": [
            "[Parallel(n_jobs=-1)]: Done 100 out of 100 | elapsed:   49.9s finished\n",
            "[Parallel(n_jobs=12)]: Using backend ThreadingBackend with 12 concurrent workers.\n",
            "[Parallel(n_jobs=12)]: Done   8 tasks      | elapsed:    0.1s\n",
            "[Parallel(n_jobs=12)]: Done 100 out of 100 | elapsed:    1.6s finished\n"
          ]
        },
        {
          "name": "stdout",
          "output_type": "stream",
          "text": [
            "type of y_hat: <class 'numpy.ndarray'>, type of y_true: <class 'numpy.ndarray'>\n",
            "type of y_hat: <class 'numpy.ndarray'>, type of y_true: <class 'numpy.ndarray'>\n"
          ]
        },
        {
          "name": "stderr",
          "output_type": "stream",
          "text": [
            "\u001b[32m[I 2023-04-26 11:12:38,710]\u001b[0m Trial 0 finished with value: 0.24256119495135625 and parameters: {'n_estimators': 100, 'criterion': 'gini', 'max_depth': 2, 'min_samples_split': 10, 'min_samples_leaf': 4, 'max_features': 'sqrt'}. Best is trial 0 with value: 0.24256119495135625.\u001b[0m\n"
          ]
        },
        {
          "name": "stdout",
          "output_type": "stream",
          "text": [
            "Number of finished trials: 1\n",
            "Best trial: {'n_estimators': 100, 'criterion': 'gini', 'max_depth': 2, 'min_samples_split': 10, 'min_samples_leaf': 4, 'max_features': 'sqrt'}\n"
          ]
        }
      ],
      "source": [
        "study = optuna.create_study(direction='maximize')\n",
        "\n",
        "study.optimize(objective_rf, n_trials=1)\n",
        "\n",
        "print('Number of finished trials:', len(study.trials))\n",
        "print('Best trial:', study.best_trial.params)"
      ]
    },
    {
      "cell_type": "code",
      "execution_count": null,
      "metadata": {
        "id": "QkmahQQ6NdGw",
        "outputId": "1238f015-bf9d-4a24-af8a-41080556f9df"
      },
      "outputs": [
        {
          "data": {
            "text/html": [
              "<div>\n",
              "<style scoped>\n",
              "    .dataframe tbody tr th:only-of-type {\n",
              "        vertical-align: middle;\n",
              "    }\n",
              "\n",
              "    .dataframe tbody tr th {\n",
              "        vertical-align: top;\n",
              "    }\n",
              "\n",
              "    .dataframe thead th {\n",
              "        text-align: right;\n",
              "    }\n",
              "</style>\n",
              "<table border=\"1\" class=\"dataframe\">\n",
              "  <thead>\n",
              "    <tr style=\"text-align: right;\">\n",
              "      <th></th>\n",
              "      <th>model</th>\n",
              "      <th>ks</th>\n",
              "      <th>roc_auc</th>\n",
              "      <th>accuracy</th>\n",
              "      <th>precision</th>\n",
              "      <th>recall</th>\n",
              "      <th>f1</th>\n",
              "    </tr>\n",
              "  </thead>\n",
              "  <tbody>\n",
              "    <tr>\n",
              "      <th>0</th>\n",
              "      <td>Random Forest Optuna</td>\n",
              "      <td>0.242561</td>\n",
              "      <td>0.606732</td>\n",
              "      <td>0.606732</td>\n",
              "      <td>0.663286</td>\n",
              "      <td>0.433555</td>\n",
              "      <td>0.524363</td>\n",
              "    </tr>\n",
              "  </tbody>\n",
              "</table>\n",
              "</div>"
            ],
            "text/plain": [
              "                  model        ks   roc_auc  accuracy  precision    recall  \\\n",
              "0  Random Forest Optuna  0.242561  0.606732  0.606732   0.663286  0.433555   \n",
              "\n",
              "         f1  \n",
              "0  0.524363  "
            ]
          },
          "execution_count": 127,
          "metadata": {},
          "output_type": "execute_result"
        }
      ],
      "source": [
        "study.trials\n",
        "\n",
        "ks = [trial.user_attrs['ks'] for trial in study.trials]\n",
        "roc_auc = [trial.user_attrs['roc_auc'] for trial in study.trials]\n",
        "accuracy = [trial.user_attrs['accuracy'] for trial in study.trials]\n",
        "precision = [trial.user_attrs['precision'] for trial in study.trials]\n",
        "recall = [trial.user_attrs['recall'] for trial in study.trials]\n",
        "f1 = [trial.user_attrs['f1'] for trial in study.trials]\n",
        "\n",
        "results = pd.DataFrame({'model': 'Random Forest Optuna','ks': ks, 'roc_auc': roc_auc, 'accuracy': accuracy, 'precision': precision, 'recall': recall, 'f1': f1})\n",
        "results"
      ]
    },
    {
      "cell_type": "code",
      "execution_count": null,
      "metadata": {
        "id": "fUgmdHOrNdGw",
        "outputId": "477a0cdb-d832-4eca-c8fc-a11ed2cb94c8"
      },
      "outputs": [
        {
          "data": {
            "text/plain": [
              "{'n_estimators': 100,\n",
              " 'criterion': 'gini',\n",
              " 'max_depth': 2,\n",
              " 'min_samples_split': 10,\n",
              " 'min_samples_leaf': 4,\n",
              " 'max_features': 'sqrt'}"
            ]
          },
          "execution_count": 113,
          "metadata": {},
          "output_type": "execute_result"
        }
      ],
      "source": [
        "best_rf = study.best_trial.params\n",
        "best_rf"
      ]
    },
    {
      "cell_type": "code",
      "execution_count": null,
      "metadata": {
        "id": "GifvSIvDNdGw",
        "outputId": "260cfb09-8441-47f1-aba8-69cb5c68105d"
      },
      "outputs": [
        {
          "name": "stderr",
          "output_type": "stream",
          "text": [
            "[Parallel(n_jobs=-1)]: Using backend ThreadingBackend with 12 concurrent workers.\n"
          ]
        },
        {
          "name": "stdout",
          "output_type": "stream",
          "text": [
            "building tree 1 of 100building tree 2 of 100\n",
            "building tree 3 of 100\n",
            "building tree 4 of 100\n",
            "\n",
            "building tree 5 of 100\n",
            "building tree 6 of 100\n",
            "building tree 7 of 100building tree 8 of 100\n",
            "\n",
            "building tree 9 of 100\n",
            "building tree 10 of 100\n",
            "building tree 11 of 100\n",
            "building tree 12 of 100\n",
            "building tree 13 of 100\n",
            "building tree 14 of 100\n",
            "building tree 15 of 100\n",
            "building tree 16 of 100\n",
            "building tree 17 of 100\n",
            "building tree 18 of 100\n",
            "building tree 19 of 100\n",
            "building tree 20 of 100\n",
            "building tree 21 of 100\n"
          ]
        },
        {
          "name": "stderr",
          "output_type": "stream",
          "text": [
            "[Parallel(n_jobs=-1)]: Done   8 tasks      | elapsed:    6.0s\n"
          ]
        },
        {
          "name": "stdout",
          "output_type": "stream",
          "text": [
            "building tree 22 of 100\n",
            "building tree 23 of 100\n",
            "building tree 24 of 100\n",
            "building tree 25 of 100\n",
            "building tree 26 of 100\n",
            "building tree 27 of 100\n",
            "building tree 28 of 100\n",
            "building tree 29 of 100\n",
            "building tree 30 of 100\n",
            "building tree 31 of 100\n",
            "building tree 32 of 100\n",
            "building tree 33 of 100\n",
            "building tree 34 of 100\n",
            "building tree 35 of 100\n",
            "building tree 36 of 100\n",
            "building tree 37 of 100\n",
            "building tree 38 of 100\n",
            "building tree 39 of 100\n",
            "building tree 40 of 100\n",
            "building tree 41 of 100\n",
            "building tree 42 of 100\n",
            "building tree 43 of 100\n",
            "building tree 44 of 100\n",
            "building tree 45 of 100\n",
            "building tree 46 of 100\n",
            "building tree 47 of 100\n",
            "building tree 48 of 100\n",
            "building tree 49 of 100\n",
            "building tree 50 of 100\n",
            "building tree 51 of 100\n",
            "building tree 52 of 100\n",
            "building tree 53 of 100\n",
            "building tree 54 of 100\n",
            "building tree 55 of 100\n",
            "building tree 56 of 100\n",
            "building tree 57 of 100\n",
            "building tree 58 of 100\n",
            "building tree 59 of 100\n",
            "building tree 60 of 100\n",
            "building tree 61 of 100\n",
            "building tree 62 of 100\n",
            "building tree 63 of 100\n",
            "building tree 64 of 100\n",
            "building tree 65 of 100\n",
            "building tree 66 of 100\n",
            "building tree 67 of 100\n",
            "building tree 68 of 100\n",
            "building tree 69 of 100\n",
            "building tree 70 of 100\n",
            "building tree 71 of 100\n",
            "building tree 72 of 100\n",
            "building tree 73 of 100\n",
            "building tree 74 of 100\n",
            "building tree 75 of 100\n",
            "building tree 76 of 100\n",
            "building tree 77 of 100\n",
            "building tree 78 of 100\n",
            "building tree 79 of 100\n",
            "building tree 80 of 100\n",
            "building tree 81 of 100\n",
            "building tree 82 of 100\n",
            "building tree 83 of 100\n",
            "building tree 84 of 100\n",
            "building tree 85 of 100\n",
            "building tree 86 of 100\n",
            "building tree 87 of 100\n",
            "building tree 88 of 100\n",
            "building tree 89 of 100\n",
            "building tree 90 of 100\n",
            "building tree 91 of 100\n",
            "building tree 92 of 100\n",
            "building tree 93 of 100\n",
            "building tree 94 of 100\n",
            "building tree 95 of 100\n",
            "building tree 96 of 100\n",
            "building tree 97 of 100\n",
            "building tree 98 of 100\n",
            "building tree 99 of 100\n",
            "building tree 100 of 100\n"
          ]
        },
        {
          "name": "stderr",
          "output_type": "stream",
          "text": [
            "[Parallel(n_jobs=-1)]: Done 100 out of 100 | elapsed:   49.0s finished\n",
            "[Parallel(n_jobs=12)]: Using backend ThreadingBackend with 12 concurrent workers.\n",
            "[Parallel(n_jobs=12)]: Done   8 tasks      | elapsed:    0.1s\n",
            "[Parallel(n_jobs=12)]: Done 100 out of 100 | elapsed:    1.7s finished\n",
            "[Parallel(n_jobs=12)]: Using backend ThreadingBackend with 12 concurrent workers.\n",
            "[Parallel(n_jobs=12)]: Done   8 tasks      | elapsed:    0.1s\n",
            "[Parallel(n_jobs=12)]: Done 100 out of 100 | elapsed:    1.8s finished\n",
            "c:\\Users\\Felipe_Lin\\anaconda3\\lib\\site-packages\\sklearn\\preprocessing\\_label.py:115: DataConversionWarning: A column-vector y was passed when a 1d array was expected. Please change the shape of y to (n_samples, ), for example using ravel().\n",
            "  y = column_or_1d(y, warn=True)\n"
          ]
        },
        {
          "data": {
            "image/png": "[encoded data removed]",
            "text/plain": [
              "<Figure size 432x288 with 1 Axes>"
            ]
          },
          "metadata": {},
          "output_type": "display_data"
        },
        {
          "name": "stdout",
          "output_type": "stream",
          "text": [
            "type of y_hat: <class 'numpy.ndarray'>, type of y_true: <class 'numpy.ndarray'>\n",
            "a1 shape: (168366, 1) a1 type: <class 'numpy.ndarray'> a2 shape: (168366, 1) a2 type: <class 'numpy.ndarray'>\n"
          ]
        },
        {
          "data": {
            "image/png": "[encoded data removed]",
            "text/plain": [
              "<Figure size 432x288 with 2 Axes>"
            ]
          },
          "metadata": {},
          "output_type": "display_data"
        },
        {
          "name": "stdout",
          "output_type": "stream",
          "text": [
            "\n",
            "Accuracy:         0.6067\n",
            "Recall:           0.4336\n",
            "Precision:        0.6633\n",
            "F1:               0.5244\n",
            "AUROC:            0.6750\n",
            "AUPR:             0.6390\n",
            "KS:               0.2426\n"
          ]
        }
      ],
      "source": [
        "rf_opt = RandomForestClassifier(n_estimators=best_rf['n_estimators'],random_state=42, n_jobs=-1, verbose=3)\n",
        "\n",
        "rf_opt.fit(X_train, y_train.ravel())\n",
        "\n",
        "testePlot(rf_opt, X_val, y_val)"
      ]
    },
    {
      "cell_type": "code",
      "execution_count": null,
      "metadata": {
        "id": "QTuHU7kVNdGx",
        "outputId": "2422bfef-dac0-4e6c-91fa-ae460c3eea66"
      },
      "outputs": [
        {
          "name": "stdout",
          "output_type": "stream",
          "text": [
            "      Iter       Train Loss   Remaining Time \n",
            "         1           1.3742           14.57m\n",
            "         2           1.3643           14.23m\n",
            "         3           1.3558           14.26m\n",
            "         4           1.3488           13.96m\n",
            "         5           1.3421           13.63m\n",
            "         6           1.3367           13.45m\n",
            "         7           1.3316           13.34m\n",
            "         8           1.3267           13.22m\n",
            "         9           1.3224           13.04m\n",
            "        10           1.3190           12.86m\n",
            "        11           1.3158           12.74m\n",
            "        12           1.3129           12.60m\n",
            "        13           1.3093           12.45m\n",
            "        14           1.3069           12.29m\n",
            "        15           1.3047           12.13m\n",
            "        16           1.3027           12.01m\n",
            "        17           1.2994           11.85m\n",
            "        18           1.2967           11.69m\n",
            "        19           1.2943           11.53m\n",
            "        20           1.2928           11.35m\n",
            "        21           1.2914           11.17m\n",
            "        22           1.2890           10.97m\n",
            "        23           1.2871           10.82m\n",
            "        24           1.2856           10.64m\n",
            "        25           1.2845           10.48m\n",
            "        26           1.2833           10.33m\n",
            "        27           1.2820           10.18m\n",
            "        28           1.2806           10.01m\n",
            "        29           1.2788            9.86m\n",
            "        30           1.2776            9.71m\n",
            "        31           1.2765            9.57m\n",
            "        32           1.2754            9.42m\n",
            "        33           1.2744            9.30m\n",
            "        34           1.2734            9.16m\n",
            "        35           1.2724            9.03m\n",
            "        36           1.2716            8.89m\n",
            "        37           1.2708            8.75m\n",
            "        38           1.2703            8.60m\n",
            "        39           1.2697            8.45m\n",
            "        40           1.2691            8.31m\n",
            "        41           1.2683            8.15m\n",
            "        42           1.2678            8.01m\n",
            "        43           1.2671            7.87m\n",
            "        44           1.2665            7.74m\n",
            "        45           1.2656            7.61m\n",
            "        46           1.2649            7.48m\n",
            "        47           1.2643            7.34m\n",
            "        48           1.2639            7.20m\n",
            "        49           1.2633            7.06m\n",
            "        50           1.2628            6.93m\n",
            "        51           1.2620            6.79m\n",
            "        52           1.2615            6.65m\n",
            "        53           1.2610            6.51m\n",
            "        54           1.2608            6.36m\n",
            "        55           1.2601            6.23m\n",
            "        56           1.2597            6.09m\n",
            "        57           1.2591            5.95m\n",
            "        58           1.2587            5.81m\n",
            "        59           1.2583            5.68m\n",
            "        60           1.2579            5.54m\n",
            "        61           1.2576            5.39m\n",
            "        62           1.2573            5.25m\n",
            "        63           1.2571            5.11m\n",
            "        64           1.2568            4.97m\n",
            "        65           1.2564            4.83m\n",
            "        66           1.2560            4.70m\n",
            "        67           1.2557            4.56m\n",
            "        68           1.2554            4.42m\n",
            "        69           1.2551            4.28m\n",
            "        70           1.2548            4.14m\n",
            "        71           1.2546            4.00m\n",
            "        72           1.2543            3.87m\n",
            "        73           1.2540            3.73m\n",
            "        74           1.2537            3.59m\n",
            "        75           1.2534            3.45m\n",
            "        76           1.2532            3.31m\n",
            "        77           1.2527            3.18m\n",
            "        78           1.2525            3.04m\n",
            "        79           1.2523            2.90m\n",
            "        80           1.2520            2.76m\n",
            "        81           1.2518            2.62m\n",
            "        82           1.2516            2.48m\n",
            "        83           1.2514            2.34m\n",
            "        84           1.2510            2.21m\n",
            "        85           1.2508            2.07m\n",
            "        86           1.2506            1.93m\n",
            "        87           1.2504            1.79m\n",
            "        88           1.2502            1.65m\n",
            "        89           1.2499            1.52m\n",
            "        90           1.2498            1.38m\n",
            "        91           1.2496            1.24m\n",
            "        92           1.2494            1.10m\n",
            "        93           1.2493           57.92s\n",
            "        94           1.2491           49.64s\n",
            "        95           1.2489           41.37s\n",
            "        96           1.2486           33.12s\n",
            "        97           1.2483           24.84s\n",
            "        98           1.2480           16.57s\n",
            "        99           1.2478            8.28s\n",
            "       100           1.2477            0.00s\n"
          ]
        }
      ],
      "source": [
        "gb = GradientBoostingClassifier(random_state=42, verbose=4)\n",
        "\n",
        "gb.fit(X_train, y_train.ravel())\n",
        "\n",
        "y_pred = gb.predict(X_val)"
      ]
    },
    {
      "cell_type": "code",
      "execution_count": null,
      "metadata": {
        "id": "kwt-pcD8NdGx",
        "outputId": "e752ea09-3bdd-4c79-b96e-1f8429eca42f"
      },
      "outputs": [
        {
          "name": "stdout",
          "output_type": "stream",
          "text": [
            "The model used is GradientBoostingClassifier(random_state=42, verbose=4)\n",
            "Accuracy Score: 0.6513013316227741\n",
            "Precision Score: 0.6387412313188968\n",
            "Recall Score: 0.6965658149507621\n",
            "F1 Score: 0.6664014955650134\n",
            "ROC AUC Score: 0.6513013316227743\n",
            "type of y_hat: <class 'numpy.ndarray'>, type of y_true: <class 'numpy.ndarray'>\n",
            "type of y_hat: <class 'numpy.ndarray'>, type of y_true: <class 'numpy.ndarray'>\n",
            "SK score: 0.30260266324554835\n",
            "Classification Report:\n",
            "               precision    recall  f1-score   support\n",
            "\n",
            "         0.0       0.67      0.61      0.63     84183\n",
            "         1.0       0.64      0.70      0.67     84183\n",
            "\n",
            "    accuracy                           0.65    168366\n",
            "   macro avg       0.65      0.65      0.65    168366\n",
            "weighted avg       0.65      0.65      0.65    168366\n",
            "\n",
            "Confusion Matrix:\n",
            " None\n"
          ]
        },
        {
          "data": {
            "image/png": "[encoded data removed]",
            "text/plain": [
              "<Figure size 432x288 with 2 Axes>"
            ]
          },
          "metadata": {},
          "output_type": "display_data"
        }
      ],
      "source": [
        "sk_model_evaluation(gb, y_val, y_pred)"
      ]
    },
    {
      "cell_type": "code",
      "execution_count": null,
      "metadata": {
        "id": "vpXJCEB-NdGx",
        "outputId": "c1c85fd1-1634-4640-c735-a3261ceb3435"
      },
      "outputs": [
        {
          "name": "stdout",
          "output_type": "stream",
          "text": [
            "type of y_hat: <class 'numpy.ndarray'>, type of y_true: <class 'numpy.ndarray'>\n",
            "type of y_hat: <class 'numpy.ndarray'>, type of y_true: <class 'numpy.ndarray'>\n"
          ]
        },
        {
          "data": {
            "text/html": [
              "<div>\n",
              "<style scoped>\n",
              "    .dataframe tbody tr th:only-of-type {\n",
              "        vertical-align: middle;\n",
              "    }\n",
              "\n",
              "    .dataframe tbody tr th {\n",
              "        vertical-align: top;\n",
              "    }\n",
              "\n",
              "    .dataframe thead th {\n",
              "        text-align: right;\n",
              "    }\n",
              "</style>\n",
              "<table border=\"1\" class=\"dataframe\">\n",
              "  <thead>\n",
              "    <tr style=\"text-align: right;\">\n",
              "      <th></th>\n",
              "      <th>model</th>\n",
              "      <th>ks</th>\n",
              "      <th>roc</th>\n",
              "      <th>accuracy</th>\n",
              "      <th>precision</th>\n",
              "      <th>recall</th>\n",
              "      <th>f1</th>\n",
              "    </tr>\n",
              "  </thead>\n",
              "  <tbody>\n",
              "    <tr>\n",
              "      <th>0</th>\n",
              "      <td>Random Forest Básico</td>\n",
              "      <td>0.302603</td>\n",
              "      <td>0.651301</td>\n",
              "      <td>0.651301</td>\n",
              "      <td>0.638741</td>\n",
              "      <td>0.696566</td>\n",
              "      <td>0.666401</td>\n",
              "    </tr>\n",
              "    <tr>\n",
              "      <th>1</th>\n",
              "      <td>Gradient Boosting Básico</td>\n",
              "      <td>0.302603</td>\n",
              "      <td>0.651301</td>\n",
              "      <td>0.651301</td>\n",
              "      <td>0.638741</td>\n",
              "      <td>0.696566</td>\n",
              "      <td>0.666401</td>\n",
              "    </tr>\n",
              "  </tbody>\n",
              "</table>\n",
              "</div>"
            ],
            "text/plain": [
              "                      model        ks       roc  accuracy  precision  \\\n",
              "0      Random Forest Básico  0.302603  0.651301  0.651301   0.638741   \n",
              "1  Gradient Boosting Básico  0.302603  0.651301  0.651301   0.638741   \n",
              "\n",
              "     recall        f1  \n",
              "0  0.696566  0.666401  \n",
              "1  0.696566  0.666401  "
            ]
          },
          "execution_count": 141,
          "metadata": {},
          "output_type": "execute_result"
        }
      ],
      "source": [
        "ks = ks_results(reshape_plot(y_val, y_pred)[0], reshape_plot(y_val, y_pred)[1])\n",
        "roc = roc_auc_score(y_val, y_pred)\n",
        "accuracy = accuracy_score(y_val, y_pred)\n",
        "precision = precision_score(y_val, y_pred)\n",
        "recall = recall_score(y_val, y_pred)\n",
        "f1 = f1_score(y_val, y_pred)\n",
        "\n",
        "results_basic.loc[1] = ['Gradient Boosting Básico', ks, roc, accuracy, precision, recall, f1]\n",
        "results_basic"
      ]
    },
    {
      "cell_type": "code",
      "execution_count": null,
      "metadata": {
        "id": "cOqT4rLNNdGx"
      },
      "outputs": [],
      "source": [
        "def objective_gb(trial):\n",
        "    loss = trial.suggest_categorical('loss', ['log_loss', 'deviance', 'exponential'])\n",
        "    learning_rate = trial.suggest_loguniform('learning_rate', 0.001, 0.1)\n",
        "    n_estimators = trial.suggest_int('n_estimators', 100, 500, step=100)\n",
        "\n",
        "    model = GradientBoostingClassifier(loss=loss, learning_rate=learning_rate, n_estimators=n_estimators, random_state=42, verbose=3)\n",
        "\n",
        "    model.fit(X_train, y_train.ravel())\n",
        "\n",
        "    y_pred = model.predict(X_val)\n",
        "\n",
        "    ks = ks_results(reshape_plot(y_pred, y_val)[0], reshape_plot(y_pred, y_val)[1])\n",
        "\n",
        "    trial.set_user_attr('roc_auc', roc_auc_score(y_val, y_pred))\n",
        "    trial.set_user_attr('ks', ks)\n",
        "    trial.set_user_attr('accuracy', accuracy_score(y_val, y_pred))\n",
        "    trial.set_user_attr('precision', precision_score(y_val, y_pred))\n",
        "    trial.set_user_attr('recall', recall_score(y_val, y_pred))\n",
        "    trial.set_user_attr('f1', f1_score(y_val, y_pred))\n",
        "\n",
        "    trial.report(ks, step=1)\n",
        "    trial.report(roc_auc_score(y_val, y_pred), step=2)\n",
        "    trial.report(accuracy_score(y_val, y_pred), step=3)\n",
        "    trial.report(precision_score(y_val, y_pred), step=4)\n",
        "    trial.report(recall_score(y_val, y_pred), step=5)\n",
        "    trial.report(f1_score(y_val, y_pred), step=6)\n",
        "\n",
        "    return ks"
      ]
    },
    {
      "cell_type": "code",
      "execution_count": null,
      "metadata": {
        "id": "v7WpJH6ZNdGy",
        "outputId": "923a1836-9065-4a15-86de-ab6a5ace95eb"
      },
      "outputs": [
        {
          "name": "stderr",
          "output_type": "stream",
          "text": [
            "\u001b[32m[I 2023-04-26 12:02:01,737]\u001b[0m A new study created in memory with name: no-name-cb599701-598c-425a-8f6f-2307761ff5fe\u001b[0m\n",
            "C:\\Users\\Felipe_Lin\\AppData\\Local\\Temp\\ipykernel_10692\\3535606896.py:3: FutureWarning: suggest_loguniform has been deprecated in v3.0.0. This feature will be removed in v6.0.0. See https://github.com/optuna/optuna/releases/tag/v3.0.0. Use :func:`~optuna.trial.Trial.suggest_float` instead.\n",
            "  learning_rate = trial.suggest_loguniform('learning_rate', 0.001, 0.1)\n"
          ]
        },
        {
          "name": "stdout",
          "output_type": "stream",
          "text": [
            "      Iter       Train Loss   Remaining Time \n",
            "         1           0.9986           15.40m\n",
            "         2           0.9972           14.67m\n",
            "         3           0.9959           14.20m\n",
            "         4           0.9946           13.96m\n",
            "         5           0.9934           13.70m\n",
            "         6           0.9922           13.49m\n",
            "         7           0.9911           13.31m\n",
            "         8           0.9900           13.16m\n",
            "         9           0.9889           13.01m\n",
            "        10           0.9879           12.85m\n",
            "        11           0.9869           12.71m\n",
            "        12           0.9860           12.57m\n",
            "        13           0.9851           12.42m\n",
            "        14           0.9842           12.28m\n",
            "        15           0.9833           12.14m\n",
            "        16           0.9824           11.98m\n",
            "        17           0.9816           11.84m\n",
            "        18           0.9809           11.70m\n",
            "        19           0.9801           11.54m\n",
            "        20           0.9794           11.39m\n",
            "        21           0.9786           11.23m\n",
            "        22           0.9780           11.08m\n",
            "        23           0.9773           10.93m\n",
            "        24           0.9766           10.77m\n",
            "        25           0.9760           10.62m\n",
            "        26           0.9753           10.51m\n",
            "        27           0.9747           10.39m\n",
            "        28           0.9741           10.27m\n",
            "        29           0.9735           10.14m\n",
            "        30           0.9730           10.00m\n",
            "        31           0.9724            9.87m\n",
            "        32           0.9719            9.73m\n",
            "        33           0.9714            9.59m\n",
            "        34           0.9708            9.45m\n",
            "        35           0.9703            9.30m\n",
            "        36           0.9699            9.16m\n",
            "        37           0.9694            9.02m\n",
            "        38           0.9689            8.88m\n",
            "        39           0.9682            8.74m\n",
            "        40           0.9678            8.59m\n",
            "        41           0.9673            8.45m\n",
            "        42           0.9669            8.31m\n",
            "        43           0.9664            8.16m\n",
            "        44           0.9660            8.02m\n",
            "        45           0.9656            7.88m\n",
            "        46           0.9651            7.73m\n",
            "        47           0.9647            7.58m\n",
            "        48           0.9644            7.43m\n",
            "        49           0.9638            7.29m\n",
            "        50           0.9634            7.14m\n",
            "        51           0.9630            6.99m\n",
            "        52           0.9627            6.84m\n",
            "        53           0.9621            6.69m\n",
            "        54           0.9618            6.55m\n",
            "        55           0.9615            6.40m\n",
            "        56           0.9612            6.25m\n",
            "        57           0.9607            6.11m\n",
            "        58           0.9604            5.96m\n",
            "        59           0.9601            5.81m\n",
            "        60           0.9598            5.67m\n",
            "        61           0.9594            5.52m\n",
            "        62           0.9591            5.38m\n",
            "        63           0.9589            5.23m\n",
            "        64           0.9585            5.09m\n",
            "        65           0.9582            4.94m\n",
            "        66           0.9579            4.80m\n",
            "        67           0.9576            4.66m\n",
            "        68           0.9573            4.52m\n",
            "        69           0.9571            4.37m\n",
            "        70           0.9568            4.23m\n",
            "        71           0.9564            4.08m\n",
            "        72           0.9560            3.94m\n",
            "        73           0.9557            3.80m\n",
            "        74           0.9555            3.66m\n",
            "        75           0.9553            3.53m\n",
            "        76           0.9549            3.39m\n",
            "        77           0.9547            3.25m\n",
            "        78           0.9544            3.11m\n",
            "        79           0.9542            2.97m\n",
            "        80           0.9541            2.82m\n",
            "        81           0.9536            2.68m\n",
            "        82           0.9533            2.54m\n",
            "        83           0.9531            2.40m\n",
            "        84           0.9528            2.25m\n",
            "        85           0.9526            2.11m\n",
            "        86           0.9524            1.97m\n",
            "        87           0.9522            1.83m\n",
            "        88           0.9518            1.69m\n",
            "        89           0.9517            1.54m\n",
            "        90           0.9513            1.40m\n",
            "        91           0.9511            1.26m\n",
            "        92           0.9510            1.12m\n",
            "        93           0.9508           58.79s\n",
            "        94           0.9505           50.37s\n",
            "        95           0.9503           41.95s\n",
            "        96           0.9500           33.52s\n",
            "        97           0.9499           25.13s\n",
            "        98           0.9497           16.74s\n",
            "        99           0.9495            8.36s\n",
            "       100           0.9494            0.00s\n",
            "type of y_hat: <class 'numpy.ndarray'>, type of y_true: <class 'numpy.ndarray'>\n",
            "type of y_hat: <class 'numpy.ndarray'>, type of y_true: <class 'numpy.ndarray'>\n"
          ]
        },
        {
          "name": "stderr",
          "output_type": "stream",
          "text": [
            "\u001b[32m[I 2023-04-26 12:15:59,213]\u001b[0m Trial 0 finished with value: 0.27887679366684937 and parameters: {'loss': 'exponential', 'learning_rate': 0.02279859731493836, 'n_estimators': 100}. Best is trial 0 with value: 0.27887679366684937.\u001b[0m\n"
          ]
        }
      ],
      "source": [
        "study_gb = optuna.create_study(direction='maximize')\n",
        "study_gb.optimize(objective_gb, n_trials=1)"
      ]
    },
    {
      "cell_type": "code",
      "execution_count": null,
      "metadata": {
        "id": "G-Nq1HVONdGy",
        "outputId": "c08228ad-640f-4851-bbd8-8fd1fe31f419"
      },
      "outputs": [
        {
          "data": {
            "text/html": [
              "<div>\n",
              "<style scoped>\n",
              "    .dataframe tbody tr th:only-of-type {\n",
              "        vertical-align: middle;\n",
              "    }\n",
              "\n",
              "    .dataframe tbody tr th {\n",
              "        vertical-align: top;\n",
              "    }\n",
              "\n",
              "    .dataframe thead th {\n",
              "        text-align: right;\n",
              "    }\n",
              "</style>\n",
              "<table border=\"1\" class=\"dataframe\">\n",
              "  <thead>\n",
              "    <tr style=\"text-align: right;\">\n",
              "      <th></th>\n",
              "      <th>model</th>\n",
              "      <th>ks</th>\n",
              "      <th>roc_auc</th>\n",
              "      <th>accuracy</th>\n",
              "      <th>precision</th>\n",
              "      <th>recall</th>\n",
              "      <th>f1</th>\n",
              "    </tr>\n",
              "  </thead>\n",
              "  <tbody>\n",
              "    <tr>\n",
              "      <th>0</th>\n",
              "      <td>Random Forest Optuna</td>\n",
              "      <td>0.242561</td>\n",
              "      <td>0.606732</td>\n",
              "      <td>0.606732</td>\n",
              "      <td>0.663286</td>\n",
              "      <td>0.433555</td>\n",
              "      <td>0.524363</td>\n",
              "    </tr>\n",
              "    <tr>\n",
              "      <th>1</th>\n",
              "      <td>Gradient Boosting Optuna</td>\n",
              "      <td>0.278877</td>\n",
              "      <td>0.634410</td>\n",
              "      <td>0.634410</td>\n",
              "      <td>0.612958</td>\n",
              "      <td>0.729363</td>\n",
              "      <td>0.666113</td>\n",
              "    </tr>\n",
              "  </tbody>\n",
              "</table>\n",
              "</div>"
            ],
            "text/plain": [
              "                      model        ks   roc_auc  accuracy  precision  \\\n",
              "0      Random Forest Optuna  0.242561  0.606732  0.606732   0.663286   \n",
              "1  Gradient Boosting Optuna  0.278877  0.634410  0.634410   0.612958   \n",
              "\n",
              "     recall        f1  \n",
              "0  0.433555  0.524363  \n",
              "1  0.729363  0.666113  "
            ]
          },
          "execution_count": 128,
          "metadata": {},
          "output_type": "execute_result"
        }
      ],
      "source": [
        "study_gb.trials\n",
        "\n",
        "ks = [trial.user_attrs['ks'] for trial in study_gb.trials]\n",
        "roc_auc = [trial.user_attrs['roc_auc'] for trial in study_gb.trials]\n",
        "accuracy = [trial.user_attrs['accuracy'] for trial in study_gb.trials]\n",
        "precision = [trial.user_attrs['precision'] for trial in study_gb.trials]\n",
        "recall = [trial.user_attrs['recall'] for trial in study_gb.trials]\n",
        "f1 = [trial.user_attrs['f1'] for trial in study_gb.trials]\n",
        "\n",
        "results.loc[1] = ['Gradient Boosting Optuna', ks[0], roc_auc[0], accuracy[0], precision[0], recall[0], f1[0]]\n",
        "results"
      ]
    },
    {
      "cell_type": "code",
      "execution_count": null,
      "metadata": {
        "id": "ZiOT9G-gNdGy",
        "outputId": "8234264b-f0c6-46b7-99ee-215d4b1a69c2"
      },
      "outputs": [
        {
          "data": {
            "text/plain": [
              "{'loss': 'exponential',\n",
              " 'learning_rate': 0.02279859731493836,\n",
              " 'n_estimators': 100}"
            ]
          },
          "execution_count": 129,
          "metadata": {},
          "output_type": "execute_result"
        }
      ],
      "source": [
        "best_gb = study_gb.best_trial.params\n",
        "best_gb"
      ]
    },
    {
      "cell_type": "code",
      "execution_count": null,
      "metadata": {
        "id": "3GxtbNTrNdGy",
        "outputId": "d91d8470-2e34-46bc-c5c1-8346673a946f"
      },
      "outputs": [
        {
          "name": "stdout",
          "output_type": "stream",
          "text": [
            "      Iter       Train Loss   Remaining Time \n",
            "         1           0.9986           13.78m\n",
            "         2           0.9972           13.49m\n",
            "         3           0.9959           13.55m\n",
            "         4           0.9946           13.49m\n",
            "         5           0.9934           13.47m\n",
            "         6           0.9922           13.35m\n",
            "         7           0.9911           13.17m\n",
            "         8           0.9900           13.00m\n",
            "         9           0.9889           12.84m\n",
            "        10           0.9879           12.66m\n",
            "        11           0.9869           12.51m\n",
            "        12           0.9860           12.33m\n",
            "        13           0.9851           12.17m\n",
            "        14           0.9842           12.02m\n",
            "        15           0.9833           11.87m\n",
            "        16           0.9824           11.71m\n",
            "        17           0.9816           11.56m\n",
            "        18           0.9809           11.40m\n",
            "        19           0.9801           11.35m\n",
            "        20           0.9794           11.31m\n",
            "        21           0.9786           11.32m\n",
            "        22           0.9780           11.22m\n",
            "        23           0.9773           11.08m\n",
            "        24           0.9766           10.93m\n",
            "        25           0.9760           10.80m\n",
            "        26           0.9753           10.65m\n",
            "        27           0.9747           10.50m\n",
            "        28           0.9741           10.36m\n",
            "        29           0.9735           10.22m\n",
            "        30           0.9730           10.09m\n",
            "        31           0.9724            9.94m\n",
            "        32           0.9719            9.79m\n",
            "        33           0.9714            9.64m\n",
            "        34           0.9708            9.48m\n",
            "        35           0.9703            9.32m\n",
            "        36           0.9699            9.18m\n",
            "        37           0.9694            9.03m\n",
            "        38           0.9689            8.88m\n",
            "        39           0.9682            8.73m\n",
            "        40           0.9678            8.58m\n",
            "        41           0.9673            8.43m\n",
            "        42           0.9669            8.28m\n",
            "        43           0.9664            8.13m\n",
            "        44           0.9660            7.98m\n",
            "        45           0.9656            7.84m\n",
            "        46           0.9651            7.69m\n",
            "        47           0.9647            7.54m\n",
            "        48           0.9644            7.40m\n",
            "        49           0.9638            7.25m\n",
            "        50           0.9634            7.10m\n",
            "        51           0.9630            6.96m\n",
            "        52           0.9627            6.81m\n",
            "        53           0.9621            6.67m\n",
            "        54           0.9618            6.52m\n",
            "        55           0.9615            6.37m\n",
            "        56           0.9612            6.23m\n",
            "        57           0.9607            6.08m\n",
            "        58           0.9604            5.94m\n",
            "        59           0.9601            5.80m\n",
            "        60           0.9598            5.65m\n",
            "        61           0.9594            5.51m\n",
            "        62           0.9591            5.36m\n",
            "        63           0.9589            5.22m\n",
            "        64           0.9585            5.08m\n",
            "        65           0.9582            4.93m\n",
            "        66           0.9579            4.79m\n",
            "        67           0.9576            4.65m\n",
            "        68           0.9573            4.50m\n",
            "        69           0.9571            4.35m\n",
            "        70           0.9568            4.21m\n",
            "        71           0.9564            4.07m\n",
            "        72           0.9560            3.92m\n",
            "        73           0.9557            3.78m\n",
            "        74           0.9555            3.64m\n",
            "        75           0.9553            3.49m\n",
            "        76           0.9549            3.35m\n",
            "        77           0.9547            3.21m\n",
            "        78           0.9544            3.07m\n",
            "        79           0.9542            2.93m\n",
            "        80           0.9541            2.78m\n",
            "        81           0.9536            2.64m\n",
            "        82           0.9533            2.50m\n",
            "        83           0.9531            2.36m\n",
            "        84           0.9528            2.22m\n",
            "        85           0.9526            2.08m\n",
            "        86           0.9524            1.94m\n",
            "        87           0.9522            1.80m\n",
            "        88           0.9518            1.66m\n",
            "        89           0.9517            1.52m\n",
            "        90           0.9513            1.38m\n",
            "        91           0.9511            1.24m\n",
            "        92           0.9510            1.10m\n",
            "        93           0.9508           57.91s\n",
            "        94           0.9505           49.62s\n",
            "        95           0.9503           41.33s\n",
            "        96           0.9500           33.03s\n",
            "        97           0.9499           24.76s\n",
            "        98           0.9497           16.50s\n",
            "        99           0.9495            8.24s\n",
            "       100           0.9494            0.00s\n"
          ]
        },
        {
          "name": "stderr",
          "output_type": "stream",
          "text": [
            "c:\\Users\\Felipe_Lin\\anaconda3\\lib\\site-packages\\sklearn\\preprocessing\\_label.py:115: DataConversionWarning: A column-vector y was passed when a 1d array was expected. Please change the shape of y to (n_samples, ), for example using ravel().\n",
            "  y = column_or_1d(y, warn=True)\n"
          ]
        },
        {
          "data": {
            "image/png": "[encoded data removed]",
            "text/plain": [
              "<Figure size 432x288 with 1 Axes>"
            ]
          },
          "metadata": {},
          "output_type": "display_data"
        },
        {
          "name": "stdout",
          "output_type": "stream",
          "text": [
            "type of y_hat: <class 'numpy.ndarray'>, type of y_true: <class 'numpy.ndarray'>\n",
            "a1 shape: (168366, 1) a1 type: <class 'numpy.ndarray'> a2 shape: (168366, 1) a2 type: <class 'numpy.ndarray'>\n"
          ]
        },
        {
          "data": {
            "image/png": "[encoded data removed]",
            "text/plain": [
              "<Figure size 432x288 with 2 Axes>"
            ]
          },
          "metadata": {},
          "output_type": "display_data"
        },
        {
          "name": "stdout",
          "output_type": "stream",
          "text": [
            "\n",
            "Accuracy:         0.6344\n",
            "Recall:           0.7294\n",
            "Precision:        0.6130\n",
            "F1:               0.6661\n",
            "AUROC:            0.6889\n",
            "AUPR:             0.6689\n",
            "KS:               0.2789\n"
          ]
        }
      ],
      "source": [
        "gb_opt = GradientBoostingClassifier(loss=best_gb['loss'], learning_rate=best_gb['learning_rate'], n_estimators=best_gb['n_estimators'], random_state=42, verbose=3)\n",
        "\n",
        "gb_opt.fit(X_train, y_train.ravel())\n",
        "\n",
        "testePlot(gb_opt, X_val, y_val)"
      ]
    },
    {
      "cell_type": "markdown",
      "metadata": {
        "id": "DBZoGSc2tBr1"
      },
      "source": [
        "### Abordagem em Redes Neurais (Pytorch - Legacy)\n"
      ]
    },
    {
      "cell_type": "markdown",
      "metadata": {
        "id": "E4-4LJoA-xTE"
      },
      "source": [
        "Primeiramente, preparamos os dados e os separamos em $'features'$ e $'target'$."
      ]
    },
    {
      "cell_type": "code",
      "execution_count": null,
      "metadata": {
        "id": "oNWqFhK9vbiv"
      },
      "outputs": [],
      "source": [
        "class CreditDataset(Dataset):\n",
        "  def __init__(self, data):\n",
        "    #self.X = torch.from_numpy(data[:,:-2])\n",
        "    self.X = torch.tensor(data[:,1:-2], dtype=torch.float)\n",
        "    #self.y = torch.from_numpy(data[:,-1])\n",
        "    y = torch.tensor(data[:,-1], dtype=torch.float)\n",
        "    self.y = y.view([-1,1])\n",
        "    self.n_samples = data.shape[0]\n",
        "\n",
        "  def __getitem__(self, index):\n",
        "    return self.X[index], self.y[index]\n",
        "\n",
        "  def __len__(self):\n",
        "    return self.n_samples"
      ]
    },
    {
      "cell_type": "code",
      "execution_count": null,
      "metadata": {
        "id": "a_mWc8I_xQ37"
      },
      "outputs": [],
      "source": [
        "train_tensor = CreditDataset(train_numpy)"
      ]
    },
    {
      "cell_type": "code",
      "execution_count": null,
      "metadata": {
        "id": "WaIj4eXTyNwo"
      },
      "outputs": [],
      "source": [
        "val_tensor = CreditDataset(val_numpy)"
      ]
    },
    {
      "cell_type": "code",
      "execution_count": null,
      "metadata": {
        "id": "9vcPjkRU-1AP"
      },
      "outputs": [],
      "source": [
        "batch_size=16"
      ]
    },
    {
      "cell_type": "code",
      "execution_count": null,
      "metadata": {
        "id": "WpcgkYTQy0-d"
      },
      "outputs": [],
      "source": [
        "train_loader = DataLoader(dataset=train_tensor,\n",
        "                          batch_size=batch_size,\n",
        "                          shuffle=True,\n",
        "                          num_workers=0)\n",
        "val_loader = DataLoader(dataset=val_tensor,\n",
        "                        batch_size=batch_size,\n",
        "                        shuffle=True,\n",
        "                        num_workers=0)"
      ]
    },
    {
      "cell_type": "code",
      "execution_count": null,
      "metadata": {
        "colab": {
          "base_uri": "https://localhost:8080/"
        },
        "id": "8Hce_Gvr0rl2",
        "outputId": "b7a792da-f952-4d4a-d42e-3a2a14a3719e"
      },
      "outputs": [
        {
          "name": "stdout",
          "output_type": "stream",
          "text": [
            "21365\n",
            "21365\n"
          ]
        }
      ],
      "source": [
        "# Number of batches must be the total of samples divided by the batch size\n",
        "print(len(train_loader))\n",
        "print(math.ceil(train_numpy.shape[0]/batch_size))"
      ]
    },
    {
      "cell_type": "markdown",
      "metadata": {
        "id": "fCAuOzbmztH0"
      },
      "source": [
        "Fazemos a análise de um dos dados, para exemplificar (Temos)."
      ]
    },
    {
      "cell_type": "code",
      "execution_count": null,
      "metadata": {
        "colab": {
          "base_uri": "https://localhost:8080/"
        },
        "id": "JVWdxV8dzOBS",
        "outputId": "d5864d01-cfc0-4789-c969-7e5287a9bdc3"
      },
      "outputs": [
        {
          "name": "stdout",
          "output_type": "stream",
          "text": [
            "torch.Size([16, 241])\n",
            "torch.Size([16, 1])\n"
          ]
        }
      ],
      "source": [
        "train_iter = iter(train_loader)\n",
        "train_example = next(train_iter)\n",
        "features, target = train_example\n",
        "print(features.shape)\n",
        "print(target.shape)"
      ]
    },
    {
      "cell_type": "markdown",
      "metadata": {
        "id": "9iACZJ3j0nge"
      },
      "source": [
        "Agora que os nossos dados estão prontos, podemos configurar a rede."
      ]
    },
    {
      "cell_type": "code",
      "execution_count": null,
      "metadata": {
        "id": "ntSMtWpP-QUC"
      },
      "outputs": [],
      "source": [
        "device = 'cuda' if torch.cuda.is_available() else 'cpu'"
      ]
    },
    {
      "cell_type": "code",
      "execution_count": null,
      "metadata": {
        "id": "qksVnSd40acy"
      },
      "outputs": [],
      "source": [
        "class Network(nn.Module):\n",
        "  def __init__(self, input_size, hidden_size, output_size):\n",
        "    super().__init__()\n",
        "    self.fc1 = nn.Linear(input_size, hidden_size)\n",
        "    self.fc2 = nn.Linear(hidden_size,hidden_size)\n",
        "    self.fc3 = nn.Linear(hidden_size,output_size)\n",
        "    self.leaky = nn.LeakyReLU(0.1)\n",
        "    self.relu = nn.ReLU()\n",
        "    self.sigmoid = nn.Sigmoid()\n",
        "\n",
        "  def forward(self, input):\n",
        "    out = self.relu(self.fc1(input))\n",
        "    out = self.leaky(self.fc2(out))\n",
        "    out = self.relu(self.fc3(out))\n",
        "    out = self.sigmoid(out)\n",
        "\n",
        "    return out"
      ]
    },
    {
      "cell_type": "markdown",
      "metadata": {
        "id": "LR4lq1ubvIQF"
      },
      "source": [
        "Definimos os hiperparâmetros da nossa rede.\n"
      ]
    },
    {
      "cell_type": "code",
      "execution_count": null,
      "metadata": {
        "colab": {
          "base_uri": "https://localhost:8080/"
        },
        "id": "8U-4P2GDvG7F",
        "outputId": "d09b7d61-93a4-4151-8c7d-edcc3cc60dfd"
      },
      "outputs": [
        {
          "name": "stdout",
          "output_type": "stream",
          "text": [
            "torch.Size([341830, 241])\n",
            "torch.Size([341830, 1])\n"
          ]
        }
      ],
      "source": [
        "print(train_tensor.X.shape)\n",
        "print(train_tensor.y.shape)"
      ]
    },
    {
      "cell_type": "code",
      "execution_count": null,
      "metadata": {
        "id": "_ZOa9Fd9_Uww"
      },
      "outputs": [],
      "source": [
        "num_epochs = 1\n",
        "input_size = train_tensor.X.shape[1]\n",
        "output_size = 1\n",
        "hidden_size = 256\n",
        "learning_rate = 0.00001"
      ]
    },
    {
      "cell_type": "code",
      "execution_count": null,
      "metadata": {
        "id": "r5hF8RM14cLW"
      },
      "outputs": [],
      "source": [
        "model = Network(input_size, hidden_size, output_size)"
      ]
    },
    {
      "cell_type": "code",
      "execution_count": null,
      "metadata": {
        "id": "3s0KFAmXKeyx"
      },
      "outputs": [],
      "source": [
        "#summary(model, input_size=(train_tensor.X.shape[0], train_tensor.X.shape[1]), batch_size=64)"
      ]
    },
    {
      "cell_type": "code",
      "execution_count": null,
      "metadata": {
        "id": "UjTcXBIaAo70"
      },
      "outputs": [],
      "source": [
        "criterion = nn.BCELoss()\n",
        "optimizer = torch.optim.Adam(params = model.parameters(), lr = learning_rate)"
      ]
    },
    {
      "cell_type": "code",
      "execution_count": null,
      "metadata": {
        "colab": {
          "base_uri": "https://localhost:8080/"
        },
        "id": "gEloAzZnAaJC",
        "outputId": "27d86ae9-adc0-4f50-aca7-ed958c56c6ba"
      },
      "outputs": [
        {
          "name": "stdout",
          "output_type": "stream",
          "text": [
            "Train loss at Epoch 1/1: 0.6789380136588826. // Train accuracy at Epoch 1/1: 59.19%.\n",
            "Validation loss at Epoch 1/1: 0.6737103019342348. // Validation accuracy at Epoch 1/1: 62.25%.\n",
            "-------------------------------------------------------------\n"
          ]
        }
      ],
      "source": [
        "for epoch in range(num_epochs):\n",
        "\n",
        "  train_correct = 0\n",
        "  model.train()\n",
        "  train_loss = 0\n",
        "\n",
        "  for batch_idx, (features, targets) in enumerate(train_loader):\n",
        "    # Clear gradients\n",
        "    optimizer.zero_grad()\n",
        "    # Obtain logits\n",
        "    outputs = model(features)\n",
        "    # Calculate loss\n",
        "    loss = criterion(outputs, targets)\n",
        "    # Backward\n",
        "    loss.backward()\n",
        "    # Gradient Descent\n",
        "    optimizer.step()\n",
        "\n",
        "    train_loss += loss.item() * features.shape[0]\n",
        "\n",
        "    train_predicted = torch.round(outputs)\n",
        "    #if(len(predicted) == len(targets)):\n",
        "    train_correct += (train_predicted == targets).sum()\n",
        "\n",
        "  train_loss /= len(train_loader.dataset)\n",
        "\n",
        "  model.eval()\n",
        "  val_loss = 0.0\n",
        "\n",
        "  val_correct = 0\n",
        "  if (epoch + 1) % 1 == 0:\n",
        "    with torch.no_grad():\n",
        "      for features, targets in val_loader:\n",
        "          output = model(features)\n",
        "          val_loss += criterion(output, targets).item() * features.shape[0]\n",
        "\n",
        "          val_predicted = torch.round(output)\n",
        "          val_correct += (val_predicted == targets).sum()\n",
        "\n",
        "    val_loss /= len(val_loader.dataset)\n",
        "\n",
        "    print(f'Train loss at Epoch {epoch+1}/{num_epochs}: {train_loss}. // Train accuracy at Epoch {epoch+1}/{num_epochs}: {100*(train_correct/len(train_loader.dataset)):.2f}%.')\n",
        "    print(f'Validation loss at Epoch {epoch+1}/{num_epochs}: {val_loss}. // Validation accuracy at Epoch {epoch+1}/{num_epochs}: {100*(val_correct/len(val_loader.dataset)):.2f}%.')\n",
        "    print('-------------------------------------------------------------')"
      ]
    },
    {
      "cell_type": "code",
      "execution_count": null,
      "metadata": {
        "colab": {
          "base_uri": "https://localhost:8080/"
        },
        "id": "JE0lIx1sTP1s",
        "outputId": "3c8fd187-2bd9-422d-f8ad-08b0039989f1"
      },
      "outputs": [
        {
          "name": "stdout",
          "output_type": "stream",
          "text": [
            "tensor([0.5000])\n"
          ]
        }
      ],
      "source": [
        "model.eval()\n",
        "with torch.no_grad():\n",
        "  result = model(val_tensor.X[12])\n",
        "  print(result)"
      ]
    },
    {
      "cell_type": "code",
      "execution_count": null,
      "metadata": {
        "id": "rxpW3LxRLBa6"
      },
      "outputs": [],
      "source": [
        "model.eval()\n",
        "\n",
        "val_loss = 0.0\n",
        "with torch.no_grad():\n",
        "  for data, target in val_loader:\n",
        "      output = model(data)\n",
        "      val_loss += criterion(output, target).item() * data.size(0)\n",
        "val_loss /= len(val_loader.dataset)"
      ]
    },
    {
      "cell_type": "code",
      "execution_count": null,
      "metadata": {
        "colab": {
          "base_uri": "https://localhost:8080/"
        },
        "id": "3gfg0WnjN2e3",
        "outputId": "5c4f50d0-dda1-4e07-e857-167769705510"
      },
      "outputs": [
        {
          "data": {
            "text/plain": [
              "0.6737103019144097"
            ]
          },
          "execution_count": 94,
          "metadata": {},
          "output_type": "execute_result"
        }
      ],
      "source": [
        "val_loss"
      ]
    },
    {
      "cell_type": "code",
      "execution_count": null,
      "metadata": {
        "colab": {
          "base_uri": "https://localhost:8080/"
        },
        "id": "gEkwQz4NbhmK",
        "outputId": "efd48731-2ae3-4dc2-fd5b-d30ab36b7c01"
      },
      "outputs": [
        {
          "data": {
            "text/plain": [
              "1.0"
            ]
          },
          "execution_count": 95,
          "metadata": {},
          "output_type": "execute_result"
        }
      ],
      "source": [
        "train_numpy[0][0]"
      ]
    }
  ],
  "metadata": {
    "accelerator": "GPU",
    "colab": {
      "collapsed_sections": [
        "DBZoGSc2tBr1"
      ],
      "provenance": []
    },
    "gpuClass": "standard",
    "kernelspec": {
      "display_name": "Python 3",
      "name": "python3"
    },
    "language_info": {
      "codemirror_mode": {
        "name": "ipython",
        "version": 3
      },
      "file_extension": ".py",
      "mimetype": "text/x-python",
      "name": "python",
      "nbconvert_exporter": "python",
      "pygments_lexer": "ipython3",
      "version": "3.9.12"
    }
  },
  "nbformat": 4,
  "nbformat_minor": 0
}